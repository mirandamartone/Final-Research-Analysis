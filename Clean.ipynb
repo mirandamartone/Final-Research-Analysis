{
 "cells": [
  {
   "cell_type": "markdown",
   "metadata": {},
   "source": [
    "<center><h1>FINAL PROJECT</h1></center>\n",
    "<center><h2>Emily Smith & Miranda Martone</h2></center> \n",
    "_________________________________________________________________________________________________________________________________________"
   ]
  },
  {
   "cell_type": "markdown",
   "metadata": {},
   "source": [
    "## Loading packages & Data"
   ]
  },
  {
   "cell_type": "code",
   "execution_count": 1,
   "metadata": {},
   "outputs": [
    {
     "name": "stderr",
     "output_type": "stream",
     "text": [
      "\n",
      "Attaching package: ‘dplyr’\n",
      "\n",
      "The following objects are masked from ‘package:stats’:\n",
      "\n",
      "    filter, lag\n",
      "\n",
      "The following objects are masked from ‘package:base’:\n",
      "\n",
      "    intersect, setdiff, setequal, union\n",
      "\n",
      "Parsed with column specification:\n",
      "cols(\n",
      "  .default = col_double(),\n",
      "  states = \u001b[31mcol_character()\u001b[39m,\n",
      "  `effective date` = \u001b[31mcol_character()\u001b[39m,\n",
      "  `valid through date` = \u001b[31mcol_character()\u001b[39m\n",
      ")\n",
      "See spec(...) for full column specifications.\n",
      "Parsed with column specification:\n",
      "cols(\n",
      "  states = \u001b[31mcol_character()\u001b[39m,\n",
      "  percentage_single_mothers = \u001b[32mcol_double()\u001b[39m\n",
      ")\n"
     ]
    },
    {
     "data": {
      "text/html": [
       "<table>\n",
       "<caption>A tibble: 6 × 2</caption>\n",
       "<thead>\n",
       "\t<tr><th scope=col>states</th><th scope=col>percentage_single_mothers</th></tr>\n",
       "\t<tr><th scope=col>&lt;chr&gt;</th><th scope=col>&lt;dbl&gt;</th></tr>\n",
       "</thead>\n",
       "<tbody>\n",
       "\t<tr><td>Louisiana     </td><td>11.67</td></tr>\n",
       "\t<tr><td>Mississippi   </td><td>11.30</td></tr>\n",
       "\t<tr><td>New Mexico    </td><td> 9.69</td></tr>\n",
       "\t<tr><td>North Carolina</td><td> 9.53</td></tr>\n",
       "\t<tr><td>Georgia       </td><td> 9.51</td></tr>\n",
       "\t<tr><td>South Carolina</td><td> 8.94</td></tr>\n",
       "</tbody>\n",
       "</table>\n"
      ],
      "text/latex": [
       "A tibble: 6 × 2\n",
       "\\begin{tabular}{r|ll}\n",
       " states & percentage\\_single\\_mothers\\\\\n",
       " <chr> & <dbl>\\\\\n",
       "\\hline\n",
       "\t Louisiana      & 11.67\\\\\n",
       "\t Mississippi    & 11.30\\\\\n",
       "\t New Mexico     &  9.69\\\\\n",
       "\t North Carolina &  9.53\\\\\n",
       "\t Georgia        &  9.51\\\\\n",
       "\t South Carolina &  8.94\\\\\n",
       "\\end{tabular}\n"
      ],
      "text/markdown": [
       "\n",
       "A tibble: 6 × 2\n",
       "\n",
       "| states &lt;chr&gt; | percentage_single_mothers &lt;dbl&gt; |\n",
       "|---|---|\n",
       "| Louisiana      | 11.67 |\n",
       "| Mississippi    | 11.30 |\n",
       "| New Mexico     |  9.69 |\n",
       "| North Carolina |  9.53 |\n",
       "| Georgia        |  9.51 |\n",
       "| South Carolina |  8.94 |\n",
       "\n"
      ],
      "text/plain": [
       "  states         percentage_single_mothers\n",
       "1 Louisiana      11.67                    \n",
       "2 Mississippi    11.30                    \n",
       "3 New Mexico      9.69                    \n",
       "4 North Carolina  9.53                    \n",
       "5 Georgia         9.51                    \n",
       "6 South Carolina  8.94                    "
      ]
     },
     "metadata": {},
     "output_type": "display_data"
    },
    {
     "data": {
      "text/html": [
       "<table>\n",
       "<caption>A tibble: 6 × 44</caption>\n",
       "<thead>\n",
       "\t<tr><th scope=col>states</th><th scope=col>effective date</th><th scope=col>valid through date</th><th scope=col>ban_type</th><th scope=col>ban_time</th><th scope=col>prohibit_when_12 weeks postfertilization (14 weeks lmp)</th><th scope=col>prohibit_when_13 weeks postfertilization (15 weeks lmp)</th><th scope=col>prohibit_when_18 weeks postfertilization (20 weeks lmp)</th><th scope=col>prohibit_when20 weeks postfertilization (22 weeks lmp)</th><th scope=col>prohibit_when_22 weeks postfertilization (24 weeks lmp)</th><th scope=col>⋯</th><th scope=col>methods_procedpartial-birth abortions</th><th scope=col>methods_proceddismemberment abortions</th><th scope=col>methods_proced_saline method abortions</th><th scope=col>methods_exclife endangerment</th><th scope=col>methods_excserious health risk</th><th scope=col>methods_exc_fetal anomaly</th><th scope=col>methods_exc_no exceptions</th><th scope=col>limited_law</th><th scope=col>limited_court</th><th scope=col>limited_ag</th></tr>\n",
       "\t<tr><th scope=col>&lt;chr&gt;</th><th scope=col>&lt;chr&gt;</th><th scope=col>&lt;chr&gt;</th><th scope=col>&lt;dbl&gt;</th><th scope=col>&lt;dbl&gt;</th><th scope=col>&lt;dbl&gt;</th><th scope=col>&lt;dbl&gt;</th><th scope=col>&lt;dbl&gt;</th><th scope=col>&lt;dbl&gt;</th><th scope=col>&lt;dbl&gt;</th><th scope=col>⋯</th><th scope=col>&lt;dbl&gt;</th><th scope=col>&lt;dbl&gt;</th><th scope=col>&lt;dbl&gt;</th><th scope=col>&lt;dbl&gt;</th><th scope=col>&lt;dbl&gt;</th><th scope=col>&lt;dbl&gt;</th><th scope=col>&lt;dbl&gt;</th><th scope=col>&lt;dbl&gt;</th><th scope=col>&lt;dbl&gt;</th><th scope=col>&lt;dbl&gt;</th></tr>\n",
       "</thead>\n",
       "<tbody>\n",
       "\t<tr><td>Alabama   </td><td>10/26/2017</td><td>12/1/2018</td><td>1</td><td>1</td><td>0</td><td>0</td><td>0</td><td>1</td><td>0</td><td>⋯</td><td>1</td><td>1</td><td>0</td><td>1</td><td>1</td><td>0</td><td>0</td><td>1</td><td>1</td><td>0</td></tr>\n",
       "\t<tr><td>Alaska    </td><td>7/19/2017 </td><td>12/1/2018</td><td>1</td><td>0</td><td>3</td><td>3</td><td>3</td><td>3</td><td>3</td><td>⋯</td><td>1</td><td>0</td><td>0</td><td>0</td><td>0</td><td>0</td><td>1</td><td>0</td><td>0</td><td>0</td></tr>\n",
       "\t<tr><td>Arizona   </td><td>8/9/2017  </td><td>12/1/2018</td><td>1</td><td>1</td><td>0</td><td>0</td><td>1</td><td>0</td><td>0</td><td>⋯</td><td>1</td><td>0</td><td>0</td><td>1</td><td>0</td><td>0</td><td>0</td><td>1</td><td>1</td><td>0</td></tr>\n",
       "\t<tr><td>Arkansas  </td><td>1/1/2018  </td><td>12/1/2018</td><td>1</td><td>1</td><td>1</td><td>0</td><td>0</td><td>0</td><td>0</td><td>⋯</td><td>1</td><td>1</td><td>0</td><td>1</td><td>0</td><td>0</td><td>0</td><td>1</td><td>1</td><td>0</td></tr>\n",
       "\t<tr><td>California</td><td>1/1/2014  </td><td>12/1/2018</td><td>1</td><td>1</td><td>0</td><td>0</td><td>0</td><td>0</td><td>0</td><td>⋯</td><td>3</td><td>3</td><td>3</td><td>3</td><td>3</td><td>3</td><td>3</td><td>0</td><td>0</td><td>0</td></tr>\n",
       "\t<tr><td>Colorado  </td><td>12/1/2018 </td><td>12/1/2018</td><td>0</td><td>0</td><td>3</td><td>3</td><td>3</td><td>3</td><td>3</td><td>⋯</td><td>3</td><td>3</td><td>3</td><td>3</td><td>3</td><td>3</td><td>3</td><td>0</td><td>0</td><td>0</td></tr>\n",
       "</tbody>\n",
       "</table>\n"
      ],
      "text/latex": [
       "A tibble: 6 × 44\n",
       "\\begin{tabular}{r|llllllllllllllllllllllllllllllllllllllllllll}\n",
       " states & effective date & valid through date & ban\\_type & ban\\_time & prohibit\\_when\\_12 weeks postfertilization (14 weeks lmp) & prohibit\\_when\\_13 weeks postfertilization (15 weeks lmp) & prohibit\\_when\\_18 weeks postfertilization (20 weeks lmp) & prohibit\\_when20 weeks postfertilization (22 weeks lmp) & prohibit\\_when\\_22 weeks postfertilization (24 weeks lmp) & prohibit\\_when\\_24 weeks postfertilization (26 weeks lmp) & prohibit\\_when\\_25 weeks postfertilization (27 weeks lmp) & prohibit\\_when\\_viability & prohibit\\_when\\_3rd trimester & prohibit\\_when\\_fetal heartbeat & prohibit\\_exclife endangerment & prohibit\\_excserious health risk & prohibit\\_exc\\_fetal anomaly & prohibit\\_exc\\_rape & prohibit\\_exc\\_incest & prohibit\\_exc\\_health & exc\\_req\\_must be performed in a hospital & exc\\_reqmust use a method most likely to result in fetal survival & exc\\_req\\_second physician must participate & exc\\_req\\_second physician must certify the exception & exc\\_req\\_two other physicians must certify the exception & exc\\_req\\_second physician must attend the abortion & exc\\_req\\_no requirements & ban\\_reason & reason\\_what\\_race & reason\\_what\\_sex & reason\\_what\\_down syndrome & reason\\_what\\_fetal anomaly & ban\\_method & methods\\_procedpartial-birth abortions & methods\\_proceddismemberment abortions & methods\\_proced\\_saline method abortions & methods\\_exclife endangerment & methods\\_excserious health risk & methods\\_exc\\_fetal anomaly & methods\\_exc\\_no exceptions & limited\\_law & limited\\_court & limited\\_ag\\\\\n",
       " <chr> & <chr> & <chr> & <dbl> & <dbl> & <dbl> & <dbl> & <dbl> & <dbl> & <dbl> & <dbl> & <dbl> & <dbl> & <dbl> & <dbl> & <dbl> & <dbl> & <dbl> & <dbl> & <dbl> & <dbl> & <dbl> & <dbl> & <dbl> & <dbl> & <dbl> & <dbl> & <dbl> & <dbl> & <dbl> & <dbl> & <dbl> & <dbl> & <dbl> & <dbl> & <dbl> & <dbl> & <dbl> & <dbl> & <dbl> & <dbl> & <dbl> & <dbl> & <dbl>\\\\\n",
       "\\hline\n",
       "\t Alabama    & 10/26/2017 & 12/1/2018 & 1 & 1 & 0 & 0 & 0 & 1 & 0 & 0 & 0 & 0 & 0 & 0 & 1 & 1 & 0 & 0 & 0 & 0 & 0 & 1 & 0 & 0 & 0 & 0 & 0 & 0 & 3 & 3 & 3 & 3 & 1 & 1 & 1 & 0 & 1 & 1 & 0 & 0 & 1 & 1 & 0\\\\\n",
       "\t Alaska     & 7/19/2017  & 12/1/2018 & 1 & 0 & 3 & 3 & 3 & 3 & 3 & 3 & 3 & 3 & 3 & 3 & 3 & 3 & 3 & 3 & 3 & 3 & 3 & 3 & 3 & 3 & 3 & 3 & 3 & 0 & 3 & 3 & 3 & 3 & 1 & 1 & 0 & 0 & 0 & 0 & 0 & 1 & 0 & 0 & 0\\\\\n",
       "\t Arizona    & 8/9/2017   & 12/1/2018 & 1 & 1 & 0 & 0 & 1 & 0 & 0 & 0 & 0 & 0 & 0 & 0 & 1 & 1 & 0 & 0 & 0 & 0 & 0 & 0 & 0 & 0 & 0 & 0 & 1 & 1 & 1 & 1 & 0 & 0 & 1 & 1 & 0 & 0 & 1 & 0 & 0 & 0 & 1 & 1 & 0\\\\\n",
       "\t Arkansas   & 1/1/2018   & 12/1/2018 & 1 & 1 & 1 & 0 & 0 & 0 & 0 & 0 & 0 & 0 & 0 & 0 & 1 & 1 & 1 & 1 & 1 & 0 & 0 & 0 & 0 & 0 & 0 & 0 & 1 & 1 & 0 & 1 & 0 & 0 & 1 & 1 & 1 & 0 & 1 & 0 & 0 & 0 & 1 & 1 & 0\\\\\n",
       "\t California & 1/1/2014   & 12/1/2018 & 1 & 1 & 0 & 0 & 0 & 0 & 0 & 0 & 0 & 1 & 0 & 0 & 1 & 1 & 0 & 0 & 0 & 0 & 0 & 0 & 0 & 0 & 0 & 0 & 1 & 0 & 3 & 3 & 3 & 3 & 0 & 3 & 3 & 3 & 3 & 3 & 3 & 3 & 0 & 0 & 0\\\\\n",
       "\t Colorado   & 12/1/2018  & 12/1/2018 & 0 & 0 & 3 & 3 & 3 & 3 & 3 & 3 & 3 & 3 & 3 & 3 & 3 & 3 & 3 & 3 & 3 & 3 & 3 & 3 & 3 & 3 & 3 & 3 & 3 & 0 & 3 & 3 & 3 & 3 & 0 & 3 & 3 & 3 & 3 & 3 & 3 & 3 & 0 & 0 & 0\\\\\n",
       "\\end{tabular}\n"
      ],
      "text/markdown": [
       "\n",
       "A tibble: 6 × 44\n",
       "\n",
       "| states &lt;chr&gt; | effective date &lt;chr&gt; | valid through date &lt;chr&gt; | ban_type &lt;dbl&gt; | ban_time &lt;dbl&gt; | prohibit_when_12 weeks postfertilization (14 weeks lmp) &lt;dbl&gt; | prohibit_when_13 weeks postfertilization (15 weeks lmp) &lt;dbl&gt; | prohibit_when_18 weeks postfertilization (20 weeks lmp) &lt;dbl&gt; | prohibit_when20 weeks postfertilization (22 weeks lmp) &lt;dbl&gt; | prohibit_when_22 weeks postfertilization (24 weeks lmp) &lt;dbl&gt; | ⋯ ⋯ | methods_procedpartial-birth abortions &lt;dbl&gt; | methods_proceddismemberment abortions &lt;dbl&gt; | methods_proced_saline method abortions &lt;dbl&gt; | methods_exclife endangerment &lt;dbl&gt; | methods_excserious health risk &lt;dbl&gt; | methods_exc_fetal anomaly &lt;dbl&gt; | methods_exc_no exceptions &lt;dbl&gt; | limited_law &lt;dbl&gt; | limited_court &lt;dbl&gt; | limited_ag &lt;dbl&gt; |\n",
       "|---|---|---|---|---|---|---|---|---|---|---|---|---|---|---|---|---|---|---|---|---|\n",
       "| Alabama    | 10/26/2017 | 12/1/2018 | 1 | 1 | 0 | 0 | 0 | 1 | 0 | ⋯ | 1 | 1 | 0 | 1 | 1 | 0 | 0 | 1 | 1 | 0 |\n",
       "| Alaska     | 7/19/2017  | 12/1/2018 | 1 | 0 | 3 | 3 | 3 | 3 | 3 | ⋯ | 1 | 0 | 0 | 0 | 0 | 0 | 1 | 0 | 0 | 0 |\n",
       "| Arizona    | 8/9/2017   | 12/1/2018 | 1 | 1 | 0 | 0 | 1 | 0 | 0 | ⋯ | 1 | 0 | 0 | 1 | 0 | 0 | 0 | 1 | 1 | 0 |\n",
       "| Arkansas   | 1/1/2018   | 12/1/2018 | 1 | 1 | 1 | 0 | 0 | 0 | 0 | ⋯ | 1 | 1 | 0 | 1 | 0 | 0 | 0 | 1 | 1 | 0 |\n",
       "| California | 1/1/2014   | 12/1/2018 | 1 | 1 | 0 | 0 | 0 | 0 | 0 | ⋯ | 3 | 3 | 3 | 3 | 3 | 3 | 3 | 0 | 0 | 0 |\n",
       "| Colorado   | 12/1/2018  | 12/1/2018 | 0 | 0 | 3 | 3 | 3 | 3 | 3 | ⋯ | 3 | 3 | 3 | 3 | 3 | 3 | 3 | 0 | 0 | 0 |\n",
       "\n"
      ],
      "text/plain": [
       "  states     effective date valid through date ban_type ban_time\n",
       "1 Alabama    10/26/2017     12/1/2018          1        1       \n",
       "2 Alaska     7/19/2017      12/1/2018          1        0       \n",
       "3 Arizona    8/9/2017       12/1/2018          1        1       \n",
       "4 Arkansas   1/1/2018       12/1/2018          1        1       \n",
       "5 California 1/1/2014       12/1/2018          1        1       \n",
       "6 Colorado   12/1/2018      12/1/2018          0        0       \n",
       "  prohibit_when_12 weeks postfertilization (14 weeks lmp)\n",
       "1 0                                                      \n",
       "2 3                                                      \n",
       "3 0                                                      \n",
       "4 1                                                      \n",
       "5 0                                                      \n",
       "6 3                                                      \n",
       "  prohibit_when_13 weeks postfertilization (15 weeks lmp)\n",
       "1 0                                                      \n",
       "2 3                                                      \n",
       "3 0                                                      \n",
       "4 0                                                      \n",
       "5 0                                                      \n",
       "6 3                                                      \n",
       "  prohibit_when_18 weeks postfertilization (20 weeks lmp)\n",
       "1 0                                                      \n",
       "2 3                                                      \n",
       "3 1                                                      \n",
       "4 0                                                      \n",
       "5 0                                                      \n",
       "6 3                                                      \n",
       "  prohibit_when20 weeks postfertilization (22 weeks lmp)\n",
       "1 1                                                     \n",
       "2 3                                                     \n",
       "3 0                                                     \n",
       "4 0                                                     \n",
       "5 0                                                     \n",
       "6 3                                                     \n",
       "  prohibit_when_22 weeks postfertilization (24 weeks lmp) ⋯\n",
       "1 0                                                       ⋯\n",
       "2 3                                                       ⋯\n",
       "3 0                                                       ⋯\n",
       "4 0                                                       ⋯\n",
       "5 0                                                       ⋯\n",
       "6 3                                                       ⋯\n",
       "  methods_procedpartial-birth abortions methods_proceddismemberment abortions\n",
       "1 1                                     1                                    \n",
       "2 1                                     0                                    \n",
       "3 1                                     0                                    \n",
       "4 1                                     1                                    \n",
       "5 3                                     3                                    \n",
       "6 3                                     3                                    \n",
       "  methods_proced_saline method abortions methods_exclife endangerment\n",
       "1 0                                      1                           \n",
       "2 0                                      0                           \n",
       "3 0                                      1                           \n",
       "4 0                                      1                           \n",
       "5 3                                      3                           \n",
       "6 3                                      3                           \n",
       "  methods_excserious health risk methods_exc_fetal anomaly\n",
       "1 1                              0                        \n",
       "2 0                              0                        \n",
       "3 0                              0                        \n",
       "4 0                              0                        \n",
       "5 3                              3                        \n",
       "6 3                              3                        \n",
       "  methods_exc_no exceptions limited_law limited_court limited_ag\n",
       "1 0                         1           1             0         \n",
       "2 1                         0           0             0         \n",
       "3 0                         1           1             0         \n",
       "4 0                         1           1             0         \n",
       "5 3                         0           0             0         \n",
       "6 3                         0           0             0         "
      ]
     },
     "metadata": {},
     "output_type": "display_data"
    }
   ],
   "source": [
    "#Loading the readr and dplyr packages\n",
    "library(readr)\n",
    "library(dplyr)\n",
    "\n",
    "#Loading our two data files (csv's)\n",
    "df_abort <- read_csv(\"final_abortion_1.csv\")\n",
    "df_sm <- read_csv(\"final_single_mothers.csv\")\n",
    "\n",
    "#Using \"head\" to view the first 6 rows of our data\n",
    "head(df_sm)\n",
    "head(df_abort)"
   ]
  },
  {
   "cell_type": "markdown",
   "metadata": {},
   "source": [
    "## Creating our dataframe"
   ]
  },
  {
   "cell_type": "code",
   "execution_count": 2,
   "metadata": {},
   "outputs": [
    {
     "data": {
      "text/html": [
       "<table>\n",
       "<caption>A tibble: 6 × 45</caption>\n",
       "<thead>\n",
       "\t<tr><th scope=col>states</th><th scope=col>effective date</th><th scope=col>valid through date</th><th scope=col>ban_type</th><th scope=col>ban_time</th><th scope=col>prohibit_when_12 weeks postfertilization (14 weeks lmp)</th><th scope=col>prohibit_when_13 weeks postfertilization (15 weeks lmp)</th><th scope=col>prohibit_when_18 weeks postfertilization (20 weeks lmp)</th><th scope=col>prohibit_when20 weeks postfertilization (22 weeks lmp)</th><th scope=col>prohibit_when_22 weeks postfertilization (24 weeks lmp)</th><th scope=col>⋯</th><th scope=col>methods_proceddismemberment abortions</th><th scope=col>methods_proced_saline method abortions</th><th scope=col>methods_exclife endangerment</th><th scope=col>methods_excserious health risk</th><th scope=col>methods_exc_fetal anomaly</th><th scope=col>methods_exc_no exceptions</th><th scope=col>limited_law</th><th scope=col>limited_court</th><th scope=col>limited_ag</th><th scope=col>percentage_single_mothers</th></tr>\n",
       "\t<tr><th scope=col>&lt;chr&gt;</th><th scope=col>&lt;chr&gt;</th><th scope=col>&lt;chr&gt;</th><th scope=col>&lt;dbl&gt;</th><th scope=col>&lt;dbl&gt;</th><th scope=col>&lt;dbl&gt;</th><th scope=col>&lt;dbl&gt;</th><th scope=col>&lt;dbl&gt;</th><th scope=col>&lt;dbl&gt;</th><th scope=col>&lt;dbl&gt;</th><th scope=col>⋯</th><th scope=col>&lt;dbl&gt;</th><th scope=col>&lt;dbl&gt;</th><th scope=col>&lt;dbl&gt;</th><th scope=col>&lt;dbl&gt;</th><th scope=col>&lt;dbl&gt;</th><th scope=col>&lt;dbl&gt;</th><th scope=col>&lt;dbl&gt;</th><th scope=col>&lt;dbl&gt;</th><th scope=col>&lt;dbl&gt;</th><th scope=col>&lt;dbl&gt;</th></tr>\n",
       "</thead>\n",
       "<tbody>\n",
       "\t<tr><td>Louisiana     </td><td>5/23/2018 </td><td>12/1/2018</td><td>1</td><td>1</td><td>0</td><td>0</td><td>0</td><td>1</td><td>0</td><td>⋯</td><td>1</td><td>0</td><td>1</td><td>1</td><td>0</td><td>0</td><td>1</td><td>1</td><td>0</td><td>11.67</td></tr>\n",
       "\t<tr><td>Mississippi   </td><td>11/20/2018</td><td>12/1/2018</td><td>1</td><td>1</td><td>0</td><td>1</td><td>0</td><td>0</td><td>0</td><td>⋯</td><td>1</td><td>0</td><td>1</td><td>1</td><td>0</td><td>0</td><td>1</td><td>1</td><td>0</td><td>11.30</td></tr>\n",
       "\t<tr><td>New Mexico    </td><td>5/17/2000 </td><td>12/1/2018</td><td>1</td><td>0</td><td>3</td><td>3</td><td>3</td><td>3</td><td>3</td><td>⋯</td><td>0</td><td>0</td><td>1</td><td>1</td><td>0</td><td>0</td><td>0</td><td>0</td><td>0</td><td> 9.69</td></tr>\n",
       "\t<tr><td>North Carolina</td><td>10/1/2015 </td><td>12/1/2018</td><td>1</td><td>1</td><td>0</td><td>0</td><td>0</td><td>1</td><td>0</td><td>⋯</td><td>3</td><td>3</td><td>3</td><td>3</td><td>3</td><td>3</td><td>0</td><td>0</td><td>0</td><td> 9.53</td></tr>\n",
       "\t<tr><td>Georgia       </td><td>5/9/2017  </td><td>12/1/2018</td><td>1</td><td>1</td><td>0</td><td>0</td><td>0</td><td>1</td><td>0</td><td>⋯</td><td>0</td><td>0</td><td>1</td><td>0</td><td>0</td><td>0</td><td>0</td><td>0</td><td>0</td><td> 9.51</td></tr>\n",
       "\t<tr><td>South Carolina</td><td>5/25/2016 </td><td>12/1/2018</td><td>1</td><td>1</td><td>0</td><td>0</td><td>0</td><td>1</td><td>0</td><td>⋯</td><td>0</td><td>0</td><td>1</td><td>1</td><td>0</td><td>0</td><td>0</td><td>0</td><td>0</td><td> 8.94</td></tr>\n",
       "</tbody>\n",
       "</table>\n"
      ],
      "text/latex": [
       "A tibble: 6 × 45\n",
       "\\begin{tabular}{r|lllllllllllllllllllllllllllllllllllllllllllll}\n",
       " states & effective date & valid through date & ban\\_type & ban\\_time & prohibit\\_when\\_12 weeks postfertilization (14 weeks lmp) & prohibit\\_when\\_13 weeks postfertilization (15 weeks lmp) & prohibit\\_when\\_18 weeks postfertilization (20 weeks lmp) & prohibit\\_when20 weeks postfertilization (22 weeks lmp) & prohibit\\_when\\_22 weeks postfertilization (24 weeks lmp) & prohibit\\_when\\_24 weeks postfertilization (26 weeks lmp) & prohibit\\_when\\_25 weeks postfertilization (27 weeks lmp) & prohibit\\_when\\_viability & prohibit\\_when\\_3rd trimester & prohibit\\_when\\_fetal heartbeat & prohibit\\_exclife endangerment & prohibit\\_excserious health risk & prohibit\\_exc\\_fetal anomaly & prohibit\\_exc\\_rape & prohibit\\_exc\\_incest & prohibit\\_exc\\_health & exc\\_req\\_must be performed in a hospital & exc\\_reqmust use a method most likely to result in fetal survival & exc\\_req\\_second physician must participate & exc\\_req\\_second physician must certify the exception & exc\\_req\\_two other physicians must certify the exception & exc\\_req\\_second physician must attend the abortion & exc\\_req\\_no requirements & ban\\_reason & reason\\_what\\_race & reason\\_what\\_sex & reason\\_what\\_down syndrome & reason\\_what\\_fetal anomaly & ban\\_method & methods\\_procedpartial-birth abortions & methods\\_proceddismemberment abortions & methods\\_proced\\_saline method abortions & methods\\_exclife endangerment & methods\\_excserious health risk & methods\\_exc\\_fetal anomaly & methods\\_exc\\_no exceptions & limited\\_law & limited\\_court & limited\\_ag & percentage\\_single\\_mothers\\\\\n",
       " <chr> & <chr> & <chr> & <dbl> & <dbl> & <dbl> & <dbl> & <dbl> & <dbl> & <dbl> & <dbl> & <dbl> & <dbl> & <dbl> & <dbl> & <dbl> & <dbl> & <dbl> & <dbl> & <dbl> & <dbl> & <dbl> & <dbl> & <dbl> & <dbl> & <dbl> & <dbl> & <dbl> & <dbl> & <dbl> & <dbl> & <dbl> & <dbl> & <dbl> & <dbl> & <dbl> & <dbl> & <dbl> & <dbl> & <dbl> & <dbl> & <dbl> & <dbl> & <dbl> & <dbl>\\\\\n",
       "\\hline\n",
       "\t Louisiana      & 5/23/2018  & 12/1/2018 & 1 & 1 & 0 & 0 & 0 & 1 & 0 & 0 & 0 & 0 & 0 & 0 & 1 & 1 & 1 & 0 & 0 & 0 & 0 & 0 & 0 & 0 & 0 & 0 & 1 & 1 & 0 & 0 & 1 & 1 & 1 & 1 & 1 & 0 & 1 & 1 & 0 & 0 & 1 & 1 & 0 & 11.67\\\\\n",
       "\t Mississippi    & 11/20/2018 & 12/1/2018 & 1 & 1 & 0 & 1 & 0 & 0 & 0 & 0 & 0 & 0 & 0 & 0 & 1 & 1 & 1 & 0 & 0 & 0 & 0 & 0 & 0 & 0 & 0 & 0 & 1 & 0 & 3 & 3 & 3 & 3 & 1 & 1 & 1 & 0 & 1 & 1 & 0 & 0 & 1 & 1 & 0 & 11.30\\\\\n",
       "\t New Mexico     & 5/17/2000  & 12/1/2018 & 1 & 0 & 3 & 3 & 3 & 3 & 3 & 3 & 3 & 3 & 3 & 3 & 3 & 3 & 3 & 3 & 3 & 3 & 3 & 3 & 3 & 3 & 3 & 3 & 3 & 0 & 3 & 3 & 3 & 3 & 1 & 1 & 0 & 0 & 1 & 1 & 0 & 0 & 0 & 0 & 0 &  9.69\\\\\n",
       "\t North Carolina & 10/1/2015  & 12/1/2018 & 1 & 1 & 0 & 0 & 0 & 1 & 0 & 0 & 0 & 0 & 0 & 0 & 1 & 1 & 0 & 0 & 0 & 0 & 0 & 0 & 0 & 0 & 0 & 0 & 1 & 1 & 0 & 1 & 0 & 0 & 0 & 3 & 3 & 3 & 3 & 3 & 3 & 3 & 0 & 0 & 0 &  9.53\\\\\n",
       "\t Georgia        & 5/9/2017   & 12/1/2018 & 1 & 1 & 0 & 0 & 0 & 1 & 0 & 0 & 0 & 0 & 0 & 0 & 1 & 1 & 1 & 0 & 0 & 0 & 0 & 1 & 0 & 0 & 1 & 0 & 0 & 0 & 3 & 3 & 3 & 3 & 1 & 1 & 0 & 0 & 1 & 0 & 0 & 0 & 0 & 0 & 0 &  9.51\\\\\n",
       "\t South Carolina & 5/25/2016  & 12/1/2018 & 1 & 1 & 0 & 0 & 0 & 1 & 0 & 0 & 0 & 0 & 0 & 0 & 1 & 1 & 1 & 0 & 0 & 0 & 1 & 1 & 0 & 1 & 0 & 0 & 0 & 0 & 3 & 3 & 3 & 3 & 1 & 1 & 0 & 0 & 1 & 1 & 0 & 0 & 0 & 0 & 0 &  8.94\\\\\n",
       "\\end{tabular}\n"
      ],
      "text/markdown": [
       "\n",
       "A tibble: 6 × 45\n",
       "\n",
       "| states &lt;chr&gt; | effective date &lt;chr&gt; | valid through date &lt;chr&gt; | ban_type &lt;dbl&gt; | ban_time &lt;dbl&gt; | prohibit_when_12 weeks postfertilization (14 weeks lmp) &lt;dbl&gt; | prohibit_when_13 weeks postfertilization (15 weeks lmp) &lt;dbl&gt; | prohibit_when_18 weeks postfertilization (20 weeks lmp) &lt;dbl&gt; | prohibit_when20 weeks postfertilization (22 weeks lmp) &lt;dbl&gt; | prohibit_when_22 weeks postfertilization (24 weeks lmp) &lt;dbl&gt; | ⋯ ⋯ | methods_proceddismemberment abortions &lt;dbl&gt; | methods_proced_saline method abortions &lt;dbl&gt; | methods_exclife endangerment &lt;dbl&gt; | methods_excserious health risk &lt;dbl&gt; | methods_exc_fetal anomaly &lt;dbl&gt; | methods_exc_no exceptions &lt;dbl&gt; | limited_law &lt;dbl&gt; | limited_court &lt;dbl&gt; | limited_ag &lt;dbl&gt; | percentage_single_mothers &lt;dbl&gt; |\n",
       "|---|---|---|---|---|---|---|---|---|---|---|---|---|---|---|---|---|---|---|---|---|\n",
       "| Louisiana      | 5/23/2018  | 12/1/2018 | 1 | 1 | 0 | 0 | 0 | 1 | 0 | ⋯ | 1 | 0 | 1 | 1 | 0 | 0 | 1 | 1 | 0 | 11.67 |\n",
       "| Mississippi    | 11/20/2018 | 12/1/2018 | 1 | 1 | 0 | 1 | 0 | 0 | 0 | ⋯ | 1 | 0 | 1 | 1 | 0 | 0 | 1 | 1 | 0 | 11.30 |\n",
       "| New Mexico     | 5/17/2000  | 12/1/2018 | 1 | 0 | 3 | 3 | 3 | 3 | 3 | ⋯ | 0 | 0 | 1 | 1 | 0 | 0 | 0 | 0 | 0 |  9.69 |\n",
       "| North Carolina | 10/1/2015  | 12/1/2018 | 1 | 1 | 0 | 0 | 0 | 1 | 0 | ⋯ | 3 | 3 | 3 | 3 | 3 | 3 | 0 | 0 | 0 |  9.53 |\n",
       "| Georgia        | 5/9/2017   | 12/1/2018 | 1 | 1 | 0 | 0 | 0 | 1 | 0 | ⋯ | 0 | 0 | 1 | 0 | 0 | 0 | 0 | 0 | 0 |  9.51 |\n",
       "| South Carolina | 5/25/2016  | 12/1/2018 | 1 | 1 | 0 | 0 | 0 | 1 | 0 | ⋯ | 0 | 0 | 1 | 1 | 0 | 0 | 0 | 0 | 0 |  8.94 |\n",
       "\n"
      ],
      "text/plain": [
       "  states         effective date valid through date ban_type ban_time\n",
       "1 Louisiana      5/23/2018      12/1/2018          1        1       \n",
       "2 Mississippi    11/20/2018     12/1/2018          1        1       \n",
       "3 New Mexico     5/17/2000      12/1/2018          1        0       \n",
       "4 North Carolina 10/1/2015      12/1/2018          1        1       \n",
       "5 Georgia        5/9/2017       12/1/2018          1        1       \n",
       "6 South Carolina 5/25/2016      12/1/2018          1        1       \n",
       "  prohibit_when_12 weeks postfertilization (14 weeks lmp)\n",
       "1 0                                                      \n",
       "2 0                                                      \n",
       "3 3                                                      \n",
       "4 0                                                      \n",
       "5 0                                                      \n",
       "6 0                                                      \n",
       "  prohibit_when_13 weeks postfertilization (15 weeks lmp)\n",
       "1 0                                                      \n",
       "2 1                                                      \n",
       "3 3                                                      \n",
       "4 0                                                      \n",
       "5 0                                                      \n",
       "6 0                                                      \n",
       "  prohibit_when_18 weeks postfertilization (20 weeks lmp)\n",
       "1 0                                                      \n",
       "2 0                                                      \n",
       "3 3                                                      \n",
       "4 0                                                      \n",
       "5 0                                                      \n",
       "6 0                                                      \n",
       "  prohibit_when20 weeks postfertilization (22 weeks lmp)\n",
       "1 1                                                     \n",
       "2 0                                                     \n",
       "3 3                                                     \n",
       "4 1                                                     \n",
       "5 1                                                     \n",
       "6 1                                                     \n",
       "  prohibit_when_22 weeks postfertilization (24 weeks lmp) ⋯\n",
       "1 0                                                       ⋯\n",
       "2 0                                                       ⋯\n",
       "3 3                                                       ⋯\n",
       "4 0                                                       ⋯\n",
       "5 0                                                       ⋯\n",
       "6 0                                                       ⋯\n",
       "  methods_proceddismemberment abortions methods_proced_saline method abortions\n",
       "1 1                                     0                                     \n",
       "2 1                                     0                                     \n",
       "3 0                                     0                                     \n",
       "4 3                                     3                                     \n",
       "5 0                                     0                                     \n",
       "6 0                                     0                                     \n",
       "  methods_exclife endangerment methods_excserious health risk\n",
       "1 1                            1                             \n",
       "2 1                            1                             \n",
       "3 1                            1                             \n",
       "4 3                            3                             \n",
       "5 1                            0                             \n",
       "6 1                            1                             \n",
       "  methods_exc_fetal anomaly methods_exc_no exceptions limited_law limited_court\n",
       "1 0                         0                         1           1            \n",
       "2 0                         0                         1           1            \n",
       "3 0                         0                         0           0            \n",
       "4 3                         3                         0           0            \n",
       "5 0                         0                         0           0            \n",
       "6 0                         0                         0           0            \n",
       "  limited_ag percentage_single_mothers\n",
       "1 0          11.67                    \n",
       "2 0          11.30                    \n",
       "3 0           9.69                    \n",
       "4 0           9.53                    \n",
       "5 0           9.51                    \n",
       "6 0           8.94                    "
      ]
     },
     "metadata": {},
     "output_type": "display_data"
    }
   ],
   "source": [
    "#Creating a new dataframe by joining our data based on \"states\"\n",
    "df_joined <- df_abort %>% right_join(df_sm, by=c(\"states\"))\n",
    "head(df_joined)"
   ]
  },
  {
   "cell_type": "code",
   "execution_count": 3,
   "metadata": {},
   "outputs": [
    {
     "data": {
      "text/html": [
       "<table>\n",
       "<caption>A tibble: 6 × 6</caption>\n",
       "<thead>\n",
       "\t<tr><th scope=col>states</th><th scope=col>ban_type</th><th scope=col>ban_time</th><th scope=col>ban_reason</th><th scope=col>ban_method</th><th scope=col>percentage_single_mothers</th></tr>\n",
       "\t<tr><th scope=col>&lt;chr&gt;</th><th scope=col>&lt;dbl&gt;</th><th scope=col>&lt;dbl&gt;</th><th scope=col>&lt;dbl&gt;</th><th scope=col>&lt;dbl&gt;</th><th scope=col>&lt;dbl&gt;</th></tr>\n",
       "</thead>\n",
       "<tbody>\n",
       "\t<tr><td>Louisiana     </td><td>1</td><td>1</td><td>1</td><td>1</td><td>11.67</td></tr>\n",
       "\t<tr><td>Mississippi   </td><td>1</td><td>1</td><td>0</td><td>1</td><td>11.30</td></tr>\n",
       "\t<tr><td>New Mexico    </td><td>1</td><td>0</td><td>0</td><td>1</td><td> 9.69</td></tr>\n",
       "\t<tr><td>North Carolina</td><td>1</td><td>1</td><td>1</td><td>0</td><td> 9.53</td></tr>\n",
       "\t<tr><td>Georgia       </td><td>1</td><td>1</td><td>0</td><td>1</td><td> 9.51</td></tr>\n",
       "\t<tr><td>South Carolina</td><td>1</td><td>1</td><td>0</td><td>1</td><td> 8.94</td></tr>\n",
       "</tbody>\n",
       "</table>\n"
      ],
      "text/latex": [
       "A tibble: 6 × 6\n",
       "\\begin{tabular}{r|llllll}\n",
       " states & ban\\_type & ban\\_time & ban\\_reason & ban\\_method & percentage\\_single\\_mothers\\\\\n",
       " <chr> & <dbl> & <dbl> & <dbl> & <dbl> & <dbl>\\\\\n",
       "\\hline\n",
       "\t Louisiana      & 1 & 1 & 1 & 1 & 11.67\\\\\n",
       "\t Mississippi    & 1 & 1 & 0 & 1 & 11.30\\\\\n",
       "\t New Mexico     & 1 & 0 & 0 & 1 &  9.69\\\\\n",
       "\t North Carolina & 1 & 1 & 1 & 0 &  9.53\\\\\n",
       "\t Georgia        & 1 & 1 & 0 & 1 &  9.51\\\\\n",
       "\t South Carolina & 1 & 1 & 0 & 1 &  8.94\\\\\n",
       "\\end{tabular}\n"
      ],
      "text/markdown": [
       "\n",
       "A tibble: 6 × 6\n",
       "\n",
       "| states &lt;chr&gt; | ban_type &lt;dbl&gt; | ban_time &lt;dbl&gt; | ban_reason &lt;dbl&gt; | ban_method &lt;dbl&gt; | percentage_single_mothers &lt;dbl&gt; |\n",
       "|---|---|---|---|---|---|\n",
       "| Louisiana      | 1 | 1 | 1 | 1 | 11.67 |\n",
       "| Mississippi    | 1 | 1 | 0 | 1 | 11.30 |\n",
       "| New Mexico     | 1 | 0 | 0 | 1 |  9.69 |\n",
       "| North Carolina | 1 | 1 | 1 | 0 |  9.53 |\n",
       "| Georgia        | 1 | 1 | 0 | 1 |  9.51 |\n",
       "| South Carolina | 1 | 1 | 0 | 1 |  8.94 |\n",
       "\n"
      ],
      "text/plain": [
       "  states         ban_type ban_time ban_reason ban_method\n",
       "1 Louisiana      1        1        1          1         \n",
       "2 Mississippi    1        1        0          1         \n",
       "3 New Mexico     1        0        0          1         \n",
       "4 North Carolina 1        1        1          0         \n",
       "5 Georgia        1        1        0          1         \n",
       "6 South Carolina 1        1        0          1         \n",
       "  percentage_single_mothers\n",
       "1 11.67                    \n",
       "2 11.30                    \n",
       "3  9.69                    \n",
       "4  9.53                    \n",
       "5  9.51                    \n",
       "6  8.94                    "
      ]
     },
     "metadata": {},
     "output_type": "display_data"
    }
   ],
   "source": [
    "#Creating a subset of our full dataframe that only includes the columns we need\n",
    "df_final <- unique(df_joined[, c(\"states\", \"ban_type\", \"ban_time\",\"ban_reason\", \"ban_method\", \"percentage_single_mothers\")])\n",
    "head(df_final)"
   ]
  },
  {
   "cell_type": "markdown",
   "metadata": {},
   "source": [
    "## Running an individual test for any type of abortion ban"
   ]
  },
  {
   "cell_type": "code",
   "execution_count": 4,
   "metadata": {},
   "outputs": [
    {
     "data": {
      "text/plain": [
       "\n",
       "\tWelch Two Sample t-test\n",
       "\n",
       "data:  type_y$percentage_single_mothers and type_n$percentage_single_mothers\n",
       "t = 2.917, df = 21.662, p-value = 0.00807\n",
       "alternative hypothesis: true difference in means is not equal to 0\n",
       "95 percent confidence interval:\n",
       " 0.244017 1.448205\n",
       "sample estimates:\n",
       "mean of x mean of y \n",
       " 7.357778  6.511667 \n"
      ]
     },
     "metadata": {},
     "output_type": "display_data"
    }
   ],
   "source": [
    "#Reshaping our data by filtering for whether or not there is a ban on abortion type \n",
    "type_y <- df_final  %>%\n",
    "    filter(ban_type == \"1\")\n",
    "\n",
    "type_n <- df_final  %>%\n",
    "    filter(ban_type == \"0\")\n",
    "\n",
    "#Running t-test to determine if there is a statistically significant relaitonship between the following\n",
    "#State legilstion banning certain abortion types and the percentage of single mothers\n",
    "t_test_type <- t.test(type_y$percentage_single_mothers, type_n$percentage_single_mothers)\n",
    "t_test_type"
   ]
  },
  {
   "cell_type": "markdown",
   "metadata": {},
   "source": [
    "## Running an individual test for time-specific abortion bans"
   ]
  },
  {
   "cell_type": "code",
   "execution_count": 5,
   "metadata": {},
   "outputs": [
    {
     "data": {
      "text/plain": [
       "\n",
       "\tWelch Two Sample t-test\n",
       "\n",
       "data:  time_y$percentage_single_mothers and time_n$percentage_single_mothers\n",
       "t = 1.2218, df = 17.468, p-value = 0.238\n",
       "alternative hypothesis: true difference in means is not equal to 0\n",
       "95 percent confidence interval:\n",
       " -0.3690924  1.3896778\n",
       "sample estimates:\n",
       "mean of x mean of y \n",
       " 7.358293  6.848000 \n"
      ]
     },
     "metadata": {},
     "output_type": "display_data"
    }
   ],
   "source": [
    "#Reshaping our data by filtering for whether or not there is a time-specific abortion ban\n",
    "time_y <- df_final  %>%\n",
    "    filter(ban_time == \"1\")\n",
    "\n",
    "time_n <- df_final  %>%\n",
    "    filter(ban_time == \"0\")\n",
    "\n",
    "#Running t-test to determine if there is a statistically significant relaitonship between the following\n",
    "#State legilstion with a time-specific abortion ban and the percentage of single mothers\n",
    "t_test_time <- t.test(time_y$percentage_single_mothers, time_n$percentage_single_mothers)\n",
    "t_test_time"
   ]
  },
  {
   "cell_type": "markdown",
   "metadata": {},
   "source": [
    "## Running an individual test for reason-specific abortion bans"
   ]
  },
  {
   "cell_type": "code",
   "execution_count": 6,
   "metadata": {},
   "outputs": [
    {
     "data": {
      "text/plain": [
       "\n",
       "\tWelch Two Sample t-test\n",
       "\n",
       "data:  reason_y$percentage_single_mothers and reason_n$percentage_single_mothers\n",
       "t = 1.4802, df = 16.16, p-value = 0.1581\n",
       "alternative hypothesis: true difference in means is not equal to 0\n",
       "95 percent confidence interval:\n",
       " -0.3171247  1.7885349\n",
       "sample estimates:\n",
       "mean of x mean of y \n",
       " 7.820833  7.085128 \n"
      ]
     },
     "metadata": {},
     "output_type": "display_data"
    }
   ],
   "source": [
    "#Reshaping our data by filtering for whether or not there is a reason-specific abortion ban\n",
    "reason_y <- df_final  %>%\n",
    "    filter(ban_reason == \"1\")\n",
    "\n",
    "reason_n <- df_final  %>%\n",
    "    filter(ban_reason == \"0\")\n",
    "\n",
    "#Running t-test to determine if there is a statistically significant relaitonship between the following\n",
    "#State legilstion with a reason-specific abortion ban and the percentage of single mothers\n",
    "t_test_reason <- t.test(reason_y$percentage_single_mothers, reason_n$percentage_single_mothers)\n",
    "t_test_reason"
   ]
  },
  {
   "cell_type": "markdown",
   "metadata": {},
   "source": [
    "## Running an individual test for method-specific abortion bans"
   ]
  },
  {
   "cell_type": "code",
   "execution_count": 7,
   "metadata": {},
   "outputs": [
    {
     "data": {
      "text/plain": [
       "\n",
       "\tWelch Two Sample t-test\n",
       "\n",
       "data:  method_y$percentage_single_mothers and method_n$percentage_single_mothers\n",
       "t = 0.91276, df = 48.637, p-value = 0.3659\n",
       "alternative hypothesis: true difference in means is not equal to 0\n",
       "95 percent confidence interval:\n",
       " -0.3899389  1.0387268\n",
       "sample estimates:\n",
       "mean of x mean of y \n",
       " 7.372727  7.048333 \n"
      ]
     },
     "metadata": {},
     "output_type": "display_data"
    }
   ],
   "source": [
    "#Reshaping our data by filtering for whether or not there is a method-specific abortion ban\n",
    "method_y <- df_final  %>%\n",
    "    filter(ban_method == \"1\")\n",
    "\n",
    "method_n <- df_final  %>%\n",
    "    filter(ban_method == \"0\")\n",
    "\n",
    "#Running t-test to determine if there is a statistically significant relaitonship between the following\n",
    "#State legilstion with a method-specific abortion ban and the percentage of single mothers\n",
    "t_test_method <- t.test(method_y$percentage_single_mothers, method_n$percentage_single_mothers)\n",
    "t_test_method"
   ]
  },
  {
   "cell_type": "markdown",
   "metadata": {},
   "source": [
    "## Creating the \"ban severity scale\""
   ]
  },
  {
   "cell_type": "code",
   "execution_count": 10,
   "metadata": {},
   "outputs": [
    {
     "data": {
      "text/html": [
       "<table>\n",
       "<caption>A tibble: 6 × 8</caption>\n",
       "<thead>\n",
       "\t<tr><th scope=col>states</th><th scope=col>ban_type</th><th scope=col>ban_time</th><th scope=col>ban_reason</th><th scope=col>ban_method</th><th scope=col>percentage_single_mothers</th><th scope=col>ban_scale2</th><th scope=col>ban_scale</th></tr>\n",
       "\t<tr><th scope=col>&lt;chr&gt;</th><th scope=col>&lt;dbl&gt;</th><th scope=col>&lt;dbl&gt;</th><th scope=col>&lt;dbl&gt;</th><th scope=col>&lt;dbl&gt;</th><th scope=col>&lt;dbl&gt;</th><th scope=col>&lt;dbl&gt;</th><th scope=col>&lt;dbl&gt;</th></tr>\n",
       "</thead>\n",
       "<tbody>\n",
       "\t<tr><td>Louisiana     </td><td>1</td><td>1</td><td>1</td><td>1</td><td>11.67</td><td>4</td><td>4</td></tr>\n",
       "\t<tr><td>Mississippi   </td><td>1</td><td>1</td><td>0</td><td>1</td><td>11.30</td><td>3</td><td>3</td></tr>\n",
       "\t<tr><td>New Mexico    </td><td>1</td><td>0</td><td>0</td><td>1</td><td> 9.69</td><td>2</td><td>2</td></tr>\n",
       "\t<tr><td>North Carolina</td><td>1</td><td>1</td><td>1</td><td>0</td><td> 9.53</td><td>3</td><td>3</td></tr>\n",
       "\t<tr><td>Georgia       </td><td>1</td><td>1</td><td>0</td><td>1</td><td> 9.51</td><td>3</td><td>3</td></tr>\n",
       "\t<tr><td>South Carolina</td><td>1</td><td>1</td><td>0</td><td>1</td><td> 8.94</td><td>3</td><td>3</td></tr>\n",
       "</tbody>\n",
       "</table>\n"
      ],
      "text/latex": [
       "A tibble: 6 × 8\n",
       "\\begin{tabular}{r|llllllll}\n",
       " states & ban\\_type & ban\\_time & ban\\_reason & ban\\_method & percentage\\_single\\_mothers & ban\\_scale2 & ban\\_scale\\\\\n",
       " <chr> & <dbl> & <dbl> & <dbl> & <dbl> & <dbl> & <dbl> & <dbl>\\\\\n",
       "\\hline\n",
       "\t Louisiana      & 1 & 1 & 1 & 1 & 11.67 & 4 & 4\\\\\n",
       "\t Mississippi    & 1 & 1 & 0 & 1 & 11.30 & 3 & 3\\\\\n",
       "\t New Mexico     & 1 & 0 & 0 & 1 &  9.69 & 2 & 2\\\\\n",
       "\t North Carolina & 1 & 1 & 1 & 0 &  9.53 & 3 & 3\\\\\n",
       "\t Georgia        & 1 & 1 & 0 & 1 &  9.51 & 3 & 3\\\\\n",
       "\t South Carolina & 1 & 1 & 0 & 1 &  8.94 & 3 & 3\\\\\n",
       "\\end{tabular}\n"
      ],
      "text/markdown": [
       "\n",
       "A tibble: 6 × 8\n",
       "\n",
       "| states &lt;chr&gt; | ban_type &lt;dbl&gt; | ban_time &lt;dbl&gt; | ban_reason &lt;dbl&gt; | ban_method &lt;dbl&gt; | percentage_single_mothers &lt;dbl&gt; | ban_scale2 &lt;dbl&gt; | ban_scale &lt;dbl&gt; |\n",
       "|---|---|---|---|---|---|---|---|\n",
       "| Louisiana      | 1 | 1 | 1 | 1 | 11.67 | 4 | 4 |\n",
       "| Mississippi    | 1 | 1 | 0 | 1 | 11.30 | 3 | 3 |\n",
       "| New Mexico     | 1 | 0 | 0 | 1 |  9.69 | 2 | 2 |\n",
       "| North Carolina | 1 | 1 | 1 | 0 |  9.53 | 3 | 3 |\n",
       "| Georgia        | 1 | 1 | 0 | 1 |  9.51 | 3 | 3 |\n",
       "| South Carolina | 1 | 1 | 0 | 1 |  8.94 | 3 | 3 |\n",
       "\n"
      ],
      "text/plain": [
       "  states         ban_type ban_time ban_reason ban_method\n",
       "1 Louisiana      1        1        1          1         \n",
       "2 Mississippi    1        1        0          1         \n",
       "3 New Mexico     1        0        0          1         \n",
       "4 North Carolina 1        1        1          0         \n",
       "5 Georgia        1        1        0          1         \n",
       "6 South Carolina 1        1        0          1         \n",
       "  percentage_single_mothers ban_scale2 ban_scale\n",
       "1 11.67                     4          4        \n",
       "2 11.30                     3          3        \n",
       "3  9.69                     2          2        \n",
       "4  9.53                     3          3        \n",
       "5  9.51                     3          3        \n",
       "6  8.94                     3          3        "
      ]
     },
     "metadata": {},
     "output_type": "display_data"
    },
    {
     "data": {
      "text/plain": [
       "    states             ban_type         ban_time        ban_reason    \n",
       " Length:52          Min.   :0.0000   Min.   :0.0000   Min.   :0.0000  \n",
       " Class :character   1st Qu.:1.0000   1st Qu.:1.0000   1st Qu.:0.0000  \n",
       " Mode  :character   Median :1.0000   Median :1.0000   Median :0.0000  \n",
       "                    Mean   :0.8824   Mean   :0.8039   Mean   :0.2353  \n",
       "                    3rd Qu.:1.0000   3rd Qu.:1.0000   3rd Qu.:0.0000  \n",
       "                    Max.   :1.0000   Max.   :1.0000   Max.   :1.0000  \n",
       "                    NA's   :1        NA's   :1        NA's   :1       \n",
       "   ban_method     percentage_single_mothers   ban_scale2      ban_scale    \n",
       " Min.   :0.0000   Min.   : 4.780            Min.   :0.000   Min.   :0.000  \n",
       " 1st Qu.:0.0000   1st Qu.: 6.425            1st Qu.:2.000   1st Qu.:2.000  \n",
       " Median :1.0000   Median : 7.120            Median :3.000   Median :3.000  \n",
       " Mean   :0.6471   Mean   : 7.263            Mean   :2.569   Mean   :2.569  \n",
       " 3rd Qu.:1.0000   3rd Qu.: 7.803            3rd Qu.:3.000   3rd Qu.:3.000  \n",
       " Max.   :1.0000   Max.   :11.670            Max.   :4.000   Max.   :4.000  \n",
       " NA's   :1                                  NA's   :1       NA's   :1      "
      ]
     },
     "metadata": {},
     "output_type": "display_data"
    },
    {
     "data": {
      "text/html": [
       "<table>\n",
       "<caption>A tibble: 52 × 8</caption>\n",
       "<thead>\n",
       "\t<tr><th scope=col>states</th><th scope=col>ban_type</th><th scope=col>ban_time</th><th scope=col>ban_reason</th><th scope=col>ban_method</th><th scope=col>percentage_single_mothers</th><th scope=col>ban_scale2</th><th scope=col>ban_scale</th></tr>\n",
       "\t<tr><th scope=col>&lt;chr&gt;</th><th scope=col>&lt;dbl&gt;</th><th scope=col>&lt;dbl&gt;</th><th scope=col>&lt;dbl&gt;</th><th scope=col>&lt;dbl&gt;</th><th scope=col>&lt;dbl&gt;</th><th scope=col>&lt;dbl&gt;</th><th scope=col>&lt;dbl&gt;</th></tr>\n",
       "</thead>\n",
       "<tbody>\n",
       "\t<tr><td>Louisiana           </td><td> 1</td><td> 1</td><td> 1</td><td> 1</td><td>11.67</td><td> 4</td><td> 4</td></tr>\n",
       "\t<tr><td>Mississippi         </td><td> 1</td><td> 1</td><td> 0</td><td> 1</td><td>11.30</td><td> 3</td><td> 3</td></tr>\n",
       "\t<tr><td>New Mexico          </td><td> 1</td><td> 0</td><td> 0</td><td> 1</td><td> 9.69</td><td> 2</td><td> 2</td></tr>\n",
       "\t<tr><td>North Carolina      </td><td> 1</td><td> 1</td><td> 1</td><td> 0</td><td> 9.53</td><td> 3</td><td> 3</td></tr>\n",
       "\t<tr><td>Georgia             </td><td> 1</td><td> 1</td><td> 0</td><td> 1</td><td> 9.51</td><td> 3</td><td> 3</td></tr>\n",
       "\t<tr><td>South Carolina      </td><td> 1</td><td> 1</td><td> 0</td><td> 1</td><td> 8.94</td><td> 3</td><td> 3</td></tr>\n",
       "\t<tr><td>Oklahoma            </td><td> 1</td><td> 1</td><td> 1</td><td> 1</td><td> 8.63</td><td> 4</td><td> 4</td></tr>\n",
       "\t<tr><td>Rhode Island        </td><td> 1</td><td> 1</td><td> 0</td><td> 1</td><td> 8.28</td><td> 3</td><td> 3</td></tr>\n",
       "\t<tr><td>Texas               </td><td> 1</td><td> 1</td><td> 0</td><td> 1</td><td> 8.25</td><td> 3</td><td> 3</td></tr>\n",
       "\t<tr><td>Delaware            </td><td> 1</td><td> 1</td><td> 0</td><td> 0</td><td> 8.07</td><td> 2</td><td> 2</td></tr>\n",
       "\t<tr><td>Arkansas            </td><td> 1</td><td> 1</td><td> 1</td><td> 1</td><td> 8.00</td><td> 4</td><td> 4</td></tr>\n",
       "\t<tr><td>Pennsylvania        </td><td> 1</td><td> 1</td><td> 1</td><td> 0</td><td> 7.91</td><td> 3</td><td> 3</td></tr>\n",
       "\t<tr><td>Alabama             </td><td> 1</td><td> 1</td><td> 0</td><td> 1</td><td> 7.84</td><td> 3</td><td> 3</td></tr>\n",
       "\t<tr><td>Florida             </td><td> 1</td><td> 1</td><td> 0</td><td> 1</td><td> 7.79</td><td> 3</td><td> 3</td></tr>\n",
       "\t<tr><td>Nebraska            </td><td> 1</td><td> 1</td><td> 0</td><td> 1</td><td> 7.68</td><td> 3</td><td> 3</td></tr>\n",
       "\t<tr><td>New York            </td><td> 1</td><td> 1</td><td> 0</td><td> 0</td><td> 7.68</td><td> 2</td><td> 2</td></tr>\n",
       "\t<tr><td>Connecticut         </td><td> 1</td><td> 1</td><td> 0</td><td> 0</td><td> 7.62</td><td> 2</td><td> 2</td></tr>\n",
       "\t<tr><td>Ohio                </td><td> 1</td><td> 1</td><td> 1</td><td> 1</td><td> 7.59</td><td> 4</td><td> 4</td></tr>\n",
       "\t<tr><td>United States       </td><td>NA</td><td>NA</td><td>NA</td><td>NA</td><td> 7.51</td><td>NA</td><td>NA</td></tr>\n",
       "\t<tr><td>Indiana             </td><td> 1</td><td> 1</td><td> 1</td><td> 1</td><td> 7.36</td><td> 4</td><td> 4</td></tr>\n",
       "\t<tr><td>California          </td><td> 1</td><td> 1</td><td> 0</td><td> 0</td><td> 7.34</td><td> 2</td><td> 2</td></tr>\n",
       "\t<tr><td>Missouri            </td><td> 1</td><td> 1</td><td> 0</td><td> 1</td><td> 7.27</td><td> 3</td><td> 3</td></tr>\n",
       "\t<tr><td>Minnesota           </td><td> 1</td><td> 1</td><td> 0</td><td> 0</td><td> 7.25</td><td> 2</td><td> 2</td></tr>\n",
       "\t<tr><td>Alaska              </td><td> 1</td><td> 0</td><td> 0</td><td> 1</td><td> 7.25</td><td> 2</td><td> 2</td></tr>\n",
       "\t<tr><td>Massachusetts       </td><td> 1</td><td> 1</td><td> 0</td><td> 0</td><td> 7.20</td><td> 2</td><td> 2</td></tr>\n",
       "\t<tr><td>District of Columbia</td><td> 0</td><td> 0</td><td> 0</td><td> 0</td><td> 7.19</td><td> 0</td><td> 0</td></tr>\n",
       "\t<tr><td>Kentucky            </td><td> 1</td><td> 1</td><td> 0</td><td> 1</td><td> 7.05</td><td> 3</td><td> 3</td></tr>\n",
       "\t<tr><td>Nevada              </td><td> 1</td><td> 1</td><td> 0</td><td> 0</td><td> 7.04</td><td> 2</td><td> 2</td></tr>\n",
       "\t<tr><td>Arizona             </td><td> 1</td><td> 1</td><td> 1</td><td> 1</td><td> 7.04</td><td> 4</td><td> 4</td></tr>\n",
       "\t<tr><td>Illinois            </td><td> 1</td><td> 1</td><td> 1</td><td> 1</td><td> 6.97</td><td> 4</td><td> 4</td></tr>\n",
       "\t<tr><td>Virginia            </td><td> 1</td><td> 1</td><td> 0</td><td> 1</td><td> 6.95</td><td> 3</td><td> 3</td></tr>\n",
       "\t<tr><td>Kansas              </td><td> 1</td><td> 1</td><td> 1</td><td> 1</td><td> 6.94</td><td> 4</td><td> 4</td></tr>\n",
       "\t<tr><td>Maryland            </td><td> 0</td><td> 0</td><td> 0</td><td> 0</td><td> 6.91</td><td> 0</td><td> 0</td></tr>\n",
       "\t<tr><td>Tennessee           </td><td> 1</td><td> 1</td><td> 0</td><td> 1</td><td> 6.70</td><td> 3</td><td> 3</td></tr>\n",
       "\t<tr><td>West Virginia       </td><td> 1</td><td> 1</td><td> 0</td><td> 1</td><td> 6.70</td><td> 3</td><td> 3</td></tr>\n",
       "\t<tr><td>New Jersey          </td><td> 1</td><td> 0</td><td> 0</td><td> 1</td><td> 6.60</td><td> 2</td><td> 2</td></tr>\n",
       "\t<tr><td>Vermont             </td><td> 0</td><td> 0</td><td> 0</td><td> 0</td><td> 6.46</td><td> 0</td><td> 0</td></tr>\n",
       "\t<tr><td>Michigan            </td><td> 1</td><td> 1</td><td> 0</td><td> 1</td><td> 6.44</td><td> 3</td><td> 3</td></tr>\n",
       "\t<tr><td>Wisconsin           </td><td> 1</td><td> 1</td><td> 0</td><td> 1</td><td> 6.43</td><td> 3</td><td> 3</td></tr>\n",
       "\t<tr><td>Oregon              </td><td> 0</td><td> 0</td><td> 0</td><td> 0</td><td> 6.41</td><td> 0</td><td> 0</td></tr>\n",
       "\t<tr><td>Wyoming             </td><td> 1</td><td> 1</td><td> 0</td><td> 0</td><td> 6.41</td><td> 2</td><td> 2</td></tr>\n",
       "\t<tr><td>Hawaii              </td><td> 0</td><td> 0</td><td> 0</td><td> 0</td><td> 6.22</td><td> 0</td><td> 0</td></tr>\n",
       "\t<tr><td>North Dakota        </td><td> 1</td><td> 1</td><td> 1</td><td> 1</td><td> 6.21</td><td> 4</td><td> 4</td></tr>\n",
       "\t<tr><td>Maine               </td><td> 1</td><td> 1</td><td> 0</td><td> 0</td><td> 6.17</td><td> 2</td><td> 2</td></tr>\n",
       "\t<tr><td>South Dakota        </td><td> 1</td><td> 1</td><td> 1</td><td> 1</td><td> 6.00</td><td> 4</td><td> 4</td></tr>\n",
       "\t<tr><td>Colorado            </td><td> 0</td><td> 0</td><td> 0</td><td> 0</td><td> 5.88</td><td> 0</td><td> 0</td></tr>\n",
       "\t<tr><td>Iowa                </td><td> 1</td><td> 1</td><td> 0</td><td> 1</td><td> 5.87</td><td> 3</td><td> 3</td></tr>\n",
       "\t<tr><td>New Hampshire       </td><td> 1</td><td> 0</td><td> 0</td><td> 1</td><td> 5.87</td><td> 2</td><td> 2</td></tr>\n",
       "\t<tr><td>Washington          </td><td> 1</td><td> 1</td><td> 0</td><td> 0</td><td> 5.58</td><td> 2</td><td> 2</td></tr>\n",
       "\t<tr><td>Utah                </td><td> 1</td><td> 1</td><td> 0</td><td> 1</td><td> 4.89</td><td> 3</td><td> 3</td></tr>\n",
       "\t<tr><td>Idaho               </td><td> 1</td><td> 1</td><td> 0</td><td> 1</td><td> 4.81</td><td> 3</td><td> 3</td></tr>\n",
       "\t<tr><td>Montana             </td><td> 1</td><td> 1</td><td> 0</td><td> 1</td><td> 4.78</td><td> 3</td><td> 3</td></tr>\n",
       "</tbody>\n",
       "</table>\n"
      ],
      "text/latex": [
       "A tibble: 52 × 8\n",
       "\\begin{tabular}{r|llllllll}\n",
       " states & ban\\_type & ban\\_time & ban\\_reason & ban\\_method & percentage\\_single\\_mothers & ban\\_scale2 & ban\\_scale\\\\\n",
       " <chr> & <dbl> & <dbl> & <dbl> & <dbl> & <dbl> & <dbl> & <dbl>\\\\\n",
       "\\hline\n",
       "\t Louisiana            &  1 &  1 &  1 &  1 & 11.67 &  4 &  4\\\\\n",
       "\t Mississippi          &  1 &  1 &  0 &  1 & 11.30 &  3 &  3\\\\\n",
       "\t New Mexico           &  1 &  0 &  0 &  1 &  9.69 &  2 &  2\\\\\n",
       "\t North Carolina       &  1 &  1 &  1 &  0 &  9.53 &  3 &  3\\\\\n",
       "\t Georgia              &  1 &  1 &  0 &  1 &  9.51 &  3 &  3\\\\\n",
       "\t South Carolina       &  1 &  1 &  0 &  1 &  8.94 &  3 &  3\\\\\n",
       "\t Oklahoma             &  1 &  1 &  1 &  1 &  8.63 &  4 &  4\\\\\n",
       "\t Rhode Island         &  1 &  1 &  0 &  1 &  8.28 &  3 &  3\\\\\n",
       "\t Texas                &  1 &  1 &  0 &  1 &  8.25 &  3 &  3\\\\\n",
       "\t Delaware             &  1 &  1 &  0 &  0 &  8.07 &  2 &  2\\\\\n",
       "\t Arkansas             &  1 &  1 &  1 &  1 &  8.00 &  4 &  4\\\\\n",
       "\t Pennsylvania         &  1 &  1 &  1 &  0 &  7.91 &  3 &  3\\\\\n",
       "\t Alabama              &  1 &  1 &  0 &  1 &  7.84 &  3 &  3\\\\\n",
       "\t Florida              &  1 &  1 &  0 &  1 &  7.79 &  3 &  3\\\\\n",
       "\t Nebraska             &  1 &  1 &  0 &  1 &  7.68 &  3 &  3\\\\\n",
       "\t New York             &  1 &  1 &  0 &  0 &  7.68 &  2 &  2\\\\\n",
       "\t Connecticut          &  1 &  1 &  0 &  0 &  7.62 &  2 &  2\\\\\n",
       "\t Ohio                 &  1 &  1 &  1 &  1 &  7.59 &  4 &  4\\\\\n",
       "\t United States        & NA & NA & NA & NA &  7.51 & NA & NA\\\\\n",
       "\t Indiana              &  1 &  1 &  1 &  1 &  7.36 &  4 &  4\\\\\n",
       "\t California           &  1 &  1 &  0 &  0 &  7.34 &  2 &  2\\\\\n",
       "\t Missouri             &  1 &  1 &  0 &  1 &  7.27 &  3 &  3\\\\\n",
       "\t Minnesota            &  1 &  1 &  0 &  0 &  7.25 &  2 &  2\\\\\n",
       "\t Alaska               &  1 &  0 &  0 &  1 &  7.25 &  2 &  2\\\\\n",
       "\t Massachusetts        &  1 &  1 &  0 &  0 &  7.20 &  2 &  2\\\\\n",
       "\t District of Columbia &  0 &  0 &  0 &  0 &  7.19 &  0 &  0\\\\\n",
       "\t Kentucky             &  1 &  1 &  0 &  1 &  7.05 &  3 &  3\\\\\n",
       "\t Nevada               &  1 &  1 &  0 &  0 &  7.04 &  2 &  2\\\\\n",
       "\t Arizona              &  1 &  1 &  1 &  1 &  7.04 &  4 &  4\\\\\n",
       "\t Illinois             &  1 &  1 &  1 &  1 &  6.97 &  4 &  4\\\\\n",
       "\t Virginia             &  1 &  1 &  0 &  1 &  6.95 &  3 &  3\\\\\n",
       "\t Kansas               &  1 &  1 &  1 &  1 &  6.94 &  4 &  4\\\\\n",
       "\t Maryland             &  0 &  0 &  0 &  0 &  6.91 &  0 &  0\\\\\n",
       "\t Tennessee            &  1 &  1 &  0 &  1 &  6.70 &  3 &  3\\\\\n",
       "\t West Virginia        &  1 &  1 &  0 &  1 &  6.70 &  3 &  3\\\\\n",
       "\t New Jersey           &  1 &  0 &  0 &  1 &  6.60 &  2 &  2\\\\\n",
       "\t Vermont              &  0 &  0 &  0 &  0 &  6.46 &  0 &  0\\\\\n",
       "\t Michigan             &  1 &  1 &  0 &  1 &  6.44 &  3 &  3\\\\\n",
       "\t Wisconsin            &  1 &  1 &  0 &  1 &  6.43 &  3 &  3\\\\\n",
       "\t Oregon               &  0 &  0 &  0 &  0 &  6.41 &  0 &  0\\\\\n",
       "\t Wyoming              &  1 &  1 &  0 &  0 &  6.41 &  2 &  2\\\\\n",
       "\t Hawaii               &  0 &  0 &  0 &  0 &  6.22 &  0 &  0\\\\\n",
       "\t North Dakota         &  1 &  1 &  1 &  1 &  6.21 &  4 &  4\\\\\n",
       "\t Maine                &  1 &  1 &  0 &  0 &  6.17 &  2 &  2\\\\\n",
       "\t South Dakota         &  1 &  1 &  1 &  1 &  6.00 &  4 &  4\\\\\n",
       "\t Colorado             &  0 &  0 &  0 &  0 &  5.88 &  0 &  0\\\\\n",
       "\t Iowa                 &  1 &  1 &  0 &  1 &  5.87 &  3 &  3\\\\\n",
       "\t New Hampshire        &  1 &  0 &  0 &  1 &  5.87 &  2 &  2\\\\\n",
       "\t Washington           &  1 &  1 &  0 &  0 &  5.58 &  2 &  2\\\\\n",
       "\t Utah                 &  1 &  1 &  0 &  1 &  4.89 &  3 &  3\\\\\n",
       "\t Idaho                &  1 &  1 &  0 &  1 &  4.81 &  3 &  3\\\\\n",
       "\t Montana              &  1 &  1 &  0 &  1 &  4.78 &  3 &  3\\\\\n",
       "\\end{tabular}\n"
      ],
      "text/markdown": [
       "\n",
       "A tibble: 52 × 8\n",
       "\n",
       "| states &lt;chr&gt; | ban_type &lt;dbl&gt; | ban_time &lt;dbl&gt; | ban_reason &lt;dbl&gt; | ban_method &lt;dbl&gt; | percentage_single_mothers &lt;dbl&gt; | ban_scale2 &lt;dbl&gt; | ban_scale &lt;dbl&gt; |\n",
       "|---|---|---|---|---|---|---|---|\n",
       "| Louisiana            |  1 |  1 |  1 |  1 | 11.67 |  4 |  4 |\n",
       "| Mississippi          |  1 |  1 |  0 |  1 | 11.30 |  3 |  3 |\n",
       "| New Mexico           |  1 |  0 |  0 |  1 |  9.69 |  2 |  2 |\n",
       "| North Carolina       |  1 |  1 |  1 |  0 |  9.53 |  3 |  3 |\n",
       "| Georgia              |  1 |  1 |  0 |  1 |  9.51 |  3 |  3 |\n",
       "| South Carolina       |  1 |  1 |  0 |  1 |  8.94 |  3 |  3 |\n",
       "| Oklahoma             |  1 |  1 |  1 |  1 |  8.63 |  4 |  4 |\n",
       "| Rhode Island         |  1 |  1 |  0 |  1 |  8.28 |  3 |  3 |\n",
       "| Texas                |  1 |  1 |  0 |  1 |  8.25 |  3 |  3 |\n",
       "| Delaware             |  1 |  1 |  0 |  0 |  8.07 |  2 |  2 |\n",
       "| Arkansas             |  1 |  1 |  1 |  1 |  8.00 |  4 |  4 |\n",
       "| Pennsylvania         |  1 |  1 |  1 |  0 |  7.91 |  3 |  3 |\n",
       "| Alabama              |  1 |  1 |  0 |  1 |  7.84 |  3 |  3 |\n",
       "| Florida              |  1 |  1 |  0 |  1 |  7.79 |  3 |  3 |\n",
       "| Nebraska             |  1 |  1 |  0 |  1 |  7.68 |  3 |  3 |\n",
       "| New York             |  1 |  1 |  0 |  0 |  7.68 |  2 |  2 |\n",
       "| Connecticut          |  1 |  1 |  0 |  0 |  7.62 |  2 |  2 |\n",
       "| Ohio                 |  1 |  1 |  1 |  1 |  7.59 |  4 |  4 |\n",
       "| United States        | NA | NA | NA | NA |  7.51 | NA | NA |\n",
       "| Indiana              |  1 |  1 |  1 |  1 |  7.36 |  4 |  4 |\n",
       "| California           |  1 |  1 |  0 |  0 |  7.34 |  2 |  2 |\n",
       "| Missouri             |  1 |  1 |  0 |  1 |  7.27 |  3 |  3 |\n",
       "| Minnesota            |  1 |  1 |  0 |  0 |  7.25 |  2 |  2 |\n",
       "| Alaska               |  1 |  0 |  0 |  1 |  7.25 |  2 |  2 |\n",
       "| Massachusetts        |  1 |  1 |  0 |  0 |  7.20 |  2 |  2 |\n",
       "| District of Columbia |  0 |  0 |  0 |  0 |  7.19 |  0 |  0 |\n",
       "| Kentucky             |  1 |  1 |  0 |  1 |  7.05 |  3 |  3 |\n",
       "| Nevada               |  1 |  1 |  0 |  0 |  7.04 |  2 |  2 |\n",
       "| Arizona              |  1 |  1 |  1 |  1 |  7.04 |  4 |  4 |\n",
       "| Illinois             |  1 |  1 |  1 |  1 |  6.97 |  4 |  4 |\n",
       "| Virginia             |  1 |  1 |  0 |  1 |  6.95 |  3 |  3 |\n",
       "| Kansas               |  1 |  1 |  1 |  1 |  6.94 |  4 |  4 |\n",
       "| Maryland             |  0 |  0 |  0 |  0 |  6.91 |  0 |  0 |\n",
       "| Tennessee            |  1 |  1 |  0 |  1 |  6.70 |  3 |  3 |\n",
       "| West Virginia        |  1 |  1 |  0 |  1 |  6.70 |  3 |  3 |\n",
       "| New Jersey           |  1 |  0 |  0 |  1 |  6.60 |  2 |  2 |\n",
       "| Vermont              |  0 |  0 |  0 |  0 |  6.46 |  0 |  0 |\n",
       "| Michigan             |  1 |  1 |  0 |  1 |  6.44 |  3 |  3 |\n",
       "| Wisconsin            |  1 |  1 |  0 |  1 |  6.43 |  3 |  3 |\n",
       "| Oregon               |  0 |  0 |  0 |  0 |  6.41 |  0 |  0 |\n",
       "| Wyoming              |  1 |  1 |  0 |  0 |  6.41 |  2 |  2 |\n",
       "| Hawaii               |  0 |  0 |  0 |  0 |  6.22 |  0 |  0 |\n",
       "| North Dakota         |  1 |  1 |  1 |  1 |  6.21 |  4 |  4 |\n",
       "| Maine                |  1 |  1 |  0 |  0 |  6.17 |  2 |  2 |\n",
       "| South Dakota         |  1 |  1 |  1 |  1 |  6.00 |  4 |  4 |\n",
       "| Colorado             |  0 |  0 |  0 |  0 |  5.88 |  0 |  0 |\n",
       "| Iowa                 |  1 |  1 |  0 |  1 |  5.87 |  3 |  3 |\n",
       "| New Hampshire        |  1 |  0 |  0 |  1 |  5.87 |  2 |  2 |\n",
       "| Washington           |  1 |  1 |  0 |  0 |  5.58 |  2 |  2 |\n",
       "| Utah                 |  1 |  1 |  0 |  1 |  4.89 |  3 |  3 |\n",
       "| Idaho                |  1 |  1 |  0 |  1 |  4.81 |  3 |  3 |\n",
       "| Montana              |  1 |  1 |  0 |  1 |  4.78 |  3 |  3 |\n",
       "\n"
      ],
      "text/plain": [
       "   states               ban_type ban_time ban_reason ban_method\n",
       "1  Louisiana             1        1        1          1        \n",
       "2  Mississippi           1        1        0          1        \n",
       "3  New Mexico            1        0        0          1        \n",
       "4  North Carolina        1        1        1          0        \n",
       "5  Georgia               1        1        0          1        \n",
       "6  South Carolina        1        1        0          1        \n",
       "7  Oklahoma              1        1        1          1        \n",
       "8  Rhode Island          1        1        0          1        \n",
       "9  Texas                 1        1        0          1        \n",
       "10 Delaware              1        1        0          0        \n",
       "11 Arkansas              1        1        1          1        \n",
       "12 Pennsylvania          1        1        1          0        \n",
       "13 Alabama               1        1        0          1        \n",
       "14 Florida               1        1        0          1        \n",
       "15 Nebraska              1        1        0          1        \n",
       "16 New York              1        1        0          0        \n",
       "17 Connecticut           1        1        0          0        \n",
       "18 Ohio                  1        1        1          1        \n",
       "19 United States        NA       NA       NA         NA        \n",
       "20 Indiana               1        1        1          1        \n",
       "21 California            1        1        0          0        \n",
       "22 Missouri              1        1        0          1        \n",
       "23 Minnesota             1        1        0          0        \n",
       "24 Alaska                1        0        0          1        \n",
       "25 Massachusetts         1        1        0          0        \n",
       "26 District of Columbia  0        0        0          0        \n",
       "27 Kentucky              1        1        0          1        \n",
       "28 Nevada                1        1        0          0        \n",
       "29 Arizona               1        1        1          1        \n",
       "30 Illinois              1        1        1          1        \n",
       "31 Virginia              1        1        0          1        \n",
       "32 Kansas                1        1        1          1        \n",
       "33 Maryland              0        0        0          0        \n",
       "34 Tennessee             1        1        0          1        \n",
       "35 West Virginia         1        1        0          1        \n",
       "36 New Jersey            1        0        0          1        \n",
       "37 Vermont               0        0        0          0        \n",
       "38 Michigan              1        1        0          1        \n",
       "39 Wisconsin             1        1        0          1        \n",
       "40 Oregon                0        0        0          0        \n",
       "41 Wyoming               1        1        0          0        \n",
       "42 Hawaii                0        0        0          0        \n",
       "43 North Dakota          1        1        1          1        \n",
       "44 Maine                 1        1        0          0        \n",
       "45 South Dakota          1        1        1          1        \n",
       "46 Colorado              0        0        0          0        \n",
       "47 Iowa                  1        1        0          1        \n",
       "48 New Hampshire         1        0        0          1        \n",
       "49 Washington            1        1        0          0        \n",
       "50 Utah                  1        1        0          1        \n",
       "51 Idaho                 1        1        0          1        \n",
       "52 Montana               1        1        0          1        \n",
       "   percentage_single_mothers ban_scale2 ban_scale\n",
       "1  11.67                      4          4       \n",
       "2  11.30                      3          3       \n",
       "3   9.69                      2          2       \n",
       "4   9.53                      3          3       \n",
       "5   9.51                      3          3       \n",
       "6   8.94                      3          3       \n",
       "7   8.63                      4          4       \n",
       "8   8.28                      3          3       \n",
       "9   8.25                      3          3       \n",
       "10  8.07                      2          2       \n",
       "11  8.00                      4          4       \n",
       "12  7.91                      3          3       \n",
       "13  7.84                      3          3       \n",
       "14  7.79                      3          3       \n",
       "15  7.68                      3          3       \n",
       "16  7.68                      2          2       \n",
       "17  7.62                      2          2       \n",
       "18  7.59                      4          4       \n",
       "19  7.51                     NA         NA       \n",
       "20  7.36                      4          4       \n",
       "21  7.34                      2          2       \n",
       "22  7.27                      3          3       \n",
       "23  7.25                      2          2       \n",
       "24  7.25                      2          2       \n",
       "25  7.20                      2          2       \n",
       "26  7.19                      0          0       \n",
       "27  7.05                      3          3       \n",
       "28  7.04                      2          2       \n",
       "29  7.04                      4          4       \n",
       "30  6.97                      4          4       \n",
       "31  6.95                      3          3       \n",
       "32  6.94                      4          4       \n",
       "33  6.91                      0          0       \n",
       "34  6.70                      3          3       \n",
       "35  6.70                      3          3       \n",
       "36  6.60                      2          2       \n",
       "37  6.46                      0          0       \n",
       "38  6.44                      3          3       \n",
       "39  6.43                      3          3       \n",
       "40  6.41                      0          0       \n",
       "41  6.41                      2          2       \n",
       "42  6.22                      0          0       \n",
       "43  6.21                      4          4       \n",
       "44  6.17                      2          2       \n",
       "45  6.00                      4          4       \n",
       "46  5.88                      0          0       \n",
       "47  5.87                      3          3       \n",
       "48  5.87                      2          2       \n",
       "49  5.58                      2          2       \n",
       "50  4.89                      3          3       \n",
       "51  4.81                      3          3       \n",
       "52  4.78                      3          3       "
      ]
     },
     "metadata": {},
     "output_type": "display_data"
    }
   ],
   "source": [
    "#This adds all of the individual legislation into one metric on the severity of abortion legislation\n",
    "#This metric is a scale from 0 to 4\n",
    "\n",
    "#Creating a function for the abortion ban scale to add all of the individual legislation into one metric\n",
    "sum_columns <- function(p, a, u, l){\n",
    "    n <- length(p)\n",
    "    res <- rep(0, n)\n",
    "    \n",
    "    for(i in 1:n){\n",
    "        res[i] <- sum(p[i], a[i], u[i], l[i])\n",
    "}\n",
    "    return(res)\n",
    "}\n",
    "\n",
    "#Creating a new column and applying our function to it\n",
    "df_final$ban_scale <- sum_columns(df_final$\"ban_type\", df_final$\"ban_time\", df_final$\"ban_reason\", df_final$\"ban_method\")\n",
    "\n",
    "#Examining our data\n",
    "head(df_final)\n",
    "summary(df_final)\n",
    "df_final"
   ]
  },
  {
   "cell_type": "markdown",
   "metadata": {},
   "source": [
    "## Testing our ban scale in order to direct our research"
   ]
  },
  {
   "cell_type": "code",
   "execution_count": 11,
   "metadata": {},
   "outputs": [
    {
     "data": {
      "text/plain": [
       "\n",
       "\tWelch Two Sample t-test\n",
       "\n",
       "data:  harsh1$percentage_single_mothers and weak1$percentage_single_mothers\n",
       "t = 2.0691, df = 11.336, p-value = 0.06213\n",
       "alternative hypothesis: true difference in means is not equal to 0\n",
       "95 percent confidence interval:\n",
       " -0.06767514  2.32634181\n",
       "sample estimates:\n",
       "mean of x mean of y \n",
       " 7.641000  6.511667 \n"
      ]
     },
     "metadata": {},
     "output_type": "display_data"
    }
   ],
   "source": [
    "#Reshaping our data by filtering for states by the most severe and least severe legislation\n",
    "harsh1 <- df_final  %>%\n",
    "    filter(ban_scale == \"4\")\n",
    "\n",
    "weak1 <- df_final  %>%\n",
    "    filter(ban_scale == \"0\")\n",
    "\n",
    "#Running a t-test\n",
    "t_test_scale1 <- t.test(harsh1$percentage_single_mothers, weak1$percentage_single_mothers)\n",
    "t_test_scale1"
   ]
  },
  {
   "cell_type": "code",
   "execution_count": 12,
   "metadata": {},
   "outputs": [
    {
     "data": {
      "text/plain": [
       "\n",
       "\tWelch Two Sample t-test\n",
       "\n",
       "data:  harsh2$percentage_single_mothers and weak2$percentage_single_mothers\n",
       "t = 2.1236, df = 24.911, p-value = 0.04381\n",
       "alternative hypothesis: true difference in means is not equal to 0\n",
       "95 percent confidence interval:\n",
       " 0.02595723 1.70499515\n",
       "sample estimates:\n",
       "mean of x mean of y \n",
       " 7.377143  6.511667 \n"
      ]
     },
     "metadata": {},
     "output_type": "display_data"
    }
   ],
   "source": [
    "#Reshaping our data by filtering for states by the second-most severe and least severe legislation\n",
    "#This is because there is a larger sample size of states with a severity level of 3 \n",
    "harsh2 <- df_final  %>%\n",
    "    filter(ban_scale == \"3\")\n",
    "\n",
    "weak2 <- df_final  %>%\n",
    "    filter(ban_scale == \"0\")\n",
    "\n",
    "#Running a t-test\n",
    "t_test_scale2 <- t.test(harsh2$percentage_single_mothers, weak2$percentage_single_mothers)\n",
    "t_test_scale2"
   ]
  },
  {
   "cell_type": "code",
   "execution_count": 13,
   "metadata": {},
   "outputs": [
    {
     "data": {
      "text/plain": [
       "\n",
       "\tWelch Two Sample t-test\n",
       "\n",
       "data:  harsh3$percentage_single_mothers and weak3$percentage_single_mothers\n",
       "t = 2.7601, df = 18.103, p-value = 0.01284\n",
       "alternative hypothesis: true difference in means is not equal to 0\n",
       "95 percent confidence interval:\n",
       " 0.179688 1.323133\n",
       "sample estimates:\n",
       "mean of x mean of y \n",
       " 7.263077  6.511667 \n"
      ]
     },
     "metadata": {},
     "output_type": "display_data"
    }
   ],
   "source": [
    "#Reshaping our data by filtering for states with any bans on abortion vs states with no legislative bans\n",
    "#This is our full sample size of 51 \n",
    "harsh3 <- df_final  %>%\n",
    "    filter(ban_scale == \"4\" || ban_scale == \"3\" || ban_scale == \"2\" || ban_scale == \"1\")\n",
    "\n",
    "weak3 <- df_final  %>%\n",
    "    filter(ban_scale == \"0\")\n",
    "\n",
    "#Running a t-test\n",
    "t_test_scale3 <- t.test(harsh3$percentage_single_mothers, weak3$percentage_single_mothers)\n",
    "t_test_scale3"
   ]
  },
  {
   "cell_type": "markdown",
   "metadata": {},
   "source": [
    "## Creating a \"no reason ban severity scale\""
   ]
  },
  {
   "cell_type": "code",
   "execution_count": 14,
   "metadata": {},
   "outputs": [
    {
     "data": {
      "text/html": [
       "<table>\n",
       "<caption>A tibble: 6 × 9</caption>\n",
       "<thead>\n",
       "\t<tr><th scope=col>states</th><th scope=col>ban_type</th><th scope=col>ban_time</th><th scope=col>ban_reason</th><th scope=col>ban_method</th><th scope=col>percentage_single_mothers</th><th scope=col>ban_scale2</th><th scope=col>ban_scale</th><th scope=col>no_reason_scale</th></tr>\n",
       "\t<tr><th scope=col>&lt;chr&gt;</th><th scope=col>&lt;dbl&gt;</th><th scope=col>&lt;dbl&gt;</th><th scope=col>&lt;dbl&gt;</th><th scope=col>&lt;dbl&gt;</th><th scope=col>&lt;dbl&gt;</th><th scope=col>&lt;dbl&gt;</th><th scope=col>&lt;dbl&gt;</th><th scope=col>&lt;dbl&gt;</th></tr>\n",
       "</thead>\n",
       "<tbody>\n",
       "\t<tr><td>Louisiana     </td><td>1</td><td>1</td><td>1</td><td>1</td><td>11.67</td><td>4</td><td>4</td><td>3</td></tr>\n",
       "\t<tr><td>Mississippi   </td><td>1</td><td>1</td><td>0</td><td>1</td><td>11.30</td><td>3</td><td>3</td><td>3</td></tr>\n",
       "\t<tr><td>New Mexico    </td><td>1</td><td>0</td><td>0</td><td>1</td><td> 9.69</td><td>2</td><td>2</td><td>2</td></tr>\n",
       "\t<tr><td>North Carolina</td><td>1</td><td>1</td><td>1</td><td>0</td><td> 9.53</td><td>3</td><td>3</td><td>2</td></tr>\n",
       "\t<tr><td>Georgia       </td><td>1</td><td>1</td><td>0</td><td>1</td><td> 9.51</td><td>3</td><td>3</td><td>3</td></tr>\n",
       "\t<tr><td>South Carolina</td><td>1</td><td>1</td><td>0</td><td>1</td><td> 8.94</td><td>3</td><td>3</td><td>3</td></tr>\n",
       "</tbody>\n",
       "</table>\n"
      ],
      "text/latex": [
       "A tibble: 6 × 9\n",
       "\\begin{tabular}{r|lllllllll}\n",
       " states & ban\\_type & ban\\_time & ban\\_reason & ban\\_method & percentage\\_single\\_mothers & ban\\_scale2 & ban\\_scale & no\\_reason\\_scale\\\\\n",
       " <chr> & <dbl> & <dbl> & <dbl> & <dbl> & <dbl> & <dbl> & <dbl> & <dbl>\\\\\n",
       "\\hline\n",
       "\t Louisiana      & 1 & 1 & 1 & 1 & 11.67 & 4 & 4 & 3\\\\\n",
       "\t Mississippi    & 1 & 1 & 0 & 1 & 11.30 & 3 & 3 & 3\\\\\n",
       "\t New Mexico     & 1 & 0 & 0 & 1 &  9.69 & 2 & 2 & 2\\\\\n",
       "\t North Carolina & 1 & 1 & 1 & 0 &  9.53 & 3 & 3 & 2\\\\\n",
       "\t Georgia        & 1 & 1 & 0 & 1 &  9.51 & 3 & 3 & 3\\\\\n",
       "\t South Carolina & 1 & 1 & 0 & 1 &  8.94 & 3 & 3 & 3\\\\\n",
       "\\end{tabular}\n"
      ],
      "text/markdown": [
       "\n",
       "A tibble: 6 × 9\n",
       "\n",
       "| states &lt;chr&gt; | ban_type &lt;dbl&gt; | ban_time &lt;dbl&gt; | ban_reason &lt;dbl&gt; | ban_method &lt;dbl&gt; | percentage_single_mothers &lt;dbl&gt; | ban_scale2 &lt;dbl&gt; | ban_scale &lt;dbl&gt; | no_reason_scale &lt;dbl&gt; |\n",
       "|---|---|---|---|---|---|---|---|---|\n",
       "| Louisiana      | 1 | 1 | 1 | 1 | 11.67 | 4 | 4 | 3 |\n",
       "| Mississippi    | 1 | 1 | 0 | 1 | 11.30 | 3 | 3 | 3 |\n",
       "| New Mexico     | 1 | 0 | 0 | 1 |  9.69 | 2 | 2 | 2 |\n",
       "| North Carolina | 1 | 1 | 1 | 0 |  9.53 | 3 | 3 | 2 |\n",
       "| Georgia        | 1 | 1 | 0 | 1 |  9.51 | 3 | 3 | 3 |\n",
       "| South Carolina | 1 | 1 | 0 | 1 |  8.94 | 3 | 3 | 3 |\n",
       "\n"
      ],
      "text/plain": [
       "  states         ban_type ban_time ban_reason ban_method\n",
       "1 Louisiana      1        1        1          1         \n",
       "2 Mississippi    1        1        0          1         \n",
       "3 New Mexico     1        0        0          1         \n",
       "4 North Carolina 1        1        1          0         \n",
       "5 Georgia        1        1        0          1         \n",
       "6 South Carolina 1        1        0          1         \n",
       "  percentage_single_mothers ban_scale2 ban_scale no_reason_scale\n",
       "1 11.67                     4          4         3              \n",
       "2 11.30                     3          3         3              \n",
       "3  9.69                     2          2         2              \n",
       "4  9.53                     3          3         2              \n",
       "5  9.51                     3          3         3              \n",
       "6  8.94                     3          3         3              "
      ]
     },
     "metadata": {},
     "output_type": "display_data"
    }
   ],
   "source": [
    "#Creating the same ban severity scale excluding reason-specific bans\n",
    "#This metric is a scale from 0 to 3\n",
    "\n",
    "#Creating a function for the no reason ban scale\n",
    "sum_columns1 <- function(p, c, s){\n",
    "    n <- length(p)\n",
    "    res <- rep(0, n)\n",
    "    \n",
    "    for(i in 1:n){\n",
    "        res[i] <- sum(p[i], c[i], s[i])\n",
    "}\n",
    "    return(res)\n",
    "}\n",
    "\n",
    "#Creating a new column and applying our function to it\n",
    "df_final$no_reason_scale <- sum_columns1(df_final$\"ban_type\", df_final$\"ban_time\", df_final$\"ban_method\")\n",
    "\n",
    "#Examining our data\n",
    "head(df_final)"
   ]
  },
  {
   "cell_type": "markdown",
   "metadata": {},
   "source": [
    "## Testing our \"no reason ban scale\" in order to direct our research "
   ]
  },
  {
   "cell_type": "code",
   "execution_count": 15,
   "metadata": {},
   "outputs": [
    {
     "data": {
      "text/plain": [
       "\n",
       "\tWelch Two Sample t-test\n",
       "\n",
       "data:  harsh4$percentage_single_mothers and weak4$percentage_single_mothers\n",
       "t = 2.4186, df = 28.631, p-value = 0.02217\n",
       "alternative hypothesis: true difference in means is not equal to 0\n",
       "95 percent confidence interval:\n",
       " 0.1329571 1.5947440\n",
       "sample estimates:\n",
       "mean of x mean of y \n",
       " 7.375517  6.511667 \n"
      ]
     },
     "metadata": {},
     "output_type": "display_data"
    }
   ],
   "source": [
    "#Reshaping our data by filtering for states by the most severe and least severe legislation\n",
    "harsh4 <- df_final  %>%\n",
    "    filter(no_reason_scale == \"3\")\n",
    "\n",
    "weak4 <- df_final  %>%\n",
    "    filter(no_reason_scale == \"0\")\n",
    "\n",
    "#Running a t-test\n",
    "t_test_scale4 <- t.test(harsh4$percentage_single_mothers, weak4$percentage_single_mothers)\n",
    "t_test_scale4"
   ]
  },
  {
   "cell_type": "markdown",
   "metadata": {},
   "source": [
    "## Running a Linear Regression"
   ]
  },
  {
   "cell_type": "code",
   "execution_count": 16,
   "metadata": {},
   "outputs": [
    {
     "data": {
      "text/html": [
       "<table>\n",
       "<caption>A tibble: 2 × 5</caption>\n",
       "<thead>\n",
       "\t<tr><th scope=col>term</th><th scope=col>estimate</th><th scope=col>std.error</th><th scope=col>statistic</th><th scope=col>p.value</th></tr>\n",
       "\t<tr><th scope=col>&lt;chr&gt;</th><th scope=col>&lt;dbl&gt;</th><th scope=col>&lt;dbl&gt;</th><th scope=col>&lt;dbl&gt;</th><th scope=col>&lt;dbl&gt;</th></tr>\n",
       "</thead>\n",
       "<tbody>\n",
       "\t<tr><td>(Intercept)       </td><td>6.5417029</td><td>0.4678129</td><td>13.98359</td><td>9.914526e-19</td></tr>\n",
       "\t<tr><td>df_final$ban_scale</td><td>0.2789554</td><td>0.1660083</td><td> 1.68037</td><td>9.925054e-02</td></tr>\n",
       "</tbody>\n",
       "</table>\n"
      ],
      "text/latex": [
       "A tibble: 2 × 5\n",
       "\\begin{tabular}{r|lllll}\n",
       " term & estimate & std.error & statistic & p.value\\\\\n",
       " <chr> & <dbl> & <dbl> & <dbl> & <dbl>\\\\\n",
       "\\hline\n",
       "\t (Intercept)        & 6.5417029 & 0.4678129 & 13.98359 & 9.914526e-19\\\\\n",
       "\t df\\_final\\$ban\\_scale & 0.2789554 & 0.1660083 &  1.68037 & 9.925054e-02\\\\\n",
       "\\end{tabular}\n"
      ],
      "text/markdown": [
       "\n",
       "A tibble: 2 × 5\n",
       "\n",
       "| term &lt;chr&gt; | estimate &lt;dbl&gt; | std.error &lt;dbl&gt; | statistic &lt;dbl&gt; | p.value &lt;dbl&gt; |\n",
       "|---|---|---|---|---|\n",
       "| (Intercept)        | 6.5417029 | 0.4678129 | 13.98359 | 9.914526e-19 |\n",
       "| df_final$ban_scale | 0.2789554 | 0.1660083 |  1.68037 | 9.925054e-02 |\n",
       "\n"
      ],
      "text/plain": [
       "  term               estimate  std.error statistic p.value     \n",
       "1 (Intercept)        6.5417029 0.4678129 13.98359  9.914526e-19\n",
       "2 df_final$ban_scale 0.2789554 0.1660083  1.68037  9.925054e-02"
      ]
     },
     "metadata": {},
     "output_type": "display_data"
    },
    {
     "data": {
      "text/html": [
       "<table>\n",
       "<caption>A tibble: 1 × 11</caption>\n",
       "<thead>\n",
       "\t<tr><th scope=col>r.squared</th><th scope=col>adj.r.squared</th><th scope=col>sigma</th><th scope=col>statistic</th><th scope=col>p.value</th><th scope=col>df</th><th scope=col>logLik</th><th scope=col>AIC</th><th scope=col>BIC</th><th scope=col>deviance</th><th scope=col>df.residual</th></tr>\n",
       "\t<tr><th scope=col>&lt;dbl&gt;</th><th scope=col>&lt;dbl&gt;</th><th scope=col>&lt;dbl&gt;</th><th scope=col>&lt;dbl&gt;</th><th scope=col>&lt;dbl&gt;</th><th scope=col>&lt;int&gt;</th><th scope=col>&lt;dbl&gt;</th><th scope=col>&lt;dbl&gt;</th><th scope=col>&lt;dbl&gt;</th><th scope=col>&lt;dbl&gt;</th><th scope=col>&lt;int&gt;</th></tr>\n",
       "</thead>\n",
       "<tbody>\n",
       "\t<tr><td>0.05448563</td><td>0.03518942</td><td>1.374061</td><td>2.823644</td><td>0.09925054</td><td>2</td><td>-87.55204</td><td>181.1041</td><td>186.8996</td><td>92.51418</td><td>49</td></tr>\n",
       "</tbody>\n",
       "</table>\n"
      ],
      "text/latex": [
       "A tibble: 1 × 11\n",
       "\\begin{tabular}{r|lllllllllll}\n",
       " r.squared & adj.r.squared & sigma & statistic & p.value & df & logLik & AIC & BIC & deviance & df.residual\\\\\n",
       " <dbl> & <dbl> & <dbl> & <dbl> & <dbl> & <int> & <dbl> & <dbl> & <dbl> & <dbl> & <int>\\\\\n",
       "\\hline\n",
       "\t 0.05448563 & 0.03518942 & 1.374061 & 2.823644 & 0.09925054 & 2 & -87.55204 & 181.1041 & 186.8996 & 92.51418 & 49\\\\\n",
       "\\end{tabular}\n"
      ],
      "text/markdown": [
       "\n",
       "A tibble: 1 × 11\n",
       "\n",
       "| r.squared &lt;dbl&gt; | adj.r.squared &lt;dbl&gt; | sigma &lt;dbl&gt; | statistic &lt;dbl&gt; | p.value &lt;dbl&gt; | df &lt;int&gt; | logLik &lt;dbl&gt; | AIC &lt;dbl&gt; | BIC &lt;dbl&gt; | deviance &lt;dbl&gt; | df.residual &lt;int&gt; |\n",
       "|---|---|---|---|---|---|---|---|---|---|---|\n",
       "| 0.05448563 | 0.03518942 | 1.374061 | 2.823644 | 0.09925054 | 2 | -87.55204 | 181.1041 | 186.8996 | 92.51418 | 49 |\n",
       "\n"
      ],
      "text/plain": [
       "  r.squared  adj.r.squared sigma    statistic p.value    df logLik    AIC     \n",
       "1 0.05448563 0.03518942    1.374061 2.823644  0.09925054 2  -87.55204 181.1041\n",
       "  BIC      deviance df.residual\n",
       "1 186.8996 92.51418 49         "
      ]
     },
     "metadata": {},
     "output_type": "display_data"
    }
   ],
   "source": [
    "#Loading broom\n",
    "library(broom)\n",
    "\n",
    "#Running a linear regression\n",
    "paul_lm<- lm(df_final$percentage_single_mothers ~ df_final$ban_scale)\n",
    "\n",
    "#Examining the results of our test\n",
    "tidy(paul_lm)\n",
    "glance(paul_lm)"
   ]
  },
  {
   "cell_type": "markdown",
   "metadata": {},
   "source": [
    "## Installing Loading Lavaan"
   ]
  },
  {
   "cell_type": "code",
   "execution_count": 17,
   "metadata": {},
   "outputs": [
    {
     "name": "stderr",
     "output_type": "stream",
     "text": [
      "also installing the dependencies ‘mnormt’, ‘pbivnorm’\n",
      "\n",
      "Updating HTML index of packages in '.Library'\n",
      "Making 'packages.html' ... done\n",
      "This is lavaan 0.6-5\n",
      "lavaan is BETA software! Please report any bugs.\n"
     ]
    }
   ],
   "source": [
    "#Installing Lavaan\n",
    "install.packages(\"lavaan\", dependencies=TRUE)\n",
    "\n",
    "#Loading Lavaan\n",
    "library(lavaan)"
   ]
  },
  {
   "cell_type": "markdown",
   "metadata": {},
   "source": [
    "## Running a Confirmatory Factor Analysis"
   ]
  },
  {
   "cell_type": "code",
   "execution_count": 18,
   "metadata": {},
   "outputs": [
    {
     "name": "stderr",
     "output_type": "stream",
     "text": [
      "Warning message in lav_object_post_check(object):\n",
      "“lavaan WARNING: some estimated ov variances are negative”"
     ]
    },
    {
     "ename": "ERROR",
     "evalue": "Error in summary(fit, fit.measures = TRUE): object 'fit' not found\n",
     "output_type": "error",
     "traceback": [
      "Error in summary(fit, fit.measures = TRUE): object 'fit' not found\nTraceback:\n",
      "1. summary(fit, fit.measures = TRUE)"
     ]
    }
   ],
   "source": [
    "#Running a CFA\n",
    "paul_model <- 'severity =~ ban_type + ban_time + ban_reason + ban_method'\n",
    "fit1 <- cfa(paul_model, data=df_final, likelihood = \"wishart\")\n",
    "\n",
    "#Examining the results of our CFA\n",
    "summary(fit, fit.measures = TRUE)"
   ]
  },
  {
   "cell_type": "markdown",
   "metadata": {},
   "source": [
    "## Running a Structural Equation Model"
   ]
  },
  {
   "cell_type": "code",
   "execution_count": 19,
   "metadata": {},
   "outputs": [
    {
     "name": "stderr",
     "output_type": "stream",
     "text": [
      "Warning message in lav_object_post_check(object):\n",
      "“lavaan WARNING: some estimated ov variances are negative”"
     ]
    },
    {
     "name": "stdout",
     "output_type": "stream",
     "text": [
      "lavaan 0.6-5 ended normally after 29 iterations\n",
      "\n",
      "  Estimator                                         ML\n",
      "  Optimization method                           NLMINB\n",
      "  Number of free parameters                         10\n",
      "                                                      \n",
      "                                                  Used       Total\n",
      "  Number of observations                            51          52\n",
      "                                                                  \n",
      "Model Test User Model:\n",
      "                                                      \n",
      "  Test statistic                                 7.076\n",
      "  Degrees of freedom                                 5\n",
      "  P-value (Chi-square)                           0.215\n",
      "\n",
      "Model Test Baseline Model:\n",
      "\n",
      "  Test statistic                                66.147\n",
      "  Degrees of freedom                                10\n",
      "  P-value                                        0.000\n",
      "\n",
      "User Model versus Baseline Model:\n",
      "\n",
      "  Comparative Fit Index (CFI)                    0.963\n",
      "  Tucker-Lewis Index (TLI)                       0.926\n",
      "\n",
      "Loglikelihood and Information Criteria:\n",
      "\n",
      "  Loglikelihood user model (H0)               -162.639\n",
      "  Loglikelihood unrestricted model (H1)       -159.101\n",
      "                                                      \n",
      "  Akaike (AIC)                                 345.279\n",
      "  Bayesian (BIC)                               364.597\n",
      "  Sample-size adjusted Bayesian (BIC)          333.201\n",
      "\n",
      "Root Mean Square Error of Approximation:\n",
      "\n",
      "  RMSEA                                          0.090\n",
      "  90 Percent confidence interval - lower         0.000\n",
      "  90 Percent confidence interval - upper         0.229\n",
      "  P-value RMSEA <= 0.05                          0.281\n",
      "\n",
      "Standardized Root Mean Square Residual:\n",
      "\n",
      "  SRMR                                           0.081\n",
      "\n",
      "Parameter Estimates:\n",
      "\n",
      "  Information                                 Expected\n",
      "  Information saturated (h1) model          Structured\n",
      "  Standard errors                             Standard\n",
      "\n",
      "Latent Variables:\n",
      "                   Estimate  Std.Err  z-value  P(>|z|)\n",
      "  severity =~                                         \n",
      "    ban_type          1.000                           \n",
      "    ban_time          0.811    0.211    3.841    0.000\n",
      "    ban_reason        0.188    0.167    1.124    0.261\n",
      "    ban_method        0.663    0.228    2.916    0.004\n",
      "\n",
      "Regressions:\n",
      "                              Estimate  Std.Err  z-value  P(>|z|)\n",
      "  percentage_single_mothers ~                                    \n",
      "    severity                     0.716    0.551    1.299    0.194\n",
      "\n",
      "Variances:\n",
      "                   Estimate  Std.Err  z-value  P(>|z|)\n",
      "   .ban_type         -0.013    0.026   -0.511    0.609\n",
      "   .ban_time          0.081    0.023    3.496    0.000\n",
      "   .ban_reason        0.176    0.035    5.062    0.000\n",
      "   .ban_method        0.177    0.037    4.836    0.000\n",
      "   .prcntg_sngl_mt    1.859    0.367    5.065    0.000\n",
      "    severity          0.117    0.033    3.585    0.000\n",
      "\n"
     ]
    }
   ],
   "source": [
    "#Running a SEM\n",
    "stey_model <- 'severity =~ ban_type + ban_time + ban_reason + ban_method\n",
    "    percentage_single_mothers ~ severity'\n",
    "fit2 <- sem(stey_model, data=df_final)\n",
    "\n",
    "#Examining the results of our SEM\n",
    "summary(fit2, fit.measures = TRUE)"
   ]
  },
  {
   "cell_type": "markdown",
   "metadata": {},
   "source": [
    "## Histogram of distribution of \"ban severity scale\""
   ]
  },
  {
   "cell_type": "code",
   "execution_count": 22,
   "metadata": {},
   "outputs": [
    {
     "name": "stderr",
     "output_type": "stream",
     "text": [
      "Warning message:\n",
      "“Removed 1 rows containing non-finite values (stat_bin).”"
     ]
    },
    {
     "data": {
      "image/png": "[encoded data removed]",
      "text/plain": [
       "plot without title"
      ]
     },
     "metadata": {},
     "output_type": "display_data"
    }
   ],
   "source": [
    "#Loading ggplot\n",
    "library(ggplot2)\n",
    "\n",
    "#Creating histogram\n",
    "abort_plot <- ggplot(df_final, aes(x = ban_scale)) + \n",
    "    geom_histogram(binwidth =1, fill = \"skyblue\", col= \"blue1\") \n",
    "\n",
    "#Viewing and labeling histogram\n",
    "abort_plot + labs(title=\"Histogram of Ban Severity Scale\", \n",
    "                  x=\"Abortion Legislation Severity Scale\", y=\"Count of States\")"
   ]
  },
  {
   "cell_type": "markdown",
   "metadata": {},
   "source": [
    "## Histogram of the percentage of single mothers"
   ]
  },
  {
   "cell_type": "code",
   "execution_count": 23,
   "metadata": {},
   "outputs": [
    {
     "data": {
      "image/png": "[encoded data removed]",
      "text/plain": [
       "plot without title"
      ]
     },
     "metadata": {},
     "output_type": "display_data"
    }
   ],
   "source": [
    "#Creating histogram\n",
    "smplot <- ggplot(df_final, aes(x = percentage_single_mothers)) + \n",
    "    geom_histogram(binwidth =1, fill = \"plum2\", col= \"darkorchid3\") \n",
    "\n",
    "#Viewing and labeling histogram\n",
    "smplot + labs(title=\"Histogram of Percentage of Single Mothers\", \n",
    "              x=\"Percentage of Single Mothers\", y=\"Count of States\")"
   ]
  },
  {
   "cell_type": "markdown",
   "metadata": {},
   "source": [
    "## Scatterplot of \"severity ban scale\" & percentage of single mothers"
   ]
  },
  {
   "cell_type": "code",
   "execution_count": 25,
   "metadata": {},
   "outputs": [
    {
     "name": "stderr",
     "output_type": "stream",
     "text": [
      "Warning message:\n",
      "“Removed 1 rows containing non-finite values (stat_smooth).”Warning message:\n",
      "“Removed 1 rows containing missing values (geom_point).”"
     ]
    },
    {
     "data": {
      "image/png": "[encoded data removed]",
      "text/plain": [
       "plot without title"
      ]
     },
     "metadata": {},
     "output_type": "display_data"
    }
   ],
   "source": [
    "#Creating scatterplot \n",
    "paulplot <- ggplot(df_final, aes(x = ban_scale, y = percentage_single_mothers)) +\n",
    "                 geom_point(alpha = 0.5, col = \"mediumspringgreen\", fill = \"purple\") + \n",
    "                    geom_smooth(method = \"lm\", colour = \"deeppink\")\n",
    "\n",
    "#Viewing and labeling scatterplot\n",
    "paulplot + labs (title=\"Scatterplot of States\", \n",
    "                   x=\"Ban Severity Scale\", y=\"Percentage of Single Mothers\")"
   ]
  },
  {
   "cell_type": "markdown",
   "metadata": {},
   "source": [
    "## Box Plot"
   ]
  },
  {
   "cell_type": "code",
   "execution_count": 110,
   "metadata": {},
   "outputs": [
    {
     "name": "stderr",
     "output_type": "stream",
     "text": [
      "Warning message:\n",
      "“Removed 1 rows containing missing values (stat_boxplot).”"
     ]
    },
    {
     "data": {
      "image/png": "[encoded data removed]",
      "text/plain": [
       "plot without title"
      ]
     },
     "metadata": {},
     "output_type": "display_data"
    }
   ],
   "source": [
    "steyplot <- ggplot(df_final, aes(x = ban_scale, y = percentage_single_mothers, \n",
    "    group=ban_scale, fill = ban_scale)) +\n",
    "        geom_boxplot(aes(fill = factor(ban_scale))) +\n",
    "            scale_fill_manual(values=c(\"#34ebc0\", \"#36d1f7\", \"#c034eb\", \"#f736ca\"))\n",
    " \n",
    "steyplot + labs(title=\"Box Plot\", y=\"Percentage Single Mothers\", x = \"Ban Scale\")\n"
   ]
  },
  {
   "cell_type": "markdown",
   "metadata": {},
   "source": [
    "## Normal Distribution Plots"
   ]
  },
  {
   "cell_type": "code",
   "execution_count": 91,
   "metadata": {},
   "outputs": [
    {
     "name": "stderr",
     "output_type": "stream",
     "text": [
      "also installing the dependencies ‘rex’, ‘covr’, ‘DT’, ‘ellipsis’, ‘rversions’\n",
      "\n",
      "Updating HTML index of packages in '.Library'\n",
      "Making 'packages.html' ... done\n"
     ]
    }
   ],
   "source": [
    "install.packages(\"devtools\")\n",
    "library(\"devtools\")"
   ]
  },
  {
   "cell_type": "code",
   "execution_count": 137,
   "metadata": {},
   "outputs": [
    {
     "data": {
      "image/png": "[encoded data removed]",
      "text/plain": [
       "plot without title"
      ]
     },
     "metadata": {},
     "output_type": "display_data"
    }
   ],
   "source": [
    "#This is of test_type which is the first individual test\n",
    "dum=seq(-3.5, 3.5, length=10^4)#For the plot\n",
    "\n",
    "plot(dum, dt(dum, df=(N-1)), type='l', xlab='t', ylab='f(t)')\n",
    "abline(v=t_test_type$statistic, lty=2)\n",
    "abline(v=-t_test_type$statistic, lty=2)\n",
    "abline(v=tcrit, col='red', lty=2)\n",
    "abline(v=-tcrit, col='red', lty=2)"
   ]
  },
  {
   "cell_type": "code",
   "execution_count": 126,
   "metadata": {},
   "outputs": [
    {
     "data": {
      "image/png": "[encoded data removed]",
      "text/plain": [
       "plot without title"
      ]
     },
     "metadata": {},
     "output_type": "display_data"
    }
   ],
   "source": [
    "#This is of test3 which is states with 2-4 bans vs states with 0\n",
    "dum=seq(-3.5, 3.5, length=10^4)#For the plot\n",
    "x <- seq(-4,4,length=100)*sd + mean\n",
    "hx <- dnorm(x,mean,sd)\n",
    "\n",
    "plot(dum, dt(dum, df=(N-1)), type='l', xlab='t', ylab='f(t)')\n",
    "abline(v=t_test_scale3$statistic, lty=2)\n",
    "abline(v=-t_test_scale3$statistic, lty=2)\n",
    "abline(v=tcrit, col='red', lty=2)\n",
    "abline(v=-tcrit, col='red', lty=2)\n",
    "polygon(c(lb,x[i],ub), c(0,hx[i],0), col=\"red\")"
   ]
  },
  {
   "cell_type": "code",
   "execution_count": 135,
   "metadata": {},
   "outputs": [
    {
     "data": {
      "image/png": "[encoded data removed]",
      "text/plain": [
       "Plot with title “Normal Distribution”"
      ]
     },
     "metadata": {},
     "output_type": "display_data"
    }
   ],
   "source": [
    "#This is baased on test3 which is states with 2-4 bans vs states with 0\n",
    "mean=0; sd=1\n",
    "lb=-2.917; ub=2.917\n",
    "\n",
    "x <- seq(-4,4,length=100)*sd + mean\n",
    "hx <- dnorm(x,mean,sd)\n",
    "\n",
    "plot(x, hx, type=\"n\", xlab=\"IQ Values\", ylab=\"\",\n",
    "  main=\"Normal Distribution\", axes=FALSE)\n",
    "\n",
    "i <- x >= lb & x <= ub\n",
    "lines(x, hx)\n",
    "polygon(c(lb,x[i],ub), c(0,hx[i],0), col=\"plum2\")\n",
    "\n",
    "area <- pnorm(ub, mean, sd) - pnorm(lb, mean, sd)\n",
    "result <- paste(\"P(\",lb,\"< IQ <\",ub,\") =\",\n",
    "   signif(area, digits=3))\n",
    "mtext(result,3)\n",
    "axis(1, at=seq(40, 160, 20), pos=0)"
   ]
  },
  {
   "cell_type": "code",
   "execution_count": null,
   "metadata": {},
   "outputs": [],
   "source": [
    "#NOTES DO NOT FORGET TO REMOVE\n",
    "\n",
    "#ggsave to save graphs/charts\n",
    "#ggsave is what to use to save the plot\n",
    "\n",
    "#lm(y ~ x + x2 + x3, dat)\n",
    "\n",
    "#install.packages(\"lavaan\", dependencies=TRUE)\n",
    "#rm -rf 00LOCK-lavaan/\n",
    "\n",
    "#We chose a significance level of 0.10 for the following reason.\n",
    "#Because the sample size is so small we are more likely to have type 1 error (i think)\n",
    "#Therefore a 0.10 is okay because the risk of a type 2 error"
   ]
  }
 ],
 "metadata": {
  "kernelspec": {
   "display_name": "R",
   "language": "R",
   "name": "ir"
  },
  "language_info": {
   "codemirror_mode": "r",
   "file_extension": ".r",
   "mimetype": "text/x-r-source",
   "name": "R",
   "pygments_lexer": "r",
   "version": "3.6.1"
  }
 },
 "nbformat": 4,
 "nbformat_minor": 4
}

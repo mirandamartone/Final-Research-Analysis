{
 "cells": [
  {
   "cell_type": "code",
   "execution_count": 24,
   "metadata": {},
   "outputs": [
    {
     "name": "stderr",
     "output_type": "stream",
     "text": [
      "Parsed with column specification:\n",
      "cols(\n",
      "  .default = col_double(),\n",
      "  states = \u001b[31mcol_character()\u001b[39m,\n",
      "  `effective date` = \u001b[31mcol_character()\u001b[39m,\n",
      "  `valid through date` = \u001b[31mcol_character()\u001b[39m\n",
      ")\n",
      "See spec(...) for full column specifications.\n",
      "Parsed with column specification:\n",
      "cols(\n",
      "  states = \u001b[31mcol_character()\u001b[39m,\n",
      "  percentage_single_mothers = \u001b[32mcol_double()\u001b[39m\n",
      ")\n"
     ]
    },
    {
     "data": {
      "text/html": [
       "<table>\n",
       "<caption>A tibble: 6 × 2</caption>\n",
       "<thead>\n",
       "\t<tr><th scope=col>states</th><th scope=col>percentage_single_mothers</th></tr>\n",
       "\t<tr><th scope=col>&lt;chr&gt;</th><th scope=col>&lt;dbl&gt;</th></tr>\n",
       "</thead>\n",
       "<tbody>\n",
       "\t<tr><td>Louisiana     </td><td>11.67</td></tr>\n",
       "\t<tr><td>Mississippi   </td><td>11.30</td></tr>\n",
       "\t<tr><td>New Mexico    </td><td> 9.69</td></tr>\n",
       "\t<tr><td>North Carolina</td><td> 9.53</td></tr>\n",
       "\t<tr><td>Georgia       </td><td> 9.51</td></tr>\n",
       "\t<tr><td>South Carolina</td><td> 8.94</td></tr>\n",
       "</tbody>\n",
       "</table>\n"
      ],
      "text/latex": [
       "A tibble: 6 × 2\n",
       "\\begin{tabular}{r|ll}\n",
       " states & percentage\\_single\\_mothers\\\\\n",
       " <chr> & <dbl>\\\\\n",
       "\\hline\n",
       "\t Louisiana      & 11.67\\\\\n",
       "\t Mississippi    & 11.30\\\\\n",
       "\t New Mexico     &  9.69\\\\\n",
       "\t North Carolina &  9.53\\\\\n",
       "\t Georgia        &  9.51\\\\\n",
       "\t South Carolina &  8.94\\\\\n",
       "\\end{tabular}\n"
      ],
      "text/markdown": [
       "\n",
       "A tibble: 6 × 2\n",
       "\n",
       "| states &lt;chr&gt; | percentage_single_mothers &lt;dbl&gt; |\n",
       "|---|---|\n",
       "| Louisiana      | 11.67 |\n",
       "| Mississippi    | 11.30 |\n",
       "| New Mexico     |  9.69 |\n",
       "| North Carolina |  9.53 |\n",
       "| Georgia        |  9.51 |\n",
       "| South Carolina |  8.94 |\n",
       "\n"
      ],
      "text/plain": [
       "  states         percentage_single_mothers\n",
       "1 Louisiana      11.67                    \n",
       "2 Mississippi    11.30                    \n",
       "3 New Mexico      9.69                    \n",
       "4 North Carolina  9.53                    \n",
       "5 Georgia         9.51                    \n",
       "6 South Carolina  8.94                    "
      ]
     },
     "metadata": {},
     "output_type": "display_data"
    },
    {
     "data": {
      "text/html": [
       "<table>\n",
       "<caption>A tibble: 6 × 44</caption>\n",
       "<thead>\n",
       "\t<tr><th scope=col>states</th><th scope=col>effective date</th><th scope=col>valid through date</th><th scope=col>ban_type</th><th scope=col>ban_time</th><th scope=col>prohibit_when_12 weeks postfertilization (14 weeks lmp)</th><th scope=col>prohibit_when_13 weeks postfertilization (15 weeks lmp)</th><th scope=col>prohibit_when_18 weeks postfertilization (20 weeks lmp)</th><th scope=col>prohibit_when20 weeks postfertilization (22 weeks lmp)</th><th scope=col>prohibit_when_22 weeks postfertilization (24 weeks lmp)</th><th scope=col>⋯</th><th scope=col>methods_procedpartial-birth abortions</th><th scope=col>methods_proceddismemberment abortions</th><th scope=col>methods_proced_saline method abortions</th><th scope=col>methods_exclife endangerment</th><th scope=col>methods_excserious health risk</th><th scope=col>methods_exc_fetal anomaly</th><th scope=col>methods_exc_no exceptions</th><th scope=col>limited_law</th><th scope=col>limited_court</th><th scope=col>limited_ag</th></tr>\n",
       "\t<tr><th scope=col>&lt;chr&gt;</th><th scope=col>&lt;chr&gt;</th><th scope=col>&lt;chr&gt;</th><th scope=col>&lt;dbl&gt;</th><th scope=col>&lt;dbl&gt;</th><th scope=col>&lt;dbl&gt;</th><th scope=col>&lt;dbl&gt;</th><th scope=col>&lt;dbl&gt;</th><th scope=col>&lt;dbl&gt;</th><th scope=col>&lt;dbl&gt;</th><th scope=col>⋯</th><th scope=col>&lt;dbl&gt;</th><th scope=col>&lt;dbl&gt;</th><th scope=col>&lt;dbl&gt;</th><th scope=col>&lt;dbl&gt;</th><th scope=col>&lt;dbl&gt;</th><th scope=col>&lt;dbl&gt;</th><th scope=col>&lt;dbl&gt;</th><th scope=col>&lt;dbl&gt;</th><th scope=col>&lt;dbl&gt;</th><th scope=col>&lt;dbl&gt;</th></tr>\n",
       "</thead>\n",
       "<tbody>\n",
       "\t<tr><td>Alabama   </td><td>10/26/2017</td><td>12/1/2018</td><td>1</td><td>1</td><td>0</td><td>0</td><td>0</td><td>1</td><td>0</td><td>⋯</td><td>1</td><td>1</td><td>0</td><td>1</td><td>1</td><td>0</td><td>0</td><td>1</td><td>1</td><td>0</td></tr>\n",
       "\t<tr><td>Alaska    </td><td>7/19/2017 </td><td>12/1/2018</td><td>1</td><td>0</td><td>3</td><td>3</td><td>3</td><td>3</td><td>3</td><td>⋯</td><td>1</td><td>0</td><td>0</td><td>0</td><td>0</td><td>0</td><td>1</td><td>0</td><td>0</td><td>0</td></tr>\n",
       "\t<tr><td>Arizona   </td><td>8/9/2017  </td><td>12/1/2018</td><td>1</td><td>1</td><td>0</td><td>0</td><td>1</td><td>0</td><td>0</td><td>⋯</td><td>1</td><td>0</td><td>0</td><td>1</td><td>0</td><td>0</td><td>0</td><td>1</td><td>1</td><td>0</td></tr>\n",
       "\t<tr><td>Arkansas  </td><td>1/1/2018  </td><td>12/1/2018</td><td>1</td><td>1</td><td>1</td><td>0</td><td>0</td><td>0</td><td>0</td><td>⋯</td><td>1</td><td>1</td><td>0</td><td>1</td><td>0</td><td>0</td><td>0</td><td>1</td><td>1</td><td>0</td></tr>\n",
       "\t<tr><td>California</td><td>1/1/2014  </td><td>12/1/2018</td><td>1</td><td>1</td><td>0</td><td>0</td><td>0</td><td>0</td><td>0</td><td>⋯</td><td>3</td><td>3</td><td>3</td><td>3</td><td>3</td><td>3</td><td>3</td><td>0</td><td>0</td><td>0</td></tr>\n",
       "\t<tr><td>Colorado  </td><td>12/1/2018 </td><td>12/1/2018</td><td>0</td><td>0</td><td>3</td><td>3</td><td>3</td><td>3</td><td>3</td><td>⋯</td><td>3</td><td>3</td><td>3</td><td>3</td><td>3</td><td>3</td><td>3</td><td>0</td><td>0</td><td>0</td></tr>\n",
       "</tbody>\n",
       "</table>\n"
      ],
      "text/latex": [
       "A tibble: 6 × 44\n",
       "\\begin{tabular}{r|llllllllllllllllllllllllllllllllllllllllllll}\n",
       " states & effective date & valid through date & ban\\_type & ban\\_time & prohibit\\_when\\_12 weeks postfertilization (14 weeks lmp) & prohibit\\_when\\_13 weeks postfertilization (15 weeks lmp) & prohibit\\_when\\_18 weeks postfertilization (20 weeks lmp) & prohibit\\_when20 weeks postfertilization (22 weeks lmp) & prohibit\\_when\\_22 weeks postfertilization (24 weeks lmp) & prohibit\\_when\\_24 weeks postfertilization (26 weeks lmp) & prohibit\\_when\\_25 weeks postfertilization (27 weeks lmp) & prohibit\\_when\\_viability & prohibit\\_when\\_3rd trimester & prohibit\\_when\\_fetal heartbeat & prohibit\\_exclife endangerment & prohibit\\_excserious health risk & prohibit\\_exc\\_fetal anomaly & prohibit\\_exc\\_rape & prohibit\\_exc\\_incest & prohibit\\_exc\\_health & exc\\_req\\_must be performed in a hospital & exc\\_reqmust use a method most likely to result in fetal survival & exc\\_req\\_second physician must participate & exc\\_req\\_second physician must certify the exception & exc\\_req\\_two other physicians must certify the exception & exc\\_req\\_second physician must attend the abortion & exc\\_req\\_no requirements & ban\\_reason & reason\\_what\\_race & reason\\_what\\_sex & reason\\_what\\_down syndrome & reason\\_what\\_fetal anomaly & ban\\_method & methods\\_procedpartial-birth abortions & methods\\_proceddismemberment abortions & methods\\_proced\\_saline method abortions & methods\\_exclife endangerment & methods\\_excserious health risk & methods\\_exc\\_fetal anomaly & methods\\_exc\\_no exceptions & limited\\_law & limited\\_court & limited\\_ag\\\\\n",
       " <chr> & <chr> & <chr> & <dbl> & <dbl> & <dbl> & <dbl> & <dbl> & <dbl> & <dbl> & <dbl> & <dbl> & <dbl> & <dbl> & <dbl> & <dbl> & <dbl> & <dbl> & <dbl> & <dbl> & <dbl> & <dbl> & <dbl> & <dbl> & <dbl> & <dbl> & <dbl> & <dbl> & <dbl> & <dbl> & <dbl> & <dbl> & <dbl> & <dbl> & <dbl> & <dbl> & <dbl> & <dbl> & <dbl> & <dbl> & <dbl> & <dbl> & <dbl> & <dbl>\\\\\n",
       "\\hline\n",
       "\t Alabama    & 10/26/2017 & 12/1/2018 & 1 & 1 & 0 & 0 & 0 & 1 & 0 & 0 & 0 & 0 & 0 & 0 & 1 & 1 & 0 & 0 & 0 & 0 & 0 & 1 & 0 & 0 & 0 & 0 & 0 & 0 & 3 & 3 & 3 & 3 & 1 & 1 & 1 & 0 & 1 & 1 & 0 & 0 & 1 & 1 & 0\\\\\n",
       "\t Alaska     & 7/19/2017  & 12/1/2018 & 1 & 0 & 3 & 3 & 3 & 3 & 3 & 3 & 3 & 3 & 3 & 3 & 3 & 3 & 3 & 3 & 3 & 3 & 3 & 3 & 3 & 3 & 3 & 3 & 3 & 0 & 3 & 3 & 3 & 3 & 1 & 1 & 0 & 0 & 0 & 0 & 0 & 1 & 0 & 0 & 0\\\\\n",
       "\t Arizona    & 8/9/2017   & 12/1/2018 & 1 & 1 & 0 & 0 & 1 & 0 & 0 & 0 & 0 & 0 & 0 & 0 & 1 & 1 & 0 & 0 & 0 & 0 & 0 & 0 & 0 & 0 & 0 & 0 & 1 & 1 & 1 & 1 & 0 & 0 & 1 & 1 & 0 & 0 & 1 & 0 & 0 & 0 & 1 & 1 & 0\\\\\n",
       "\t Arkansas   & 1/1/2018   & 12/1/2018 & 1 & 1 & 1 & 0 & 0 & 0 & 0 & 0 & 0 & 0 & 0 & 0 & 1 & 1 & 1 & 1 & 1 & 0 & 0 & 0 & 0 & 0 & 0 & 0 & 1 & 1 & 0 & 1 & 0 & 0 & 1 & 1 & 1 & 0 & 1 & 0 & 0 & 0 & 1 & 1 & 0\\\\\n",
       "\t California & 1/1/2014   & 12/1/2018 & 1 & 1 & 0 & 0 & 0 & 0 & 0 & 0 & 0 & 1 & 0 & 0 & 1 & 1 & 0 & 0 & 0 & 0 & 0 & 0 & 0 & 0 & 0 & 0 & 1 & 0 & 3 & 3 & 3 & 3 & 0 & 3 & 3 & 3 & 3 & 3 & 3 & 3 & 0 & 0 & 0\\\\\n",
       "\t Colorado   & 12/1/2018  & 12/1/2018 & 0 & 0 & 3 & 3 & 3 & 3 & 3 & 3 & 3 & 3 & 3 & 3 & 3 & 3 & 3 & 3 & 3 & 3 & 3 & 3 & 3 & 3 & 3 & 3 & 3 & 0 & 3 & 3 & 3 & 3 & 0 & 3 & 3 & 3 & 3 & 3 & 3 & 3 & 0 & 0 & 0\\\\\n",
       "\\end{tabular}\n"
      ],
      "text/markdown": [
       "\n",
       "A tibble: 6 × 44\n",
       "\n",
       "| states &lt;chr&gt; | effective date &lt;chr&gt; | valid through date &lt;chr&gt; | ban_type &lt;dbl&gt; | ban_time &lt;dbl&gt; | prohibit_when_12 weeks postfertilization (14 weeks lmp) &lt;dbl&gt; | prohibit_when_13 weeks postfertilization (15 weeks lmp) &lt;dbl&gt; | prohibit_when_18 weeks postfertilization (20 weeks lmp) &lt;dbl&gt; | prohibit_when20 weeks postfertilization (22 weeks lmp) &lt;dbl&gt; | prohibit_when_22 weeks postfertilization (24 weeks lmp) &lt;dbl&gt; | ⋯ ⋯ | methods_procedpartial-birth abortions &lt;dbl&gt; | methods_proceddismemberment abortions &lt;dbl&gt; | methods_proced_saline method abortions &lt;dbl&gt; | methods_exclife endangerment &lt;dbl&gt; | methods_excserious health risk &lt;dbl&gt; | methods_exc_fetal anomaly &lt;dbl&gt; | methods_exc_no exceptions &lt;dbl&gt; | limited_law &lt;dbl&gt; | limited_court &lt;dbl&gt; | limited_ag &lt;dbl&gt; |\n",
       "|---|---|---|---|---|---|---|---|---|---|---|---|---|---|---|---|---|---|---|---|---|\n",
       "| Alabama    | 10/26/2017 | 12/1/2018 | 1 | 1 | 0 | 0 | 0 | 1 | 0 | ⋯ | 1 | 1 | 0 | 1 | 1 | 0 | 0 | 1 | 1 | 0 |\n",
       "| Alaska     | 7/19/2017  | 12/1/2018 | 1 | 0 | 3 | 3 | 3 | 3 | 3 | ⋯ | 1 | 0 | 0 | 0 | 0 | 0 | 1 | 0 | 0 | 0 |\n",
       "| Arizona    | 8/9/2017   | 12/1/2018 | 1 | 1 | 0 | 0 | 1 | 0 | 0 | ⋯ | 1 | 0 | 0 | 1 | 0 | 0 | 0 | 1 | 1 | 0 |\n",
       "| Arkansas   | 1/1/2018   | 12/1/2018 | 1 | 1 | 1 | 0 | 0 | 0 | 0 | ⋯ | 1 | 1 | 0 | 1 | 0 | 0 | 0 | 1 | 1 | 0 |\n",
       "| California | 1/1/2014   | 12/1/2018 | 1 | 1 | 0 | 0 | 0 | 0 | 0 | ⋯ | 3 | 3 | 3 | 3 | 3 | 3 | 3 | 0 | 0 | 0 |\n",
       "| Colorado   | 12/1/2018  | 12/1/2018 | 0 | 0 | 3 | 3 | 3 | 3 | 3 | ⋯ | 3 | 3 | 3 | 3 | 3 | 3 | 3 | 0 | 0 | 0 |\n",
       "\n"
      ],
      "text/plain": [
       "  states     effective date valid through date ban_type ban_time\n",
       "1 Alabama    10/26/2017     12/1/2018          1        1       \n",
       "2 Alaska     7/19/2017      12/1/2018          1        0       \n",
       "3 Arizona    8/9/2017       12/1/2018          1        1       \n",
       "4 Arkansas   1/1/2018       12/1/2018          1        1       \n",
       "5 California 1/1/2014       12/1/2018          1        1       \n",
       "6 Colorado   12/1/2018      12/1/2018          0        0       \n",
       "  prohibit_when_12 weeks postfertilization (14 weeks lmp)\n",
       "1 0                                                      \n",
       "2 3                                                      \n",
       "3 0                                                      \n",
       "4 1                                                      \n",
       "5 0                                                      \n",
       "6 3                                                      \n",
       "  prohibit_when_13 weeks postfertilization (15 weeks lmp)\n",
       "1 0                                                      \n",
       "2 3                                                      \n",
       "3 0                                                      \n",
       "4 0                                                      \n",
       "5 0                                                      \n",
       "6 3                                                      \n",
       "  prohibit_when_18 weeks postfertilization (20 weeks lmp)\n",
       "1 0                                                      \n",
       "2 3                                                      \n",
       "3 1                                                      \n",
       "4 0                                                      \n",
       "5 0                                                      \n",
       "6 3                                                      \n",
       "  prohibit_when20 weeks postfertilization (22 weeks lmp)\n",
       "1 1                                                     \n",
       "2 3                                                     \n",
       "3 0                                                     \n",
       "4 0                                                     \n",
       "5 0                                                     \n",
       "6 3                                                     \n",
       "  prohibit_when_22 weeks postfertilization (24 weeks lmp) ⋯\n",
       "1 0                                                       ⋯\n",
       "2 3                                                       ⋯\n",
       "3 0                                                       ⋯\n",
       "4 0                                                       ⋯\n",
       "5 0                                                       ⋯\n",
       "6 3                                                       ⋯\n",
       "  methods_procedpartial-birth abortions methods_proceddismemberment abortions\n",
       "1 1                                     1                                    \n",
       "2 1                                     0                                    \n",
       "3 1                                     0                                    \n",
       "4 1                                     1                                    \n",
       "5 3                                     3                                    \n",
       "6 3                                     3                                    \n",
       "  methods_proced_saline method abortions methods_exclife endangerment\n",
       "1 0                                      1                           \n",
       "2 0                                      0                           \n",
       "3 0                                      1                           \n",
       "4 0                                      1                           \n",
       "5 3                                      3                           \n",
       "6 3                                      3                           \n",
       "  methods_excserious health risk methods_exc_fetal anomaly\n",
       "1 1                              0                        \n",
       "2 0                              0                        \n",
       "3 0                              0                        \n",
       "4 0                              0                        \n",
       "5 3                              3                        \n",
       "6 3                              3                        \n",
       "  methods_exc_no exceptions limited_law limited_court limited_ag\n",
       "1 0                         1           1             0         \n",
       "2 1                         0           0             0         \n",
       "3 0                         1           1             0         \n",
       "4 0                         1           1             0         \n",
       "5 3                         0           0             0         \n",
       "6 3                         0           0             0         "
      ]
     },
     "metadata": {},
     "output_type": "display_data"
    }
   ],
   "source": [
    "#Load packages\n",
    "library(readr)\n",
    "library(dplyr)\n",
    "\n",
    "df_abort <- read_csv(\"final_abortion_1.csv\")\n",
    "df_sm <- read_csv(\"final_single_mothers.csv\")\n",
    "\n",
    "head(df_sm)\n",
    "head(df_abort)"
   ]
  },
  {
   "cell_type": "code",
   "execution_count": 18,
   "metadata": {},
   "outputs": [
    {
     "data": {
      "text/html": [
       "<ol class=list-inline>\n",
       "\t<li>'Louisiana'</li>\n",
       "\t<li>'Mississippi'</li>\n",
       "\t<li>'New Mexico'</li>\n",
       "\t<li>'North Carolina'</li>\n",
       "\t<li>'Georgia'</li>\n",
       "\t<li>'South Carolina'</li>\n",
       "</ol>\n"
      ],
      "text/latex": [
       "\\begin{enumerate*}\n",
       "\\item 'Louisiana'\n",
       "\\item 'Mississippi'\n",
       "\\item 'New Mexico'\n",
       "\\item 'North Carolina'\n",
       "\\item 'Georgia'\n",
       "\\item 'South Carolina'\n",
       "\\end{enumerate*}\n"
      ],
      "text/markdown": [
       "1. 'Louisiana'\n",
       "2. 'Mississippi'\n",
       "3. 'New Mexico'\n",
       "4. 'North Carolina'\n",
       "5. 'Georgia'\n",
       "6. 'South Carolina'\n",
       "\n",
       "\n"
      ],
      "text/plain": [
       "[1] \"Louisiana\"      \"Mississippi\"    \"New Mexico\"     \"North Carolina\"\n",
       "[5] \"Georgia\"        \"South Carolina\""
      ]
     },
     "metadata": {},
     "output_type": "display_data"
    }
   ],
   "source": [
    "states <- df_sm$\"states\"\n",
    "head(states)"
   ]
  },
  {
   "cell_type": "code",
   "execution_count": 19,
   "metadata": {},
   "outputs": [],
   "source": [
    "df_joined <- df_abort %>% right_join(df_sm, by=c(\"states\"))"
   ]
  },
  {
   "cell_type": "code",
   "execution_count": 20,
   "metadata": {},
   "outputs": [
    {
     "data": {
      "text/html": [
       "<table>\n",
       "<caption>A tibble: 6 × 45</caption>\n",
       "<thead>\n",
       "\t<tr><th scope=col>states</th><th scope=col>effective date</th><th scope=col>valid through date</th><th scope=col>ban_type</th><th scope=col>ban_time</th><th scope=col>prohibit_when_12 weeks postfertilization (14 weeks lmp)</th><th scope=col>prohibit_when_13 weeks postfertilization (15 weeks lmp)</th><th scope=col>prohibit_when_18 weeks postfertilization (20 weeks lmp)</th><th scope=col>prohibit_when20 weeks postfertilization (22 weeks lmp)</th><th scope=col>prohibit_when_22 weeks postfertilization (24 weeks lmp)</th><th scope=col>⋯</th><th scope=col>methods_proceddismemberment abortions</th><th scope=col>methods_proced_saline method abortions</th><th scope=col>methods_exclife endangerment</th><th scope=col>methods_excserious health risk</th><th scope=col>methods_exc_fetal anomaly</th><th scope=col>methods_exc_no exceptions</th><th scope=col>limited_law</th><th scope=col>limited_court</th><th scope=col>limited_ag</th><th scope=col>percentage_single_mothers</th></tr>\n",
       "\t<tr><th scope=col>&lt;chr&gt;</th><th scope=col>&lt;chr&gt;</th><th scope=col>&lt;chr&gt;</th><th scope=col>&lt;dbl&gt;</th><th scope=col>&lt;dbl&gt;</th><th scope=col>&lt;dbl&gt;</th><th scope=col>&lt;dbl&gt;</th><th scope=col>&lt;dbl&gt;</th><th scope=col>&lt;dbl&gt;</th><th scope=col>&lt;dbl&gt;</th><th scope=col>⋯</th><th scope=col>&lt;dbl&gt;</th><th scope=col>&lt;dbl&gt;</th><th scope=col>&lt;dbl&gt;</th><th scope=col>&lt;dbl&gt;</th><th scope=col>&lt;dbl&gt;</th><th scope=col>&lt;dbl&gt;</th><th scope=col>&lt;dbl&gt;</th><th scope=col>&lt;dbl&gt;</th><th scope=col>&lt;dbl&gt;</th><th scope=col>&lt;dbl&gt;</th></tr>\n",
       "</thead>\n",
       "<tbody>\n",
       "\t<tr><td>Louisiana     </td><td>5/23/2018 </td><td>12/1/2018</td><td>1</td><td>1</td><td>0</td><td>0</td><td>0</td><td>1</td><td>0</td><td>⋯</td><td>1</td><td>0</td><td>1</td><td>1</td><td>0</td><td>0</td><td>1</td><td>1</td><td>0</td><td>11.67</td></tr>\n",
       "\t<tr><td>Mississippi   </td><td>11/20/2018</td><td>12/1/2018</td><td>1</td><td>1</td><td>0</td><td>1</td><td>0</td><td>0</td><td>0</td><td>⋯</td><td>1</td><td>0</td><td>1</td><td>1</td><td>0</td><td>0</td><td>1</td><td>1</td><td>0</td><td>11.30</td></tr>\n",
       "\t<tr><td>New Mexico    </td><td>5/17/2000 </td><td>12/1/2018</td><td>1</td><td>0</td><td>3</td><td>3</td><td>3</td><td>3</td><td>3</td><td>⋯</td><td>0</td><td>0</td><td>1</td><td>1</td><td>0</td><td>0</td><td>0</td><td>0</td><td>0</td><td> 9.69</td></tr>\n",
       "\t<tr><td>North Carolina</td><td>10/1/2015 </td><td>12/1/2018</td><td>1</td><td>1</td><td>0</td><td>0</td><td>0</td><td>1</td><td>0</td><td>⋯</td><td>3</td><td>3</td><td>3</td><td>3</td><td>3</td><td>3</td><td>0</td><td>0</td><td>0</td><td> 9.53</td></tr>\n",
       "\t<tr><td>Georgia       </td><td>5/9/2017  </td><td>12/1/2018</td><td>1</td><td>1</td><td>0</td><td>0</td><td>0</td><td>1</td><td>0</td><td>⋯</td><td>0</td><td>0</td><td>1</td><td>0</td><td>0</td><td>0</td><td>0</td><td>0</td><td>0</td><td> 9.51</td></tr>\n",
       "\t<tr><td>South Carolina</td><td>5/25/2016 </td><td>12/1/2018</td><td>1</td><td>1</td><td>0</td><td>0</td><td>0</td><td>1</td><td>0</td><td>⋯</td><td>0</td><td>0</td><td>1</td><td>1</td><td>0</td><td>0</td><td>0</td><td>0</td><td>0</td><td> 8.94</td></tr>\n",
       "</tbody>\n",
       "</table>\n"
      ],
      "text/latex": [
       "A tibble: 6 × 45\n",
       "\\begin{tabular}{r|lllllllllllllllllllllllllllllllllllllllllllll}\n",
       " states & effective date & valid through date & ban\\_type & ban\\_time & prohibit\\_when\\_12 weeks postfertilization (14 weeks lmp) & prohibit\\_when\\_13 weeks postfertilization (15 weeks lmp) & prohibit\\_when\\_18 weeks postfertilization (20 weeks lmp) & prohibit\\_when20 weeks postfertilization (22 weeks lmp) & prohibit\\_when\\_22 weeks postfertilization (24 weeks lmp) & prohibit\\_when\\_24 weeks postfertilization (26 weeks lmp) & prohibit\\_when\\_25 weeks postfertilization (27 weeks lmp) & prohibit\\_when\\_viability & prohibit\\_when\\_3rd trimester & prohibit\\_when\\_fetal heartbeat & prohibit\\_exclife endangerment & prohibit\\_excserious health risk & prohibit\\_exc\\_fetal anomaly & prohibit\\_exc\\_rape & prohibit\\_exc\\_incest & prohibit\\_exc\\_health & exc\\_req\\_must be performed in a hospital & exc\\_reqmust use a method most likely to result in fetal survival & exc\\_req\\_second physician must participate & exc\\_req\\_second physician must certify the exception & exc\\_req\\_two other physicians must certify the exception & exc\\_req\\_second physician must attend the abortion & exc\\_req\\_no requirements & ban\\_reason & reason\\_what\\_race & reason\\_what\\_sex & reason\\_what\\_down syndrome & reason\\_what\\_fetal anomaly & ban\\_method & methods\\_procedpartial-birth abortions & methods\\_proceddismemberment abortions & methods\\_proced\\_saline method abortions & methods\\_exclife endangerment & methods\\_excserious health risk & methods\\_exc\\_fetal anomaly & methods\\_exc\\_no exceptions & limited\\_law & limited\\_court & limited\\_ag & percentage\\_single\\_mothers\\\\\n",
       " <chr> & <chr> & <chr> & <dbl> & <dbl> & <dbl> & <dbl> & <dbl> & <dbl> & <dbl> & <dbl> & <dbl> & <dbl> & <dbl> & <dbl> & <dbl> & <dbl> & <dbl> & <dbl> & <dbl> & <dbl> & <dbl> & <dbl> & <dbl> & <dbl> & <dbl> & <dbl> & <dbl> & <dbl> & <dbl> & <dbl> & <dbl> & <dbl> & <dbl> & <dbl> & <dbl> & <dbl> & <dbl> & <dbl> & <dbl> & <dbl> & <dbl> & <dbl> & <dbl> & <dbl>\\\\\n",
       "\\hline\n",
       "\t Louisiana      & 5/23/2018  & 12/1/2018 & 1 & 1 & 0 & 0 & 0 & 1 & 0 & 0 & 0 & 0 & 0 & 0 & 1 & 1 & 1 & 0 & 0 & 0 & 0 & 0 & 0 & 0 & 0 & 0 & 1 & 1 & 0 & 0 & 1 & 1 & 1 & 1 & 1 & 0 & 1 & 1 & 0 & 0 & 1 & 1 & 0 & 11.67\\\\\n",
       "\t Mississippi    & 11/20/2018 & 12/1/2018 & 1 & 1 & 0 & 1 & 0 & 0 & 0 & 0 & 0 & 0 & 0 & 0 & 1 & 1 & 1 & 0 & 0 & 0 & 0 & 0 & 0 & 0 & 0 & 0 & 1 & 0 & 3 & 3 & 3 & 3 & 1 & 1 & 1 & 0 & 1 & 1 & 0 & 0 & 1 & 1 & 0 & 11.30\\\\\n",
       "\t New Mexico     & 5/17/2000  & 12/1/2018 & 1 & 0 & 3 & 3 & 3 & 3 & 3 & 3 & 3 & 3 & 3 & 3 & 3 & 3 & 3 & 3 & 3 & 3 & 3 & 3 & 3 & 3 & 3 & 3 & 3 & 0 & 3 & 3 & 3 & 3 & 1 & 1 & 0 & 0 & 1 & 1 & 0 & 0 & 0 & 0 & 0 &  9.69\\\\\n",
       "\t North Carolina & 10/1/2015  & 12/1/2018 & 1 & 1 & 0 & 0 & 0 & 1 & 0 & 0 & 0 & 0 & 0 & 0 & 1 & 1 & 0 & 0 & 0 & 0 & 0 & 0 & 0 & 0 & 0 & 0 & 1 & 1 & 0 & 1 & 0 & 0 & 0 & 3 & 3 & 3 & 3 & 3 & 3 & 3 & 0 & 0 & 0 &  9.53\\\\\n",
       "\t Georgia        & 5/9/2017   & 12/1/2018 & 1 & 1 & 0 & 0 & 0 & 1 & 0 & 0 & 0 & 0 & 0 & 0 & 1 & 1 & 1 & 0 & 0 & 0 & 0 & 1 & 0 & 0 & 1 & 0 & 0 & 0 & 3 & 3 & 3 & 3 & 1 & 1 & 0 & 0 & 1 & 0 & 0 & 0 & 0 & 0 & 0 &  9.51\\\\\n",
       "\t South Carolina & 5/25/2016  & 12/1/2018 & 1 & 1 & 0 & 0 & 0 & 1 & 0 & 0 & 0 & 0 & 0 & 0 & 1 & 1 & 1 & 0 & 0 & 0 & 1 & 1 & 0 & 1 & 0 & 0 & 0 & 0 & 3 & 3 & 3 & 3 & 1 & 1 & 0 & 0 & 1 & 1 & 0 & 0 & 0 & 0 & 0 &  8.94\\\\\n",
       "\\end{tabular}\n"
      ],
      "text/markdown": [
       "\n",
       "A tibble: 6 × 45\n",
       "\n",
       "| states &lt;chr&gt; | effective date &lt;chr&gt; | valid through date &lt;chr&gt; | ban_type &lt;dbl&gt; | ban_time &lt;dbl&gt; | prohibit_when_12 weeks postfertilization (14 weeks lmp) &lt;dbl&gt; | prohibit_when_13 weeks postfertilization (15 weeks lmp) &lt;dbl&gt; | prohibit_when_18 weeks postfertilization (20 weeks lmp) &lt;dbl&gt; | prohibit_when20 weeks postfertilization (22 weeks lmp) &lt;dbl&gt; | prohibit_when_22 weeks postfertilization (24 weeks lmp) &lt;dbl&gt; | ⋯ ⋯ | methods_proceddismemberment abortions &lt;dbl&gt; | methods_proced_saline method abortions &lt;dbl&gt; | methods_exclife endangerment &lt;dbl&gt; | methods_excserious health risk &lt;dbl&gt; | methods_exc_fetal anomaly &lt;dbl&gt; | methods_exc_no exceptions &lt;dbl&gt; | limited_law &lt;dbl&gt; | limited_court &lt;dbl&gt; | limited_ag &lt;dbl&gt; | percentage_single_mothers &lt;dbl&gt; |\n",
       "|---|---|---|---|---|---|---|---|---|---|---|---|---|---|---|---|---|---|---|---|---|\n",
       "| Louisiana      | 5/23/2018  | 12/1/2018 | 1 | 1 | 0 | 0 | 0 | 1 | 0 | ⋯ | 1 | 0 | 1 | 1 | 0 | 0 | 1 | 1 | 0 | 11.67 |\n",
       "| Mississippi    | 11/20/2018 | 12/1/2018 | 1 | 1 | 0 | 1 | 0 | 0 | 0 | ⋯ | 1 | 0 | 1 | 1 | 0 | 0 | 1 | 1 | 0 | 11.30 |\n",
       "| New Mexico     | 5/17/2000  | 12/1/2018 | 1 | 0 | 3 | 3 | 3 | 3 | 3 | ⋯ | 0 | 0 | 1 | 1 | 0 | 0 | 0 | 0 | 0 |  9.69 |\n",
       "| North Carolina | 10/1/2015  | 12/1/2018 | 1 | 1 | 0 | 0 | 0 | 1 | 0 | ⋯ | 3 | 3 | 3 | 3 | 3 | 3 | 0 | 0 | 0 |  9.53 |\n",
       "| Georgia        | 5/9/2017   | 12/1/2018 | 1 | 1 | 0 | 0 | 0 | 1 | 0 | ⋯ | 0 | 0 | 1 | 0 | 0 | 0 | 0 | 0 | 0 |  9.51 |\n",
       "| South Carolina | 5/25/2016  | 12/1/2018 | 1 | 1 | 0 | 0 | 0 | 1 | 0 | ⋯ | 0 | 0 | 1 | 1 | 0 | 0 | 0 | 0 | 0 |  8.94 |\n",
       "\n"
      ],
      "text/plain": [
       "  states         effective date valid through date ban_type ban_time\n",
       "1 Louisiana      5/23/2018      12/1/2018          1        1       \n",
       "2 Mississippi    11/20/2018     12/1/2018          1        1       \n",
       "3 New Mexico     5/17/2000      12/1/2018          1        0       \n",
       "4 North Carolina 10/1/2015      12/1/2018          1        1       \n",
       "5 Georgia        5/9/2017       12/1/2018          1        1       \n",
       "6 South Carolina 5/25/2016      12/1/2018          1        1       \n",
       "  prohibit_when_12 weeks postfertilization (14 weeks lmp)\n",
       "1 0                                                      \n",
       "2 0                                                      \n",
       "3 3                                                      \n",
       "4 0                                                      \n",
       "5 0                                                      \n",
       "6 0                                                      \n",
       "  prohibit_when_13 weeks postfertilization (15 weeks lmp)\n",
       "1 0                                                      \n",
       "2 1                                                      \n",
       "3 3                                                      \n",
       "4 0                                                      \n",
       "5 0                                                      \n",
       "6 0                                                      \n",
       "  prohibit_when_18 weeks postfertilization (20 weeks lmp)\n",
       "1 0                                                      \n",
       "2 0                                                      \n",
       "3 3                                                      \n",
       "4 0                                                      \n",
       "5 0                                                      \n",
       "6 0                                                      \n",
       "  prohibit_when20 weeks postfertilization (22 weeks lmp)\n",
       "1 1                                                     \n",
       "2 0                                                     \n",
       "3 3                                                     \n",
       "4 1                                                     \n",
       "5 1                                                     \n",
       "6 1                                                     \n",
       "  prohibit_when_22 weeks postfertilization (24 weeks lmp) ⋯\n",
       "1 0                                                       ⋯\n",
       "2 0                                                       ⋯\n",
       "3 3                                                       ⋯\n",
       "4 0                                                       ⋯\n",
       "5 0                                                       ⋯\n",
       "6 0                                                       ⋯\n",
       "  methods_proceddismemberment abortions methods_proced_saline method abortions\n",
       "1 1                                     0                                     \n",
       "2 1                                     0                                     \n",
       "3 0                                     0                                     \n",
       "4 3                                     3                                     \n",
       "5 0                                     0                                     \n",
       "6 0                                     0                                     \n",
       "  methods_exclife endangerment methods_excserious health risk\n",
       "1 1                            1                             \n",
       "2 1                            1                             \n",
       "3 1                            1                             \n",
       "4 3                            3                             \n",
       "5 1                            0                             \n",
       "6 1                            1                             \n",
       "  methods_exc_fetal anomaly methods_exc_no exceptions limited_law limited_court\n",
       "1 0                         0                         1           1            \n",
       "2 0                         0                         1           1            \n",
       "3 0                         0                         0           0            \n",
       "4 3                         3                         0           0            \n",
       "5 0                         0                         0           0            \n",
       "6 0                         0                         0           0            \n",
       "  limited_ag percentage_single_mothers\n",
       "1 0          11.67                    \n",
       "2 0          11.30                    \n",
       "3 0           9.69                    \n",
       "4 0           9.53                    \n",
       "5 0           9.51                    \n",
       "6 0           8.94                    "
      ]
     },
     "metadata": {},
     "output_type": "display_data"
    }
   ],
   "source": [
    "head(df_joined)"
   ]
  },
  {
   "cell_type": "code",
   "execution_count": null,
   "metadata": {},
   "outputs": [],
   "source": []
  },
  {
   "cell_type": "code",
   "execution_count": 23,
   "metadata": {},
   "outputs": [
    {
     "data": {
      "text/html": [
       "<table>\n",
       "<caption>A tibble: 6 × 6</caption>\n",
       "<thead>\n",
       "\t<tr><th scope=col>states</th><th scope=col>ban_type</th><th scope=col>ban_time</th><th scope=col>ban_reason</th><th scope=col>ban_method</th><th scope=col>percentage_single_mothers</th></tr>\n",
       "\t<tr><th scope=col>&lt;chr&gt;</th><th scope=col>&lt;dbl&gt;</th><th scope=col>&lt;dbl&gt;</th><th scope=col>&lt;dbl&gt;</th><th scope=col>&lt;dbl&gt;</th><th scope=col>&lt;dbl&gt;</th></tr>\n",
       "</thead>\n",
       "<tbody>\n",
       "\t<tr><td>Louisiana     </td><td>1</td><td>1</td><td>1</td><td>1</td><td>11.67</td></tr>\n",
       "\t<tr><td>Mississippi   </td><td>1</td><td>1</td><td>0</td><td>1</td><td>11.30</td></tr>\n",
       "\t<tr><td>New Mexico    </td><td>1</td><td>0</td><td>0</td><td>1</td><td> 9.69</td></tr>\n",
       "\t<tr><td>North Carolina</td><td>1</td><td>1</td><td>1</td><td>0</td><td> 9.53</td></tr>\n",
       "\t<tr><td>Georgia       </td><td>1</td><td>1</td><td>0</td><td>1</td><td> 9.51</td></tr>\n",
       "\t<tr><td>South Carolina</td><td>1</td><td>1</td><td>0</td><td>1</td><td> 8.94</td></tr>\n",
       "</tbody>\n",
       "</table>\n"
      ],
      "text/latex": [
       "A tibble: 6 × 6\n",
       "\\begin{tabular}{r|llllll}\n",
       " states & ban\\_type & ban\\_time & ban\\_reason & ban\\_method & percentage\\_single\\_mothers\\\\\n",
       " <chr> & <dbl> & <dbl> & <dbl> & <dbl> & <dbl>\\\\\n",
       "\\hline\n",
       "\t Louisiana      & 1 & 1 & 1 & 1 & 11.67\\\\\n",
       "\t Mississippi    & 1 & 1 & 0 & 1 & 11.30\\\\\n",
       "\t New Mexico     & 1 & 0 & 0 & 1 &  9.69\\\\\n",
       "\t North Carolina & 1 & 1 & 1 & 0 &  9.53\\\\\n",
       "\t Georgia        & 1 & 1 & 0 & 1 &  9.51\\\\\n",
       "\t South Carolina & 1 & 1 & 0 & 1 &  8.94\\\\\n",
       "\\end{tabular}\n"
      ],
      "text/markdown": [
       "\n",
       "A tibble: 6 × 6\n",
       "\n",
       "| states &lt;chr&gt; | ban_type &lt;dbl&gt; | ban_time &lt;dbl&gt; | ban_reason &lt;dbl&gt; | ban_method &lt;dbl&gt; | percentage_single_mothers &lt;dbl&gt; |\n",
       "|---|---|---|---|---|---|\n",
       "| Louisiana      | 1 | 1 | 1 | 1 | 11.67 |\n",
       "| Mississippi    | 1 | 1 | 0 | 1 | 11.30 |\n",
       "| New Mexico     | 1 | 0 | 0 | 1 |  9.69 |\n",
       "| North Carolina | 1 | 1 | 1 | 0 |  9.53 |\n",
       "| Georgia        | 1 | 1 | 0 | 1 |  9.51 |\n",
       "| South Carolina | 1 | 1 | 0 | 1 |  8.94 |\n",
       "\n"
      ],
      "text/plain": [
       "  states         ban_type ban_time ban_reason ban_method\n",
       "1 Louisiana      1        1        1          1         \n",
       "2 Mississippi    1        1        0          1         \n",
       "3 New Mexico     1        0        0          1         \n",
       "4 North Carolina 1        1        1          0         \n",
       "5 Georgia        1        1        0          1         \n",
       "6 South Carolina 1        1        0          1         \n",
       "  percentage_single_mothers\n",
       "1 11.67                    \n",
       "2 11.30                    \n",
       "3  9.69                    \n",
       "4  9.53                    \n",
       "5  9.51                    \n",
       "6  8.94                    "
      ]
     },
     "metadata": {},
     "output_type": "display_data"
    }
   ],
   "source": [
    "df_final <- unique(df_joined[, c(\"states\", \"ban_type\", \"ban_time\",\"ban_reason\", \"ban_method\", \"percentage_single_mothers\")])\n",
    "head(df_final)"
   ]
  },
  {
   "cell_type": "code",
   "execution_count": 27,
   "metadata": {},
   "outputs": [
    {
     "data": {
      "text/html": [
       "<table>\n",
       "<caption>A tibble: 6 × 7</caption>\n",
       "<thead>\n",
       "\t<tr><th scope=col>states</th><th scope=col>ban_type</th><th scope=col>ban_time</th><th scope=col>ban_reason</th><th scope=col>ban_method</th><th scope=col>percentage_single_mothers</th><th scope=col>ban_scale</th></tr>\n",
       "\t<tr><th scope=col>&lt;chr&gt;</th><th scope=col>&lt;dbl&gt;</th><th scope=col>&lt;dbl&gt;</th><th scope=col>&lt;dbl&gt;</th><th scope=col>&lt;dbl&gt;</th><th scope=col>&lt;dbl&gt;</th><th scope=col>&lt;dbl&gt;</th></tr>\n",
       "</thead>\n",
       "<tbody>\n",
       "\t<tr><td>Louisiana     </td><td>1</td><td>1</td><td>1</td><td>1</td><td>11.67</td><td>4</td></tr>\n",
       "\t<tr><td>Mississippi   </td><td>1</td><td>1</td><td>0</td><td>1</td><td>11.30</td><td>3</td></tr>\n",
       "\t<tr><td>New Mexico    </td><td>1</td><td>0</td><td>0</td><td>1</td><td> 9.69</td><td>2</td></tr>\n",
       "\t<tr><td>North Carolina</td><td>1</td><td>1</td><td>1</td><td>0</td><td> 9.53</td><td>3</td></tr>\n",
       "\t<tr><td>Georgia       </td><td>1</td><td>1</td><td>0</td><td>1</td><td> 9.51</td><td>3</td></tr>\n",
       "\t<tr><td>South Carolina</td><td>1</td><td>1</td><td>0</td><td>1</td><td> 8.94</td><td>3</td></tr>\n",
       "</tbody>\n",
       "</table>\n"
      ],
      "text/latex": [
       "A tibble: 6 × 7\n",
       "\\begin{tabular}{r|lllllll}\n",
       " states & ban\\_type & ban\\_time & ban\\_reason & ban\\_method & percentage\\_single\\_mothers & ban\\_scale\\\\\n",
       " <chr> & <dbl> & <dbl> & <dbl> & <dbl> & <dbl> & <dbl>\\\\\n",
       "\\hline\n",
       "\t Louisiana      & 1 & 1 & 1 & 1 & 11.67 & 4\\\\\n",
       "\t Mississippi    & 1 & 1 & 0 & 1 & 11.30 & 3\\\\\n",
       "\t New Mexico     & 1 & 0 & 0 & 1 &  9.69 & 2\\\\\n",
       "\t North Carolina & 1 & 1 & 1 & 0 &  9.53 & 3\\\\\n",
       "\t Georgia        & 1 & 1 & 0 & 1 &  9.51 & 3\\\\\n",
       "\t South Carolina & 1 & 1 & 0 & 1 &  8.94 & 3\\\\\n",
       "\\end{tabular}\n"
      ],
      "text/markdown": [
       "\n",
       "A tibble: 6 × 7\n",
       "\n",
       "| states &lt;chr&gt; | ban_type &lt;dbl&gt; | ban_time &lt;dbl&gt; | ban_reason &lt;dbl&gt; | ban_method &lt;dbl&gt; | percentage_single_mothers &lt;dbl&gt; | ban_scale &lt;dbl&gt; |\n",
       "|---|---|---|---|---|---|---|\n",
       "| Louisiana      | 1 | 1 | 1 | 1 | 11.67 | 4 |\n",
       "| Mississippi    | 1 | 1 | 0 | 1 | 11.30 | 3 |\n",
       "| New Mexico     | 1 | 0 | 0 | 1 |  9.69 | 2 |\n",
       "| North Carolina | 1 | 1 | 1 | 0 |  9.53 | 3 |\n",
       "| Georgia        | 1 | 1 | 0 | 1 |  9.51 | 3 |\n",
       "| South Carolina | 1 | 1 | 0 | 1 |  8.94 | 3 |\n",
       "\n"
      ],
      "text/plain": [
       "  states         ban_type ban_time ban_reason ban_method\n",
       "1 Louisiana      1        1        1          1         \n",
       "2 Mississippi    1        1        0          1         \n",
       "3 New Mexico     1        0        0          1         \n",
       "4 North Carolina 1        1        1          0         \n",
       "5 Georgia        1        1        0          1         \n",
       "6 South Carolina 1        1        0          1         \n",
       "  percentage_single_mothers ban_scale\n",
       "1 11.67                     4        \n",
       "2 11.30                     3        \n",
       "3  9.69                     2        \n",
       "4  9.53                     3        \n",
       "5  9.51                     3        \n",
       "6  8.94                     3        "
      ]
     },
     "metadata": {},
     "output_type": "display_data"
    }
   ],
   "source": [
    "#Creating a column that adds all of the individual legislation into one metric for the abortion ban scale \n",
    "df_final$ban_scale <- df_final$ban_type +  df_final$ban_time +  df_final$ban_reason + df_final$ban_method\n",
    "head(df_final)"
   ]
  },
  {
   "cell_type": "code",
   "execution_count": 28,
   "metadata": {},
   "outputs": [],
   "source": [
    "#Create a function for the abortion ban scale to add all of the individual legislation into one metric\n",
    "sum_columns <- function(p, a, u, l){\n",
    "    n <- length(p)\n",
    "    res <- rep(0, n)\n",
    "    \n",
    "    for(i in 1:n){\n",
    "        res[i] <- sum(p[i], a[i], u[i], l[i], na.rm = TRUE)\n",
    "}\n",
    "    return(res)\n",
    "}"
   ]
  },
  {
   "cell_type": "code",
   "execution_count": 106,
   "metadata": {},
   "outputs": [
    {
     "data": {
      "text/html": [
       "<table>\n",
       "<caption>A tibble: 52 × 9</caption>\n",
       "<thead>\n",
       "\t<tr><th scope=col>states</th><th scope=col>ban_type</th><th scope=col>ban_time</th><th scope=col>ban_reason</th><th scope=col>ban_method</th><th scope=col>percentage_single_mothers</th><th scope=col>ban_scale</th><th scope=col>ban_scale2</th><th scope=col>new_ban_scale</th></tr>\n",
       "\t<tr><th scope=col>&lt;chr&gt;</th><th scope=col>&lt;dbl&gt;</th><th scope=col>&lt;dbl&gt;</th><th scope=col>&lt;dbl&gt;</th><th scope=col>&lt;dbl&gt;</th><th scope=col>&lt;dbl&gt;</th><th scope=col>&lt;dbl&gt;</th><th scope=col>&lt;dbl&gt;</th><th scope=col>&lt;dbl&gt;</th></tr>\n",
       "</thead>\n",
       "<tbody>\n",
       "\t<tr><td>Louisiana           </td><td> 1</td><td> 1</td><td> 1</td><td> 1</td><td>11.67</td><td> 4</td><td>4</td><td> 3</td></tr>\n",
       "\t<tr><td>Mississippi         </td><td> 1</td><td> 1</td><td> 0</td><td> 1</td><td>11.30</td><td> 3</td><td>3</td><td> 2</td></tr>\n",
       "\t<tr><td>New Mexico          </td><td> 1</td><td> 0</td><td> 0</td><td> 1</td><td> 9.69</td><td> 2</td><td>2</td><td> 1</td></tr>\n",
       "\t<tr><td>North Carolina      </td><td> 1</td><td> 1</td><td> 1</td><td> 0</td><td> 9.53</td><td> 3</td><td>3</td><td> 2</td></tr>\n",
       "\t<tr><td>Georgia             </td><td> 1</td><td> 1</td><td> 0</td><td> 1</td><td> 9.51</td><td> 3</td><td>3</td><td> 2</td></tr>\n",
       "\t<tr><td>South Carolina      </td><td> 1</td><td> 1</td><td> 0</td><td> 1</td><td> 8.94</td><td> 3</td><td>3</td><td> 2</td></tr>\n",
       "\t<tr><td>Oklahoma            </td><td> 1</td><td> 1</td><td> 1</td><td> 1</td><td> 8.63</td><td> 4</td><td>4</td><td> 3</td></tr>\n",
       "\t<tr><td>Rhode Island        </td><td> 1</td><td> 1</td><td> 0</td><td> 1</td><td> 8.28</td><td> 3</td><td>3</td><td> 2</td></tr>\n",
       "\t<tr><td>Texas               </td><td> 1</td><td> 1</td><td> 0</td><td> 1</td><td> 8.25</td><td> 3</td><td>3</td><td> 2</td></tr>\n",
       "\t<tr><td>Delaware            </td><td> 1</td><td> 1</td><td> 0</td><td> 0</td><td> 8.07</td><td> 2</td><td>2</td><td> 1</td></tr>\n",
       "\t<tr><td>Arkansas            </td><td> 1</td><td> 1</td><td> 1</td><td> 1</td><td> 8.00</td><td> 4</td><td>4</td><td> 3</td></tr>\n",
       "\t<tr><td>Pennsylvania        </td><td> 1</td><td> 1</td><td> 1</td><td> 0</td><td> 7.91</td><td> 3</td><td>3</td><td> 2</td></tr>\n",
       "\t<tr><td>Alabama             </td><td> 1</td><td> 1</td><td> 0</td><td> 1</td><td> 7.84</td><td> 3</td><td>3</td><td> 2</td></tr>\n",
       "\t<tr><td>Florida             </td><td> 1</td><td> 1</td><td> 0</td><td> 1</td><td> 7.79</td><td> 3</td><td>3</td><td> 2</td></tr>\n",
       "\t<tr><td>Nebraska            </td><td> 1</td><td> 1</td><td> 0</td><td> 1</td><td> 7.68</td><td> 3</td><td>3</td><td> 2</td></tr>\n",
       "\t<tr><td>New York            </td><td> 1</td><td> 1</td><td> 0</td><td> 0</td><td> 7.68</td><td> 2</td><td>2</td><td> 1</td></tr>\n",
       "\t<tr><td>Connecticut         </td><td> 1</td><td> 1</td><td> 0</td><td> 0</td><td> 7.62</td><td> 2</td><td>2</td><td> 1</td></tr>\n",
       "\t<tr><td>Ohio                </td><td> 1</td><td> 1</td><td> 1</td><td> 1</td><td> 7.59</td><td> 4</td><td>4</td><td> 3</td></tr>\n",
       "\t<tr><td>United States       </td><td>NA</td><td>NA</td><td>NA</td><td>NA</td><td> 7.51</td><td>NA</td><td>0</td><td>NA</td></tr>\n",
       "\t<tr><td>Indiana             </td><td> 1</td><td> 1</td><td> 1</td><td> 1</td><td> 7.36</td><td> 4</td><td>4</td><td> 3</td></tr>\n",
       "\t<tr><td>California          </td><td> 1</td><td> 1</td><td> 0</td><td> 0</td><td> 7.34</td><td> 2</td><td>2</td><td> 1</td></tr>\n",
       "\t<tr><td>Missouri            </td><td> 1</td><td> 1</td><td> 0</td><td> 1</td><td> 7.27</td><td> 3</td><td>3</td><td> 2</td></tr>\n",
       "\t<tr><td>Minnesota           </td><td> 1</td><td> 1</td><td> 0</td><td> 0</td><td> 7.25</td><td> 2</td><td>2</td><td> 1</td></tr>\n",
       "\t<tr><td>Alaska              </td><td> 1</td><td> 0</td><td> 0</td><td> 1</td><td> 7.25</td><td> 2</td><td>2</td><td> 1</td></tr>\n",
       "\t<tr><td>Massachusetts       </td><td> 1</td><td> 1</td><td> 0</td><td> 0</td><td> 7.20</td><td> 2</td><td>2</td><td> 1</td></tr>\n",
       "\t<tr><td>District of Columbia</td><td> 0</td><td> 0</td><td> 0</td><td> 0</td><td> 7.19</td><td> 0</td><td>0</td><td> 0</td></tr>\n",
       "\t<tr><td>Kentucky            </td><td> 1</td><td> 1</td><td> 0</td><td> 1</td><td> 7.05</td><td> 3</td><td>3</td><td> 2</td></tr>\n",
       "\t<tr><td>Nevada              </td><td> 1</td><td> 1</td><td> 0</td><td> 0</td><td> 7.04</td><td> 2</td><td>2</td><td> 1</td></tr>\n",
       "\t<tr><td>Arizona             </td><td> 1</td><td> 1</td><td> 1</td><td> 1</td><td> 7.04</td><td> 4</td><td>4</td><td> 3</td></tr>\n",
       "\t<tr><td>Illinois            </td><td> 1</td><td> 1</td><td> 1</td><td> 1</td><td> 6.97</td><td> 4</td><td>4</td><td> 3</td></tr>\n",
       "\t<tr><td>Virginia            </td><td> 1</td><td> 1</td><td> 0</td><td> 1</td><td> 6.95</td><td> 3</td><td>3</td><td> 2</td></tr>\n",
       "\t<tr><td>Kansas              </td><td> 1</td><td> 1</td><td> 1</td><td> 1</td><td> 6.94</td><td> 4</td><td>4</td><td> 3</td></tr>\n",
       "\t<tr><td>Maryland            </td><td> 0</td><td> 0</td><td> 0</td><td> 0</td><td> 6.91</td><td> 0</td><td>0</td><td> 0</td></tr>\n",
       "\t<tr><td>Tennessee           </td><td> 1</td><td> 1</td><td> 0</td><td> 1</td><td> 6.70</td><td> 3</td><td>3</td><td> 2</td></tr>\n",
       "\t<tr><td>West Virginia       </td><td> 1</td><td> 1</td><td> 0</td><td> 1</td><td> 6.70</td><td> 3</td><td>3</td><td> 2</td></tr>\n",
       "\t<tr><td>New Jersey          </td><td> 1</td><td> 0</td><td> 0</td><td> 1</td><td> 6.60</td><td> 2</td><td>2</td><td> 1</td></tr>\n",
       "\t<tr><td>Vermont             </td><td> 0</td><td> 0</td><td> 0</td><td> 0</td><td> 6.46</td><td> 0</td><td>0</td><td> 0</td></tr>\n",
       "\t<tr><td>Michigan            </td><td> 1</td><td> 1</td><td> 0</td><td> 1</td><td> 6.44</td><td> 3</td><td>3</td><td> 2</td></tr>\n",
       "\t<tr><td>Wisconsin           </td><td> 1</td><td> 1</td><td> 0</td><td> 1</td><td> 6.43</td><td> 3</td><td>3</td><td> 2</td></tr>\n",
       "\t<tr><td>Oregon              </td><td> 0</td><td> 0</td><td> 0</td><td> 0</td><td> 6.41</td><td> 0</td><td>0</td><td> 0</td></tr>\n",
       "\t<tr><td>Wyoming             </td><td> 1</td><td> 1</td><td> 0</td><td> 0</td><td> 6.41</td><td> 2</td><td>2</td><td> 1</td></tr>\n",
       "\t<tr><td>Hawaii              </td><td> 0</td><td> 0</td><td> 0</td><td> 0</td><td> 6.22</td><td> 0</td><td>0</td><td> 0</td></tr>\n",
       "\t<tr><td>North Dakota        </td><td> 1</td><td> 1</td><td> 1</td><td> 1</td><td> 6.21</td><td> 4</td><td>4</td><td> 3</td></tr>\n",
       "\t<tr><td>Maine               </td><td> 1</td><td> 1</td><td> 0</td><td> 0</td><td> 6.17</td><td> 2</td><td>2</td><td> 1</td></tr>\n",
       "\t<tr><td>South Dakota        </td><td> 1</td><td> 1</td><td> 1</td><td> 1</td><td> 6.00</td><td> 4</td><td>4</td><td> 3</td></tr>\n",
       "\t<tr><td>Colorado            </td><td> 0</td><td> 0</td><td> 0</td><td> 0</td><td> 5.88</td><td> 0</td><td>0</td><td> 0</td></tr>\n",
       "\t<tr><td>Iowa                </td><td> 1</td><td> 1</td><td> 0</td><td> 1</td><td> 5.87</td><td> 3</td><td>3</td><td> 2</td></tr>\n",
       "\t<tr><td>New Hampshire       </td><td> 1</td><td> 0</td><td> 0</td><td> 1</td><td> 5.87</td><td> 2</td><td>2</td><td> 1</td></tr>\n",
       "\t<tr><td>Washington          </td><td> 1</td><td> 1</td><td> 0</td><td> 0</td><td> 5.58</td><td> 2</td><td>2</td><td> 1</td></tr>\n",
       "\t<tr><td>Utah                </td><td> 1</td><td> 1</td><td> 0</td><td> 1</td><td> 4.89</td><td> 3</td><td>3</td><td> 2</td></tr>\n",
       "\t<tr><td>Idaho               </td><td> 1</td><td> 1</td><td> 0</td><td> 1</td><td> 4.81</td><td> 3</td><td>3</td><td> 2</td></tr>\n",
       "\t<tr><td>Montana             </td><td> 1</td><td> 1</td><td> 0</td><td> 1</td><td> 4.78</td><td> 3</td><td>3</td><td> 2</td></tr>\n",
       "</tbody>\n",
       "</table>\n"
      ],
      "text/latex": [
       "A tibble: 52 × 9\n",
       "\\begin{tabular}{r|lllllllll}\n",
       " states & ban\\_type & ban\\_time & ban\\_reason & ban\\_method & percentage\\_single\\_mothers & ban\\_scale & ban\\_scale2 & new\\_ban\\_scale\\\\\n",
       " <chr> & <dbl> & <dbl> & <dbl> & <dbl> & <dbl> & <dbl> & <dbl> & <dbl>\\\\\n",
       "\\hline\n",
       "\t Louisiana            &  1 &  1 &  1 &  1 & 11.67 &  4 & 4 &  3\\\\\n",
       "\t Mississippi          &  1 &  1 &  0 &  1 & 11.30 &  3 & 3 &  2\\\\\n",
       "\t New Mexico           &  1 &  0 &  0 &  1 &  9.69 &  2 & 2 &  1\\\\\n",
       "\t North Carolina       &  1 &  1 &  1 &  0 &  9.53 &  3 & 3 &  2\\\\\n",
       "\t Georgia              &  1 &  1 &  0 &  1 &  9.51 &  3 & 3 &  2\\\\\n",
       "\t South Carolina       &  1 &  1 &  0 &  1 &  8.94 &  3 & 3 &  2\\\\\n",
       "\t Oklahoma             &  1 &  1 &  1 &  1 &  8.63 &  4 & 4 &  3\\\\\n",
       "\t Rhode Island         &  1 &  1 &  0 &  1 &  8.28 &  3 & 3 &  2\\\\\n",
       "\t Texas                &  1 &  1 &  0 &  1 &  8.25 &  3 & 3 &  2\\\\\n",
       "\t Delaware             &  1 &  1 &  0 &  0 &  8.07 &  2 & 2 &  1\\\\\n",
       "\t Arkansas             &  1 &  1 &  1 &  1 &  8.00 &  4 & 4 &  3\\\\\n",
       "\t Pennsylvania         &  1 &  1 &  1 &  0 &  7.91 &  3 & 3 &  2\\\\\n",
       "\t Alabama              &  1 &  1 &  0 &  1 &  7.84 &  3 & 3 &  2\\\\\n",
       "\t Florida              &  1 &  1 &  0 &  1 &  7.79 &  3 & 3 &  2\\\\\n",
       "\t Nebraska             &  1 &  1 &  0 &  1 &  7.68 &  3 & 3 &  2\\\\\n",
       "\t New York             &  1 &  1 &  0 &  0 &  7.68 &  2 & 2 &  1\\\\\n",
       "\t Connecticut          &  1 &  1 &  0 &  0 &  7.62 &  2 & 2 &  1\\\\\n",
       "\t Ohio                 &  1 &  1 &  1 &  1 &  7.59 &  4 & 4 &  3\\\\\n",
       "\t United States        & NA & NA & NA & NA &  7.51 & NA & 0 & NA\\\\\n",
       "\t Indiana              &  1 &  1 &  1 &  1 &  7.36 &  4 & 4 &  3\\\\\n",
       "\t California           &  1 &  1 &  0 &  0 &  7.34 &  2 & 2 &  1\\\\\n",
       "\t Missouri             &  1 &  1 &  0 &  1 &  7.27 &  3 & 3 &  2\\\\\n",
       "\t Minnesota            &  1 &  1 &  0 &  0 &  7.25 &  2 & 2 &  1\\\\\n",
       "\t Alaska               &  1 &  0 &  0 &  1 &  7.25 &  2 & 2 &  1\\\\\n",
       "\t Massachusetts        &  1 &  1 &  0 &  0 &  7.20 &  2 & 2 &  1\\\\\n",
       "\t District of Columbia &  0 &  0 &  0 &  0 &  7.19 &  0 & 0 &  0\\\\\n",
       "\t Kentucky             &  1 &  1 &  0 &  1 &  7.05 &  3 & 3 &  2\\\\\n",
       "\t Nevada               &  1 &  1 &  0 &  0 &  7.04 &  2 & 2 &  1\\\\\n",
       "\t Arizona              &  1 &  1 &  1 &  1 &  7.04 &  4 & 4 &  3\\\\\n",
       "\t Illinois             &  1 &  1 &  1 &  1 &  6.97 &  4 & 4 &  3\\\\\n",
       "\t Virginia             &  1 &  1 &  0 &  1 &  6.95 &  3 & 3 &  2\\\\\n",
       "\t Kansas               &  1 &  1 &  1 &  1 &  6.94 &  4 & 4 &  3\\\\\n",
       "\t Maryland             &  0 &  0 &  0 &  0 &  6.91 &  0 & 0 &  0\\\\\n",
       "\t Tennessee            &  1 &  1 &  0 &  1 &  6.70 &  3 & 3 &  2\\\\\n",
       "\t West Virginia        &  1 &  1 &  0 &  1 &  6.70 &  3 & 3 &  2\\\\\n",
       "\t New Jersey           &  1 &  0 &  0 &  1 &  6.60 &  2 & 2 &  1\\\\\n",
       "\t Vermont              &  0 &  0 &  0 &  0 &  6.46 &  0 & 0 &  0\\\\\n",
       "\t Michigan             &  1 &  1 &  0 &  1 &  6.44 &  3 & 3 &  2\\\\\n",
       "\t Wisconsin            &  1 &  1 &  0 &  1 &  6.43 &  3 & 3 &  2\\\\\n",
       "\t Oregon               &  0 &  0 &  0 &  0 &  6.41 &  0 & 0 &  0\\\\\n",
       "\t Wyoming              &  1 &  1 &  0 &  0 &  6.41 &  2 & 2 &  1\\\\\n",
       "\t Hawaii               &  0 &  0 &  0 &  0 &  6.22 &  0 & 0 &  0\\\\\n",
       "\t North Dakota         &  1 &  1 &  1 &  1 &  6.21 &  4 & 4 &  3\\\\\n",
       "\t Maine                &  1 &  1 &  0 &  0 &  6.17 &  2 & 2 &  1\\\\\n",
       "\t South Dakota         &  1 &  1 &  1 &  1 &  6.00 &  4 & 4 &  3\\\\\n",
       "\t Colorado             &  0 &  0 &  0 &  0 &  5.88 &  0 & 0 &  0\\\\\n",
       "\t Iowa                 &  1 &  1 &  0 &  1 &  5.87 &  3 & 3 &  2\\\\\n",
       "\t New Hampshire        &  1 &  0 &  0 &  1 &  5.87 &  2 & 2 &  1\\\\\n",
       "\t Washington           &  1 &  1 &  0 &  0 &  5.58 &  2 & 2 &  1\\\\\n",
       "\t Utah                 &  1 &  1 &  0 &  1 &  4.89 &  3 & 3 &  2\\\\\n",
       "\t Idaho                &  1 &  1 &  0 &  1 &  4.81 &  3 & 3 &  2\\\\\n",
       "\t Montana              &  1 &  1 &  0 &  1 &  4.78 &  3 & 3 &  2\\\\\n",
       "\\end{tabular}\n"
      ],
      "text/markdown": [
       "\n",
       "A tibble: 52 × 9\n",
       "\n",
       "| states &lt;chr&gt; | ban_type &lt;dbl&gt; | ban_time &lt;dbl&gt; | ban_reason &lt;dbl&gt; | ban_method &lt;dbl&gt; | percentage_single_mothers &lt;dbl&gt; | ban_scale &lt;dbl&gt; | ban_scale2 &lt;dbl&gt; | new_ban_scale &lt;dbl&gt; |\n",
       "|---|---|---|---|---|---|---|---|---|\n",
       "| Louisiana            |  1 |  1 |  1 |  1 | 11.67 |  4 | 4 |  3 |\n",
       "| Mississippi          |  1 |  1 |  0 |  1 | 11.30 |  3 | 3 |  2 |\n",
       "| New Mexico           |  1 |  0 |  0 |  1 |  9.69 |  2 | 2 |  1 |\n",
       "| North Carolina       |  1 |  1 |  1 |  0 |  9.53 |  3 | 3 |  2 |\n",
       "| Georgia              |  1 |  1 |  0 |  1 |  9.51 |  3 | 3 |  2 |\n",
       "| South Carolina       |  1 |  1 |  0 |  1 |  8.94 |  3 | 3 |  2 |\n",
       "| Oklahoma             |  1 |  1 |  1 |  1 |  8.63 |  4 | 4 |  3 |\n",
       "| Rhode Island         |  1 |  1 |  0 |  1 |  8.28 |  3 | 3 |  2 |\n",
       "| Texas                |  1 |  1 |  0 |  1 |  8.25 |  3 | 3 |  2 |\n",
       "| Delaware             |  1 |  1 |  0 |  0 |  8.07 |  2 | 2 |  1 |\n",
       "| Arkansas             |  1 |  1 |  1 |  1 |  8.00 |  4 | 4 |  3 |\n",
       "| Pennsylvania         |  1 |  1 |  1 |  0 |  7.91 |  3 | 3 |  2 |\n",
       "| Alabama              |  1 |  1 |  0 |  1 |  7.84 |  3 | 3 |  2 |\n",
       "| Florida              |  1 |  1 |  0 |  1 |  7.79 |  3 | 3 |  2 |\n",
       "| Nebraska             |  1 |  1 |  0 |  1 |  7.68 |  3 | 3 |  2 |\n",
       "| New York             |  1 |  1 |  0 |  0 |  7.68 |  2 | 2 |  1 |\n",
       "| Connecticut          |  1 |  1 |  0 |  0 |  7.62 |  2 | 2 |  1 |\n",
       "| Ohio                 |  1 |  1 |  1 |  1 |  7.59 |  4 | 4 |  3 |\n",
       "| United States        | NA | NA | NA | NA |  7.51 | NA | 0 | NA |\n",
       "| Indiana              |  1 |  1 |  1 |  1 |  7.36 |  4 | 4 |  3 |\n",
       "| California           |  1 |  1 |  0 |  0 |  7.34 |  2 | 2 |  1 |\n",
       "| Missouri             |  1 |  1 |  0 |  1 |  7.27 |  3 | 3 |  2 |\n",
       "| Minnesota            |  1 |  1 |  0 |  0 |  7.25 |  2 | 2 |  1 |\n",
       "| Alaska               |  1 |  0 |  0 |  1 |  7.25 |  2 | 2 |  1 |\n",
       "| Massachusetts        |  1 |  1 |  0 |  0 |  7.20 |  2 | 2 |  1 |\n",
       "| District of Columbia |  0 |  0 |  0 |  0 |  7.19 |  0 | 0 |  0 |\n",
       "| Kentucky             |  1 |  1 |  0 |  1 |  7.05 |  3 | 3 |  2 |\n",
       "| Nevada               |  1 |  1 |  0 |  0 |  7.04 |  2 | 2 |  1 |\n",
       "| Arizona              |  1 |  1 |  1 |  1 |  7.04 |  4 | 4 |  3 |\n",
       "| Illinois             |  1 |  1 |  1 |  1 |  6.97 |  4 | 4 |  3 |\n",
       "| Virginia             |  1 |  1 |  0 |  1 |  6.95 |  3 | 3 |  2 |\n",
       "| Kansas               |  1 |  1 |  1 |  1 |  6.94 |  4 | 4 |  3 |\n",
       "| Maryland             |  0 |  0 |  0 |  0 |  6.91 |  0 | 0 |  0 |\n",
       "| Tennessee            |  1 |  1 |  0 |  1 |  6.70 |  3 | 3 |  2 |\n",
       "| West Virginia        |  1 |  1 |  0 |  1 |  6.70 |  3 | 3 |  2 |\n",
       "| New Jersey           |  1 |  0 |  0 |  1 |  6.60 |  2 | 2 |  1 |\n",
       "| Vermont              |  0 |  0 |  0 |  0 |  6.46 |  0 | 0 |  0 |\n",
       "| Michigan             |  1 |  1 |  0 |  1 |  6.44 |  3 | 3 |  2 |\n",
       "| Wisconsin            |  1 |  1 |  0 |  1 |  6.43 |  3 | 3 |  2 |\n",
       "| Oregon               |  0 |  0 |  0 |  0 |  6.41 |  0 | 0 |  0 |\n",
       "| Wyoming              |  1 |  1 |  0 |  0 |  6.41 |  2 | 2 |  1 |\n",
       "| Hawaii               |  0 |  0 |  0 |  0 |  6.22 |  0 | 0 |  0 |\n",
       "| North Dakota         |  1 |  1 |  1 |  1 |  6.21 |  4 | 4 |  3 |\n",
       "| Maine                |  1 |  1 |  0 |  0 |  6.17 |  2 | 2 |  1 |\n",
       "| South Dakota         |  1 |  1 |  1 |  1 |  6.00 |  4 | 4 |  3 |\n",
       "| Colorado             |  0 |  0 |  0 |  0 |  5.88 |  0 | 0 |  0 |\n",
       "| Iowa                 |  1 |  1 |  0 |  1 |  5.87 |  3 | 3 |  2 |\n",
       "| New Hampshire        |  1 |  0 |  0 |  1 |  5.87 |  2 | 2 |  1 |\n",
       "| Washington           |  1 |  1 |  0 |  0 |  5.58 |  2 | 2 |  1 |\n",
       "| Utah                 |  1 |  1 |  0 |  1 |  4.89 |  3 | 3 |  2 |\n",
       "| Idaho                |  1 |  1 |  0 |  1 |  4.81 |  3 | 3 |  2 |\n",
       "| Montana              |  1 |  1 |  0 |  1 |  4.78 |  3 | 3 |  2 |\n",
       "\n"
      ],
      "text/plain": [
       "   states               ban_type ban_time ban_reason ban_method\n",
       "1  Louisiana             1        1        1          1        \n",
       "2  Mississippi           1        1        0          1        \n",
       "3  New Mexico            1        0        0          1        \n",
       "4  North Carolina        1        1        1          0        \n",
       "5  Georgia               1        1        0          1        \n",
       "6  South Carolina        1        1        0          1        \n",
       "7  Oklahoma              1        1        1          1        \n",
       "8  Rhode Island          1        1        0          1        \n",
       "9  Texas                 1        1        0          1        \n",
       "10 Delaware              1        1        0          0        \n",
       "11 Arkansas              1        1        1          1        \n",
       "12 Pennsylvania          1        1        1          0        \n",
       "13 Alabama               1        1        0          1        \n",
       "14 Florida               1        1        0          1        \n",
       "15 Nebraska              1        1        0          1        \n",
       "16 New York              1        1        0          0        \n",
       "17 Connecticut           1        1        0          0        \n",
       "18 Ohio                  1        1        1          1        \n",
       "19 United States        NA       NA       NA         NA        \n",
       "20 Indiana               1        1        1          1        \n",
       "21 California            1        1        0          0        \n",
       "22 Missouri              1        1        0          1        \n",
       "23 Minnesota             1        1        0          0        \n",
       "24 Alaska                1        0        0          1        \n",
       "25 Massachusetts         1        1        0          0        \n",
       "26 District of Columbia  0        0        0          0        \n",
       "27 Kentucky              1        1        0          1        \n",
       "28 Nevada                1        1        0          0        \n",
       "29 Arizona               1        1        1          1        \n",
       "30 Illinois              1        1        1          1        \n",
       "31 Virginia              1        1        0          1        \n",
       "32 Kansas                1        1        1          1        \n",
       "33 Maryland              0        0        0          0        \n",
       "34 Tennessee             1        1        0          1        \n",
       "35 West Virginia         1        1        0          1        \n",
       "36 New Jersey            1        0        0          1        \n",
       "37 Vermont               0        0        0          0        \n",
       "38 Michigan              1        1        0          1        \n",
       "39 Wisconsin             1        1        0          1        \n",
       "40 Oregon                0        0        0          0        \n",
       "41 Wyoming               1        1        0          0        \n",
       "42 Hawaii                0        0        0          0        \n",
       "43 North Dakota          1        1        1          1        \n",
       "44 Maine                 1        1        0          0        \n",
       "45 South Dakota          1        1        1          1        \n",
       "46 Colorado              0        0        0          0        \n",
       "47 Iowa                  1        1        0          1        \n",
       "48 New Hampshire         1        0        0          1        \n",
       "49 Washington            1        1        0          0        \n",
       "50 Utah                  1        1        0          1        \n",
       "51 Idaho                 1        1        0          1        \n",
       "52 Montana               1        1        0          1        \n",
       "   percentage_single_mothers ban_scale ban_scale2 new_ban_scale\n",
       "1  11.67                      4        4           3           \n",
       "2  11.30                      3        3           2           \n",
       "3   9.69                      2        2           1           \n",
       "4   9.53                      3        3           2           \n",
       "5   9.51                      3        3           2           \n",
       "6   8.94                      3        3           2           \n",
       "7   8.63                      4        4           3           \n",
       "8   8.28                      3        3           2           \n",
       "9   8.25                      3        3           2           \n",
       "10  8.07                      2        2           1           \n",
       "11  8.00                      4        4           3           \n",
       "12  7.91                      3        3           2           \n",
       "13  7.84                      3        3           2           \n",
       "14  7.79                      3        3           2           \n",
       "15  7.68                      3        3           2           \n",
       "16  7.68                      2        2           1           \n",
       "17  7.62                      2        2           1           \n",
       "18  7.59                      4        4           3           \n",
       "19  7.51                     NA        0          NA           \n",
       "20  7.36                      4        4           3           \n",
       "21  7.34                      2        2           1           \n",
       "22  7.27                      3        3           2           \n",
       "23  7.25                      2        2           1           \n",
       "24  7.25                      2        2           1           \n",
       "25  7.20                      2        2           1           \n",
       "26  7.19                      0        0           0           \n",
       "27  7.05                      3        3           2           \n",
       "28  7.04                      2        2           1           \n",
       "29  7.04                      4        4           3           \n",
       "30  6.97                      4        4           3           \n",
       "31  6.95                      3        3           2           \n",
       "32  6.94                      4        4           3           \n",
       "33  6.91                      0        0           0           \n",
       "34  6.70                      3        3           2           \n",
       "35  6.70                      3        3           2           \n",
       "36  6.60                      2        2           1           \n",
       "37  6.46                      0        0           0           \n",
       "38  6.44                      3        3           2           \n",
       "39  6.43                      3        3           2           \n",
       "40  6.41                      0        0           0           \n",
       "41  6.41                      2        2           1           \n",
       "42  6.22                      0        0           0           \n",
       "43  6.21                      4        4           3           \n",
       "44  6.17                      2        2           1           \n",
       "45  6.00                      4        4           3           \n",
       "46  5.88                      0        0           0           \n",
       "47  5.87                      3        3           2           \n",
       "48  5.87                      2        2           1           \n",
       "49  5.58                      2        2           1           \n",
       "50  4.89                      3        3           2           \n",
       "51  4.81                      3        3           2           \n",
       "52  4.78                      3        3           2           "
      ]
     },
     "metadata": {},
     "output_type": "display_data"
    }
   ],
   "source": [
    "#Creating a new column and applying our function to it\n",
    "df_final$ban_scale2 <- sum_columns(df_final$\"ban_type\", df_final$\"ban_time\", df_final$\"ban_reason\", df_final$\"ban_method\")\n",
    "#head(df_final)\n",
    "#summary(df_final)\n",
    "df_final"
   ]
  },
  {
   "cell_type": "code",
   "execution_count": 78,
   "metadata": {},
   "outputs": [
    {
     "data": {
      "text/plain": [
       "\n",
       "\tWelch Two Sample t-test\n",
       "\n",
       "data:  df_final$percentage_single_mothers and df_final$ban_scale2\n",
       "t = 18.58, df = 100.24, p-value < 2.2e-16\n",
       "alternative hypothesis: true difference in means is not equal to 0\n",
       "95 percent confidence interval:\n",
       " 4.237300 5.250392\n",
       "sample estimates:\n",
       "mean of x mean of y \n",
       " 7.263077  2.519231 \n"
      ]
     },
     "metadata": {},
     "output_type": "display_data"
    }
   ],
   "source": [
    "#Now we are running a T-test that is probably the wrong test\n",
    "t_test_mir <- t.test(df_final$percentage_single_mothers, df_final$ban_scale2)\n",
    "t_test_mir"
   ]
  },
  {
   "cell_type": "code",
   "execution_count": 104,
   "metadata": {},
   "outputs": [],
   "source": [
    "#Now we are reshaping our data in order to run the t-test aka subsetting, selecting, and reshaping\n",
    "\n",
    "harsh <- df_final  %>%\n",
    "    filter(ban_scale == \"3\")\n",
    "\n",
    "weak <- df_final  %>%\n",
    "    filter(ban_scale == \"0\")"
   ]
  },
  {
   "cell_type": "code",
   "execution_count": 105,
   "metadata": {},
   "outputs": [
    {
     "data": {
      "text/plain": [
       "\n",
       "\tWelch Two Sample t-test\n",
       "\n",
       "data:  harsh$percentage_single_mothers and weak$percentage_single_mothers\n",
       "t = 2.1236, df = 24.911, p-value = 0.04381\n",
       "alternative hypothesis: true difference in means is not equal to 0\n",
       "95 percent confidence interval:\n",
       " 0.02595723 1.70499515\n",
       "sample estimates:\n",
       "mean of x mean of y \n",
       " 7.377143  6.511667 \n"
      ]
     },
     "metadata": {},
     "output_type": "display_data"
    }
   ],
   "source": [
    "#Now we are running a t-test\n",
    "t_test_scale <- t.test(harsh$percentage_single_mothers, weak$percentage_single_mothers)\n",
    "t_test_scale"
   ]
  },
  {
   "cell_type": "code",
   "execution_count": 107,
   "metadata": {},
   "outputs": [
    {
     "data": {
      "text/html": [
       "<table>\n",
       "<caption>A tibble: 6 × 9</caption>\n",
       "<thead>\n",
       "\t<tr><th scope=col>states</th><th scope=col>ban_type</th><th scope=col>ban_time</th><th scope=col>ban_reason</th><th scope=col>ban_method</th><th scope=col>percentage_single_mothers</th><th scope=col>ban_scale</th><th scope=col>ban_scale2</th><th scope=col>new_ban_scale</th></tr>\n",
       "\t<tr><th scope=col>&lt;chr&gt;</th><th scope=col>&lt;dbl&gt;</th><th scope=col>&lt;dbl&gt;</th><th scope=col>&lt;dbl&gt;</th><th scope=col>&lt;dbl&gt;</th><th scope=col>&lt;dbl&gt;</th><th scope=col>&lt;dbl&gt;</th><th scope=col>&lt;dbl&gt;</th><th scope=col>&lt;dbl&gt;</th></tr>\n",
       "</thead>\n",
       "<tbody>\n",
       "\t<tr><td>Louisiana     </td><td>1</td><td>1</td><td>1</td><td>1</td><td>11.67</td><td>4</td><td>4</td><td>2</td></tr>\n",
       "\t<tr><td>Mississippi   </td><td>1</td><td>1</td><td>0</td><td>1</td><td>11.30</td><td>3</td><td>3</td><td>2</td></tr>\n",
       "\t<tr><td>New Mexico    </td><td>1</td><td>0</td><td>0</td><td>1</td><td> 9.69</td><td>2</td><td>2</td><td>1</td></tr>\n",
       "\t<tr><td>North Carolina</td><td>1</td><td>1</td><td>1</td><td>0</td><td> 9.53</td><td>3</td><td>3</td><td>1</td></tr>\n",
       "\t<tr><td>Georgia       </td><td>1</td><td>1</td><td>0</td><td>1</td><td> 9.51</td><td>3</td><td>3</td><td>2</td></tr>\n",
       "\t<tr><td>South Carolina</td><td>1</td><td>1</td><td>0</td><td>1</td><td> 8.94</td><td>3</td><td>3</td><td>2</td></tr>\n",
       "</tbody>\n",
       "</table>\n"
      ],
      "text/latex": [
       "A tibble: 6 × 9\n",
       "\\begin{tabular}{r|lllllllll}\n",
       " states & ban\\_type & ban\\_time & ban\\_reason & ban\\_method & percentage\\_single\\_mothers & ban\\_scale & ban\\_scale2 & new\\_ban\\_scale\\\\\n",
       " <chr> & <dbl> & <dbl> & <dbl> & <dbl> & <dbl> & <dbl> & <dbl> & <dbl>\\\\\n",
       "\\hline\n",
       "\t Louisiana      & 1 & 1 & 1 & 1 & 11.67 & 4 & 4 & 2\\\\\n",
       "\t Mississippi    & 1 & 1 & 0 & 1 & 11.30 & 3 & 3 & 2\\\\\n",
       "\t New Mexico     & 1 & 0 & 0 & 1 &  9.69 & 2 & 2 & 1\\\\\n",
       "\t North Carolina & 1 & 1 & 1 & 0 &  9.53 & 3 & 3 & 1\\\\\n",
       "\t Georgia        & 1 & 1 & 0 & 1 &  9.51 & 3 & 3 & 2\\\\\n",
       "\t South Carolina & 1 & 1 & 0 & 1 &  8.94 & 3 & 3 & 2\\\\\n",
       "\\end{tabular}\n"
      ],
      "text/markdown": [
       "\n",
       "A tibble: 6 × 9\n",
       "\n",
       "| states &lt;chr&gt; | ban_type &lt;dbl&gt; | ban_time &lt;dbl&gt; | ban_reason &lt;dbl&gt; | ban_method &lt;dbl&gt; | percentage_single_mothers &lt;dbl&gt; | ban_scale &lt;dbl&gt; | ban_scale2 &lt;dbl&gt; | new_ban_scale &lt;dbl&gt; |\n",
       "|---|---|---|---|---|---|---|---|---|\n",
       "| Louisiana      | 1 | 1 | 1 | 1 | 11.67 | 4 | 4 | 2 |\n",
       "| Mississippi    | 1 | 1 | 0 | 1 | 11.30 | 3 | 3 | 2 |\n",
       "| New Mexico     | 1 | 0 | 0 | 1 |  9.69 | 2 | 2 | 1 |\n",
       "| North Carolina | 1 | 1 | 1 | 0 |  9.53 | 3 | 3 | 1 |\n",
       "| Georgia        | 1 | 1 | 0 | 1 |  9.51 | 3 | 3 | 2 |\n",
       "| South Carolina | 1 | 1 | 0 | 1 |  8.94 | 3 | 3 | 2 |\n",
       "\n"
      ],
      "text/plain": [
       "  states         ban_type ban_time ban_reason ban_method\n",
       "1 Louisiana      1        1        1          1         \n",
       "2 Mississippi    1        1        0          1         \n",
       "3 New Mexico     1        0        0          1         \n",
       "4 North Carolina 1        1        1          0         \n",
       "5 Georgia        1        1        0          1         \n",
       "6 South Carolina 1        1        0          1         \n",
       "  percentage_single_mothers ban_scale ban_scale2 new_ban_scale\n",
       "1 11.67                     4         4          2            \n",
       "2 11.30                     3         3          2            \n",
       "3  9.69                     2         2          1            \n",
       "4  9.53                     3         3          1            \n",
       "5  9.51                     3         3          2            \n",
       "6  8.94                     3         3          2            "
      ]
     },
     "metadata": {},
     "output_type": "display_data"
    }
   ],
   "source": [
    "#NEW\n",
    "#Creating a column that adds all of the individual legislation into one metric for the abortion ban scale \n",
    "df_final$new_ban_scale <- df_final$ban_time + df_final$ban_method\n",
    "head(df_final)"
   ]
  },
  {
   "cell_type": "code",
   "execution_count": 108,
   "metadata": {},
   "outputs": [],
   "source": [
    "#NEW Now we doing a new filter\n",
    "new_harsh <- df_final  %>%\n",
    "    filter(new_ban_scale == \"2\")\n",
    "\n",
    "new_weak <- df_final  %>%\n",
    "    filter(new_ban_scale == \"0\")"
   ]
  },
  {
   "cell_type": "code",
   "execution_count": 109,
   "metadata": {},
   "outputs": [
    {
     "data": {
      "text/plain": [
       "\n",
       "\tWelch Two Sample t-test\n",
       "\n",
       "data:  new_harsh$percentage_single_mothers and new_weak$percentage_single_mothers\n",
       "t = 2.4186, df = 28.631, p-value = 0.02217\n",
       "alternative hypothesis: true difference in means is not equal to 0\n",
       "95 percent confidence interval:\n",
       " 0.1329571 1.5947440\n",
       "sample estimates:\n",
       "mean of x mean of y \n",
       " 7.375517  6.511667 \n"
      ]
     },
     "metadata": {},
     "output_type": "display_data"
    }
   ],
   "source": [
    "#NEW Now we are running a t-test\n",
    "new_t_test_scale <- t.test(new_harsh$percentage_single_mothers, new_weak$percentage_single_mothers)\n",
    "new_t_test_scale"
   ]
  },
  {
   "cell_type": "code",
   "execution_count": 58,
   "metadata": {},
   "outputs": [],
   "source": [
    "#INDIVIVDUAL TESTS\n",
    "#This is type filter\n",
    "type_y <- df_final  %>%\n",
    "    filter(ban_type == \"1\")\n",
    "\n",
    "type_n <- df_final  %>%\n",
    "    filter(ban_type == \"0\")"
   ]
  },
  {
   "cell_type": "code",
   "execution_count": 64,
   "metadata": {},
   "outputs": [
    {
     "data": {
      "text/plain": [
       "\n",
       "\tWelch Two Sample t-test\n",
       "\n",
       "data:  type_y$percentage_single_mothers and type_n$percentage_single_mothers\n",
       "t = 2.917, df = 21.662, p-value = 0.00807\n",
       "alternative hypothesis: true difference in means is not equal to 0\n",
       "95 percent confidence interval:\n",
       " 0.244017 1.448205\n",
       "sample estimates:\n",
       "mean of x mean of y \n",
       " 7.357778  6.511667 \n"
      ]
     },
     "metadata": {},
     "output_type": "display_data"
    }
   ],
   "source": [
    "#This is type test\n",
    "t_test_type <- t.test(type_y$percentage_single_mothers, type_n$percentage_single_mothers)\n",
    "t_test_type"
   ]
  },
  {
   "cell_type": "code",
   "execution_count": 60,
   "metadata": {},
   "outputs": [],
   "source": [
    "#This is time filter\n",
    "time_y <- df_final  %>%\n",
    "    filter(ban_time == \"1\")\n",
    "\n",
    "time_n <- df_final  %>%\n",
    "    filter(ban_time == \"0\")"
   ]
  },
  {
   "cell_type": "code",
   "execution_count": 65,
   "metadata": {},
   "outputs": [
    {
     "data": {
      "text/plain": [
       "\n",
       "\tWelch Two Sample t-test\n",
       "\n",
       "data:  time_y$percentage_single_mothers and time_n$percentage_single_mothers\n",
       "t = 1.2218, df = 17.468, p-value = 0.238\n",
       "alternative hypothesis: true difference in means is not equal to 0\n",
       "95 percent confidence interval:\n",
       " -0.3690924  1.3896778\n",
       "sample estimates:\n",
       "mean of x mean of y \n",
       " 7.358293  6.848000 \n"
      ]
     },
     "metadata": {},
     "output_type": "display_data"
    }
   ],
   "source": [
    "#This is time test\n",
    "t_test_time <- t.test(time_y$percentage_single_mothers, time_n$percentage_single_mothers)\n",
    "t_test_time"
   ]
  },
  {
   "cell_type": "code",
   "execution_count": 67,
   "metadata": {},
   "outputs": [],
   "source": [
    "#This is reason filter\n",
    "reason_y <- df_final  %>%\n",
    "    filter(ban_reason == \"1\")\n",
    "\n",
    "reason_n <- df_final  %>%\n",
    "    filter(ban_reason == \"0\")"
   ]
  },
  {
   "cell_type": "code",
   "execution_count": 68,
   "metadata": {},
   "outputs": [
    {
     "data": {
      "text/plain": [
       "\n",
       "\tWelch Two Sample t-test\n",
       "\n",
       "data:  reason_y$percentage_single_mothers and reason_n$percentage_single_mothers\n",
       "t = 1.4802, df = 16.16, p-value = 0.1581\n",
       "alternative hypothesis: true difference in means is not equal to 0\n",
       "95 percent confidence interval:\n",
       " -0.3171247  1.7885349\n",
       "sample estimates:\n",
       "mean of x mean of y \n",
       " 7.820833  7.085128 \n"
      ]
     },
     "metadata": {},
     "output_type": "display_data"
    }
   ],
   "source": [
    "#This is reason test\n",
    "t_test_reason <- t.test(reason_y$percentage_single_mothers, reason_n$percentage_single_mothers)\n",
    "t_test_reason"
   ]
  },
  {
   "cell_type": "code",
   "execution_count": 70,
   "metadata": {},
   "outputs": [],
   "source": [
    "#This is method filter\n",
    "method_y <- df_final  %>%\n",
    "    filter(ban_method == \"1\")\n",
    "\n",
    "method_n <- df_final  %>%\n",
    "    filter(ban_method == \"0\")"
   ]
  },
  {
   "cell_type": "code",
   "execution_count": 71,
   "metadata": {},
   "outputs": [
    {
     "data": {
      "text/plain": [
       "\n",
       "\tWelch Two Sample t-test\n",
       "\n",
       "data:  method_y$percentage_single_mothers and method_n$percentage_single_mothers\n",
       "t = 0.91276, df = 48.637, p-value = 0.3659\n",
       "alternative hypothesis: true difference in means is not equal to 0\n",
       "95 percent confidence interval:\n",
       " -0.3899389  1.0387268\n",
       "sample estimates:\n",
       "mean of x mean of y \n",
       " 7.372727  7.048333 \n"
      ]
     },
     "metadata": {},
     "output_type": "display_data"
    }
   ],
   "source": [
    "#This is reason test\n",
    "t_test_method <- t.test(method_y$percentage_single_mothers, method_n$percentage_single_mothers)\n",
    "t_test_method"
   ]
  },
  {
   "cell_type": "code",
   "execution_count": 57,
   "metadata": {},
   "outputs": [
    {
     "name": "stderr",
     "output_type": "stream",
     "text": [
      "Warning message in chisq.test(df_final$ban_method, df_final$percentage_single_mothers):\n",
      "“Chi-squared approximation may be incorrect”"
     ]
    },
    {
     "data": {
      "text/plain": [
       "\n",
       "\tPearson's Chi-squared test\n",
       "\n",
       "data:  df_final$ban_method and df_final$percentage_single_mothers\n",
       "X-squared = 44.432, df = 44, p-value = 0.4534\n"
      ]
     },
     "metadata": {},
     "output_type": "display_data"
    }
   ],
   "source": [
    "#Now we are trying a chi-squared test\n",
    "chsq1 <- chisq.test( df_final$percentage_single_mothers, df_final$ban_method)\n",
    "chsq1"
   ]
  },
  {
   "cell_type": "code",
   "execution_count": null,
   "metadata": {},
   "outputs": [],
   "source": [
    "###IGNORE THIS \n",
    "#Now we are creating a function to run chi squared tests for each of the four ban methods\n",
    "#create a function for the abortion ban scale to add all of the individual legislation into one metric\n",
    "#add_ban <- function(col)\n",
    "     #n <- length(col)\n",
    "    #new <- rep(0, n)\n",
    "    \n",
    "   # for(i in 1:n)\n",
    "      #new[i] <- df_final$ban_type[i] +  df_final$ban_time[i] +  df_final$ban_reason[i] + df_final$ban_\n",
    "\n",
    "\n",
    "#df_final$ban_scale <- df"
   ]
  },
  {
   "cell_type": "code",
   "execution_count": 85,
   "metadata": {},
   "outputs": [
    {
     "name": "stderr",
     "output_type": "stream",
     "text": [
      "Warning message:\n",
      "“Removed 1 rows containing non-finite values (stat_smooth).”Warning message:\n",
      "“Removed 1 rows containing missing values (geom_point).”"
     ]
    },
    {
     "data": {
      "image/png": "[encoded data removed]",
      "text/plain": [
       "plot without title"
      ]
     },
     "metadata": {},
     "output_type": "display_data"
    }
   ],
   "source": [
    "# Create a scatterplot of `num_arrests` and `homeless_arrests`\n",
    "library(ggplot2)\n",
    "\n",
    "paulplot <- ggplot(df_final, aes(x = ban_scale, y = percentage_single_mothers)) +\n",
    "                 geom_jitter(width = 0.4, height = 0.4, alpha = 0.5, col = \"mediumspringgreen\", fill = \"purple\") + \n",
    "                    geom_smooth(method = \"lm\", colour = \"deeppink\")\n",
    "paulplot + labs (title=\"Frankly Fabulous Scatterplot\", \n",
    "                   x=\"Abortion Legislation Severity Scale\", y=\"Percentage of Single Mothers\")\n",
    "\n",
    "\n",
    "#geom_smooth was extra.  I did that so I could get the line!"
   ]
  },
  {
   "cell_type": "code",
   "execution_count": 103,
   "metadata": {},
   "outputs": [
    {
     "name": "stderr",
     "output_type": "stream",
     "text": [
      "Warning message:\n",
      "“Removed 1 rows containing non-finite values (stat_bin).”"
     ]
    },
    {
     "data": {
      "image/png": "[encoded data removed]",
      "text/plain": [
       "plot without title"
      ]
     },
     "metadata": {},
     "output_type": "display_data"
    }
   ],
   "source": [
    "abortplot <- ggplot(df_final, aes(x = ban_scale)) + geom_histogram(binwidth =1, fill = \"skyblue\", col= \"blue1\") \n",
    "abortplot + labs(x=\"Abortion Legislation Severity Scale\", y=\"Count\")"
   ]
  },
  {
   "cell_type": "code",
   "execution_count": null,
   "metadata": {},
   "outputs": [],
   "source": []
  },
  {
   "cell_type": "code",
   "execution_count": null,
   "metadata": {},
   "outputs": [],
   "source": []
  }
 ],
 "metadata": {
  "kernelspec": {
   "display_name": "R",
   "language": "R",
   "name": "ir"
  },
  "language_info": {
   "codemirror_mode": "r",
   "file_extension": ".r",
   "mimetype": "text/x-r-source",
   "name": "R",
   "pygments_lexer": "r",
   "version": "3.6.1"
  }
 },
 "nbformat": 4,
 "nbformat_minor": 4
}

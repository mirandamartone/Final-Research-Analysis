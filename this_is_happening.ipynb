{
 "cells": [
  {
   "cell_type": "code",
   "execution_count": 12,
   "metadata": {},
   "outputs": [
    {
     "name": "stderr",
     "output_type": "stream",
     "text": [
      "Parsed with column specification:\n",
      "cols(\n",
      "  .default = col_double(),\n",
      "  jurisdictions = \u001b[31mcol_character()\u001b[39m,\n",
      "  `effective date` = \u001b[31mcol_character()\u001b[39m,\n",
      "  `valid through date` = \u001b[31mcol_character()\u001b[39m\n",
      ")\n",
      "See spec(...) for full column specifications.\n",
      "Parsed with column specification:\n",
      "cols(\n",
      "  states = \u001b[31mcol_character()\u001b[39m,\n",
      "  percentage_single_mothers = \u001b[32mcol_double()\u001b[39m\n",
      ")\n"
     ]
    },
    {
     "data": {
      "text/html": [
       "<table>\n",
       "<caption>A tibble: 6 × 2</caption>\n",
       "<thead>\n",
       "\t<tr><th scope=col>states</th><th scope=col>percentage_single_mothers</th></tr>\n",
       "\t<tr><th scope=col>&lt;chr&gt;</th><th scope=col>&lt;dbl&gt;</th></tr>\n",
       "</thead>\n",
       "<tbody>\n",
       "\t<tr><td>Louisiana     </td><td>11.67</td></tr>\n",
       "\t<tr><td>Mississippi   </td><td>11.30</td></tr>\n",
       "\t<tr><td>New Mexico    </td><td> 9.69</td></tr>\n",
       "\t<tr><td>North Carolina</td><td> 9.53</td></tr>\n",
       "\t<tr><td>Georgia       </td><td> 9.51</td></tr>\n",
       "\t<tr><td>South Carolina</td><td> 8.94</td></tr>\n",
       "</tbody>\n",
       "</table>\n"
      ],
      "text/latex": [
       "A tibble: 6 × 2\n",
       "\\begin{tabular}{r|ll}\n",
       " states & percentage\\_single\\_mothers\\\\\n",
       " <chr> & <dbl>\\\\\n",
       "\\hline\n",
       "\t Louisiana      & 11.67\\\\\n",
       "\t Mississippi    & 11.30\\\\\n",
       "\t New Mexico     &  9.69\\\\\n",
       "\t North Carolina &  9.53\\\\\n",
       "\t Georgia        &  9.51\\\\\n",
       "\t South Carolina &  8.94\\\\\n",
       "\\end{tabular}\n"
      ],
      "text/markdown": [
       "\n",
       "A tibble: 6 × 2\n",
       "\n",
       "| states &lt;chr&gt; | percentage_single_mothers &lt;dbl&gt; |\n",
       "|---|---|\n",
       "| Louisiana      | 11.67 |\n",
       "| Mississippi    | 11.30 |\n",
       "| New Mexico     |  9.69 |\n",
       "| North Carolina |  9.53 |\n",
       "| Georgia        |  9.51 |\n",
       "| South Carolina |  8.94 |\n",
       "\n"
      ],
      "text/plain": [
       "  states         percentage_single_mothers\n",
       "1 Louisiana      11.67                    \n",
       "2 Mississippi    11.30                    \n",
       "3 New Mexico      9.69                    \n",
       "4 North Carolina  9.53                    \n",
       "5 Georgia         9.51                    \n",
       "6 South Carolina  8.94                    "
      ]
     },
     "metadata": {},
     "output_type": "display_data"
    },
    {
     "data": {
      "text/html": [
       "<table>\n",
       "<caption>A tibble: 6 × 44</caption>\n",
       "<thead>\n",
       "\t<tr><th scope=col>jurisdictions</th><th scope=col>effective date</th><th scope=col>valid through date</th><th scope=col>bans_type</th><th scope=col>ban_time</th><th scope=col>prohibit_when_12 weeks postfertilization (14 weeks lmp)</th><th scope=col>prohibit_when_13 weeks postfertilization (15 weeks lmp)</th><th scope=col>prohibit_when_18 weeks postfertilization (20 weeks lmp)</th><th scope=col>prohibit_when20 weeks postfertilization (22 weeks lmp)</th><th scope=col>prohibit_when_22 weeks postfertilization (24 weeks lmp)</th><th scope=col>⋯</th><th scope=col>methods_procedpartial-birth abortions</th><th scope=col>methods_proceddismemberment abortions</th><th scope=col>methods_proced_saline method abortions</th><th scope=col>methods_exclife endangerment</th><th scope=col>methods_excserious health risk</th><th scope=col>methods_exc_fetal anomaly</th><th scope=col>methods_exc_no exceptions</th><th scope=col>limited_law</th><th scope=col>limited_court</th><th scope=col>limited_ag</th></tr>\n",
       "\t<tr><th scope=col>&lt;chr&gt;</th><th scope=col>&lt;chr&gt;</th><th scope=col>&lt;chr&gt;</th><th scope=col>&lt;dbl&gt;</th><th scope=col>&lt;dbl&gt;</th><th scope=col>&lt;dbl&gt;</th><th scope=col>&lt;dbl&gt;</th><th scope=col>&lt;dbl&gt;</th><th scope=col>&lt;dbl&gt;</th><th scope=col>&lt;dbl&gt;</th><th scope=col>⋯</th><th scope=col>&lt;dbl&gt;</th><th scope=col>&lt;dbl&gt;</th><th scope=col>&lt;dbl&gt;</th><th scope=col>&lt;dbl&gt;</th><th scope=col>&lt;dbl&gt;</th><th scope=col>&lt;dbl&gt;</th><th scope=col>&lt;dbl&gt;</th><th scope=col>&lt;dbl&gt;</th><th scope=col>&lt;dbl&gt;</th><th scope=col>&lt;dbl&gt;</th></tr>\n",
       "</thead>\n",
       "<tbody>\n",
       "\t<tr><td>Alabama   </td><td>10/26/2017</td><td>12/1/2018</td><td>1</td><td>1</td><td>0</td><td>0</td><td>0</td><td>1</td><td>0</td><td>⋯</td><td>1</td><td>1</td><td>0</td><td>1</td><td>1</td><td>0</td><td>0</td><td>1</td><td>1</td><td>0</td></tr>\n",
       "\t<tr><td>Alaska    </td><td>7/19/2017 </td><td>12/1/2018</td><td>1</td><td>0</td><td>3</td><td>3</td><td>3</td><td>3</td><td>3</td><td>⋯</td><td>1</td><td>0</td><td>0</td><td>0</td><td>0</td><td>0</td><td>1</td><td>0</td><td>0</td><td>0</td></tr>\n",
       "\t<tr><td>Arizona   </td><td>8/9/2017  </td><td>12/1/2018</td><td>1</td><td>1</td><td>0</td><td>0</td><td>1</td><td>0</td><td>0</td><td>⋯</td><td>1</td><td>0</td><td>0</td><td>1</td><td>0</td><td>0</td><td>0</td><td>1</td><td>1</td><td>0</td></tr>\n",
       "\t<tr><td>Arkansas  </td><td>1/1/2018  </td><td>12/1/2018</td><td>1</td><td>1</td><td>1</td><td>0</td><td>0</td><td>0</td><td>0</td><td>⋯</td><td>1</td><td>1</td><td>0</td><td>1</td><td>0</td><td>0</td><td>0</td><td>1</td><td>1</td><td>0</td></tr>\n",
       "\t<tr><td>California</td><td>1/1/2014  </td><td>12/1/2018</td><td>1</td><td>1</td><td>0</td><td>0</td><td>0</td><td>0</td><td>0</td><td>⋯</td><td>3</td><td>3</td><td>3</td><td>3</td><td>3</td><td>3</td><td>3</td><td>0</td><td>0</td><td>0</td></tr>\n",
       "\t<tr><td>Colorado  </td><td>12/1/2018 </td><td>12/1/2018</td><td>0</td><td>0</td><td>3</td><td>3</td><td>3</td><td>3</td><td>3</td><td>⋯</td><td>3</td><td>3</td><td>3</td><td>3</td><td>3</td><td>3</td><td>3</td><td>0</td><td>0</td><td>0</td></tr>\n",
       "</tbody>\n",
       "</table>\n"
      ],
      "text/latex": [
       "A tibble: 6 × 44\n",
       "\\begin{tabular}{r|llllllllllllllllllllllllllllllllllllllllllll}\n",
       " jurisdictions & effective date & valid through date & bans\\_type & ban\\_time & prohibit\\_when\\_12 weeks postfertilization (14 weeks lmp) & prohibit\\_when\\_13 weeks postfertilization (15 weeks lmp) & prohibit\\_when\\_18 weeks postfertilization (20 weeks lmp) & prohibit\\_when20 weeks postfertilization (22 weeks lmp) & prohibit\\_when\\_22 weeks postfertilization (24 weeks lmp) & prohibit\\_when\\_24 weeks postfertilization (26 weeks lmp) & prohibit\\_when\\_25 weeks postfertilization (27 weeks lmp) & prohibit\\_when\\_viability & prohibit\\_when\\_3rd trimester & prohibit\\_when\\_fetal heartbeat & prohibit\\_exclife endangerment & prohibit\\_excserious health risk & prohibit\\_exc\\_fetal anomaly & prohibit\\_exc\\_rape & prohibit\\_exc\\_incest & prohibit\\_exc\\_health & exc\\_req\\_must be performed in a hospital & exc\\_reqmust use a method most likely to result in fetal survival & exc\\_req\\_second physician must participate & exc\\_req\\_second physician must certify the exception & exc\\_req\\_two other physicians must certify the exception & exc\\_req\\_second physician must attend the abortion & exc\\_req\\_no requirements & ban\\_reason & reason\\_what\\_race & reason\\_what\\_sex & reason\\_what\\_down syndrome & reason\\_what\\_fetal anomaly & ban\\_method & methods\\_procedpartial-birth abortions & methods\\_proceddismemberment abortions & methods\\_proced\\_saline method abortions & methods\\_exclife endangerment & methods\\_excserious health risk & methods\\_exc\\_fetal anomaly & methods\\_exc\\_no exceptions & limited\\_law & limited\\_court & limited\\_ag\\\\\n",
       " <chr> & <chr> & <chr> & <dbl> & <dbl> & <dbl> & <dbl> & <dbl> & <dbl> & <dbl> & <dbl> & <dbl> & <dbl> & <dbl> & <dbl> & <dbl> & <dbl> & <dbl> & <dbl> & <dbl> & <dbl> & <dbl> & <dbl> & <dbl> & <dbl> & <dbl> & <dbl> & <dbl> & <dbl> & <dbl> & <dbl> & <dbl> & <dbl> & <dbl> & <dbl> & <dbl> & <dbl> & <dbl> & <dbl> & <dbl> & <dbl> & <dbl> & <dbl> & <dbl>\\\\\n",
       "\\hline\n",
       "\t Alabama    & 10/26/2017 & 12/1/2018 & 1 & 1 & 0 & 0 & 0 & 1 & 0 & 0 & 0 & 0 & 0 & 0 & 1 & 1 & 0 & 0 & 0 & 0 & 0 & 1 & 0 & 0 & 0 & 0 & 0 & 0 & 3 & 3 & 3 & 3 & 1 & 1 & 1 & 0 & 1 & 1 & 0 & 0 & 1 & 1 & 0\\\\\n",
       "\t Alaska     & 7/19/2017  & 12/1/2018 & 1 & 0 & 3 & 3 & 3 & 3 & 3 & 3 & 3 & 3 & 3 & 3 & 3 & 3 & 3 & 3 & 3 & 3 & 3 & 3 & 3 & 3 & 3 & 3 & 3 & 0 & 3 & 3 & 3 & 3 & 1 & 1 & 0 & 0 & 0 & 0 & 0 & 1 & 0 & 0 & 0\\\\\n",
       "\t Arizona    & 8/9/2017   & 12/1/2018 & 1 & 1 & 0 & 0 & 1 & 0 & 0 & 0 & 0 & 0 & 0 & 0 & 1 & 1 & 0 & 0 & 0 & 0 & 0 & 0 & 0 & 0 & 0 & 0 & 1 & 1 & 1 & 1 & 0 & 0 & 1 & 1 & 0 & 0 & 1 & 0 & 0 & 0 & 1 & 1 & 0\\\\\n",
       "\t Arkansas   & 1/1/2018   & 12/1/2018 & 1 & 1 & 1 & 0 & 0 & 0 & 0 & 0 & 0 & 0 & 0 & 0 & 1 & 1 & 1 & 1 & 1 & 0 & 0 & 0 & 0 & 0 & 0 & 0 & 1 & 1 & 0 & 1 & 0 & 0 & 1 & 1 & 1 & 0 & 1 & 0 & 0 & 0 & 1 & 1 & 0\\\\\n",
       "\t California & 1/1/2014   & 12/1/2018 & 1 & 1 & 0 & 0 & 0 & 0 & 0 & 0 & 0 & 1 & 0 & 0 & 1 & 1 & 0 & 0 & 0 & 0 & 0 & 0 & 0 & 0 & 0 & 0 & 1 & 0 & 3 & 3 & 3 & 3 & 0 & 3 & 3 & 3 & 3 & 3 & 3 & 3 & 0 & 0 & 0\\\\\n",
       "\t Colorado   & 12/1/2018  & 12/1/2018 & 0 & 0 & 3 & 3 & 3 & 3 & 3 & 3 & 3 & 3 & 3 & 3 & 3 & 3 & 3 & 3 & 3 & 3 & 3 & 3 & 3 & 3 & 3 & 3 & 3 & 0 & 3 & 3 & 3 & 3 & 0 & 3 & 3 & 3 & 3 & 3 & 3 & 3 & 0 & 0 & 0\\\\\n",
       "\\end{tabular}\n"
      ],
      "text/markdown": [
       "\n",
       "A tibble: 6 × 44\n",
       "\n",
       "| jurisdictions &lt;chr&gt; | effective date &lt;chr&gt; | valid through date &lt;chr&gt; | bans_type &lt;dbl&gt; | ban_time &lt;dbl&gt; | prohibit_when_12 weeks postfertilization (14 weeks lmp) &lt;dbl&gt; | prohibit_when_13 weeks postfertilization (15 weeks lmp) &lt;dbl&gt; | prohibit_when_18 weeks postfertilization (20 weeks lmp) &lt;dbl&gt; | prohibit_when20 weeks postfertilization (22 weeks lmp) &lt;dbl&gt; | prohibit_when_22 weeks postfertilization (24 weeks lmp) &lt;dbl&gt; | ⋯ ⋯ | methods_procedpartial-birth abortions &lt;dbl&gt; | methods_proceddismemberment abortions &lt;dbl&gt; | methods_proced_saline method abortions &lt;dbl&gt; | methods_exclife endangerment &lt;dbl&gt; | methods_excserious health risk &lt;dbl&gt; | methods_exc_fetal anomaly &lt;dbl&gt; | methods_exc_no exceptions &lt;dbl&gt; | limited_law &lt;dbl&gt; | limited_court &lt;dbl&gt; | limited_ag &lt;dbl&gt; |\n",
       "|---|---|---|---|---|---|---|---|---|---|---|---|---|---|---|---|---|---|---|---|---|\n",
       "| Alabama    | 10/26/2017 | 12/1/2018 | 1 | 1 | 0 | 0 | 0 | 1 | 0 | ⋯ | 1 | 1 | 0 | 1 | 1 | 0 | 0 | 1 | 1 | 0 |\n",
       "| Alaska     | 7/19/2017  | 12/1/2018 | 1 | 0 | 3 | 3 | 3 | 3 | 3 | ⋯ | 1 | 0 | 0 | 0 | 0 | 0 | 1 | 0 | 0 | 0 |\n",
       "| Arizona    | 8/9/2017   | 12/1/2018 | 1 | 1 | 0 | 0 | 1 | 0 | 0 | ⋯ | 1 | 0 | 0 | 1 | 0 | 0 | 0 | 1 | 1 | 0 |\n",
       "| Arkansas   | 1/1/2018   | 12/1/2018 | 1 | 1 | 1 | 0 | 0 | 0 | 0 | ⋯ | 1 | 1 | 0 | 1 | 0 | 0 | 0 | 1 | 1 | 0 |\n",
       "| California | 1/1/2014   | 12/1/2018 | 1 | 1 | 0 | 0 | 0 | 0 | 0 | ⋯ | 3 | 3 | 3 | 3 | 3 | 3 | 3 | 0 | 0 | 0 |\n",
       "| Colorado   | 12/1/2018  | 12/1/2018 | 0 | 0 | 3 | 3 | 3 | 3 | 3 | ⋯ | 3 | 3 | 3 | 3 | 3 | 3 | 3 | 0 | 0 | 0 |\n",
       "\n"
      ],
      "text/plain": [
       "  jurisdictions effective date valid through date bans_type ban_time\n",
       "1 Alabama       10/26/2017     12/1/2018          1         1       \n",
       "2 Alaska        7/19/2017      12/1/2018          1         0       \n",
       "3 Arizona       8/9/2017       12/1/2018          1         1       \n",
       "4 Arkansas      1/1/2018       12/1/2018          1         1       \n",
       "5 California    1/1/2014       12/1/2018          1         1       \n",
       "6 Colorado      12/1/2018      12/1/2018          0         0       \n",
       "  prohibit_when_12 weeks postfertilization (14 weeks lmp)\n",
       "1 0                                                      \n",
       "2 3                                                      \n",
       "3 0                                                      \n",
       "4 1                                                      \n",
       "5 0                                                      \n",
       "6 3                                                      \n",
       "  prohibit_when_13 weeks postfertilization (15 weeks lmp)\n",
       "1 0                                                      \n",
       "2 3                                                      \n",
       "3 0                                                      \n",
       "4 0                                                      \n",
       "5 0                                                      \n",
       "6 3                                                      \n",
       "  prohibit_when_18 weeks postfertilization (20 weeks lmp)\n",
       "1 0                                                      \n",
       "2 3                                                      \n",
       "3 1                                                      \n",
       "4 0                                                      \n",
       "5 0                                                      \n",
       "6 3                                                      \n",
       "  prohibit_when20 weeks postfertilization (22 weeks lmp)\n",
       "1 1                                                     \n",
       "2 3                                                     \n",
       "3 0                                                     \n",
       "4 0                                                     \n",
       "5 0                                                     \n",
       "6 3                                                     \n",
       "  prohibit_when_22 weeks postfertilization (24 weeks lmp) ⋯\n",
       "1 0                                                       ⋯\n",
       "2 3                                                       ⋯\n",
       "3 0                                                       ⋯\n",
       "4 0                                                       ⋯\n",
       "5 0                                                       ⋯\n",
       "6 3                                                       ⋯\n",
       "  methods_procedpartial-birth abortions methods_proceddismemberment abortions\n",
       "1 1                                     1                                    \n",
       "2 1                                     0                                    \n",
       "3 1                                     0                                    \n",
       "4 1                                     1                                    \n",
       "5 3                                     3                                    \n",
       "6 3                                     3                                    \n",
       "  methods_proced_saline method abortions methods_exclife endangerment\n",
       "1 0                                      1                           \n",
       "2 0                                      0                           \n",
       "3 0                                      1                           \n",
       "4 0                                      1                           \n",
       "5 3                                      3                           \n",
       "6 3                                      3                           \n",
       "  methods_excserious health risk methods_exc_fetal anomaly\n",
       "1 1                              0                        \n",
       "2 0                              0                        \n",
       "3 0                              0                        \n",
       "4 0                              0                        \n",
       "5 3                              3                        \n",
       "6 3                              3                        \n",
       "  methods_exc_no exceptions limited_law limited_court limited_ag\n",
       "1 0                         1           1             0         \n",
       "2 1                         0           0             0         \n",
       "3 0                         1           1             0         \n",
       "4 0                         1           1             0         \n",
       "5 3                         0           0             0         \n",
       "6 3                         0           0             0         "
      ]
     },
     "metadata": {},
     "output_type": "display_data"
    }
   ],
   "source": [
    "library(readr)\n",
    "\n",
    "df_abort <- read_csv(\"2065 Final Abortion.csv\")\n",
    "df_sm <- read_csv(\"2065 Final Single Mothers.csv\")\n",
    "\n",
    "head(df_sm)\n",
    "head(df_abort)"
   ]
  },
  {
   "cell_type": "code",
   "execution_count": 14,
   "metadata": {},
   "outputs": [
    {
     "data": {
      "text/html": [
       "<ol class=list-inline>\n",
       "\t<li>'Louisiana'</li>\n",
       "\t<li>'Mississippi'</li>\n",
       "\t<li>'New Mexico'</li>\n",
       "\t<li>'North Carolina'</li>\n",
       "\t<li>'Georgia'</li>\n",
       "\t<li>'South Carolina'</li>\n",
       "</ol>\n"
      ],
      "text/latex": [
       "\\begin{enumerate*}\n",
       "\\item 'Louisiana'\n",
       "\\item 'Mississippi'\n",
       "\\item 'New Mexico'\n",
       "\\item 'North Carolina'\n",
       "\\item 'Georgia'\n",
       "\\item 'South Carolina'\n",
       "\\end{enumerate*}\n"
      ],
      "text/markdown": [
       "1. 'Louisiana'\n",
       "2. 'Mississippi'\n",
       "3. 'New Mexico'\n",
       "4. 'North Carolina'\n",
       "5. 'Georgia'\n",
       "6. 'South Carolina'\n",
       "\n",
       "\n"
      ],
      "text/plain": [
       "[1] \"Louisiana\"      \"Mississippi\"    \"New Mexico\"     \"North Carolina\"\n",
       "[5] \"Georgia\"        \"South Carolina\""
      ]
     },
     "metadata": {},
     "output_type": "display_data"
    }
   ],
   "source": [
    "states <- df_sm$\"states\"\n",
    "head(states)"
   ]
  },
  {
   "cell_type": "code",
   "execution_count": null,
   "metadata": {},
   "outputs": [],
   "source": []
  }
 ],
 "metadata": {
  "kernelspec": {
   "display_name": "R",
   "language": "R",
   "name": "ir"
  },
  "language_info": {
   "codemirror_mode": "r",
   "file_extension": ".r",
   "mimetype": "text/x-r-source",
   "name": "R",
   "pygments_lexer": "r",
   "version": "3.6.1"
  }
 },
 "nbformat": 4,
 "nbformat_minor": 4
}
